{
 "cells": [
  {
   "cell_type": "code",
   "execution_count": null,
   "metadata": {},
   "outputs": [],
   "source": [
    "from stem import Signal\n",
    "from stem.control import Controller\n",
    "from selenium import webdriver\n",
    "from selenium.webdriver.firefox.options import Options\n",
    "from bs4 import BeautifulSoup\n",
    "\n",
    "# signal TOR for a new connection\n",
    "def switchIP():\n",
    "    with Controller.from_port(port = 9051) as controller:\n",
    "        controller.authenticate()\n",
    "        controller.signal(Signal.NEWNYM)\n",
    "\n",
    "# get a new selenium webdriver with tor as the proxy\n",
    "def my_proxy(PROXY_HOST,PROXY_PORT):\n",
    "    fp = webdriver.FirefoxProfile()\n",
    "    # Direct = 0, Manual = 1, PAC = 2, AUTODETECT = 4, SYSTEM = 5\n",
    "    fp.set_preference(\"network.proxy.type\", 1)\n",
    "    fp.set_preference(\"network.proxy.socks\",PROXY_HOST)\n",
    "    fp.set_preference(\"network.proxy.socks_port\",int(PROXY_PORT))\n",
    "    fp.update_preferences()\n",
    "    options = Options()\n",
    "    options.headless = True\n",
    "    return webdriver.Firefox(options=options, firefox_profile=fp)\n",
    "\n",
    "for x in range(10):\n",
    "    proxy = my_proxy(\"127.0.0.1\", 9050)\n",
    "    proxy.get(\"https://whatsmyip.com/\")\n",
    "    html = proxy.page_source\n",
    "    soup = BeautifulSoup(html, 'lxml')\n",
    "    print(soup.find(\"span\", {\"id\": \"ipv4\"}))\n",
    "    print(soup.find(\"span\", {\"id\": \"ipv6\"}))\n",
    "    switchIP()"
   ]
  },
  {
   "cell_type": "code",
   "execution_count": 16,
   "metadata": {},
   "outputs": [],
   "source": [
    "from selenium import webdriver\n",
    "from selenium.webdriver.firefox.firefox_profile import FirefoxProfile\n",
    "import os\n",
    "torexe = os.popen(r'C:\\Users\\marti\\Desktop\\Tor Browser\\Browser\\TorBrowser\\Tor')\n",
    "profile = FirefoxProfile(r'C:\\Users\\marti\\Desktop\\Tor Browser\\Browser\\TorBrowser\\Data\\Browser\\profile.default')\n",
    "profile.set_preference('network.proxy.type', 1)\n",
    "profile.set_preference('network.proxy.socks', '127.0.0.1')\n",
    "profile.set_preference('network.proxy.socks_port', 9150)\n",
    "profile.set_preference(\"network.proxy.socks_remote_dns\", False)\n",
    "profile.update_preferences()\n",
    "driver = webdriver.Firefox(firefox_profile= profile, executable_path=r'C:\\Users\\marti\\Anaconda3\\envs\\webscraping\\geckodriver.exe')\n",
    "# driver = webdriver.Firefox(executable_path=r'C:\\Users\\marti\\Anaconda3\\envs\\webscraping\\geckodriver.exe')\n",
    "driver.get(\"http://check.torproject.org\")"
   ]
  }
 ],
 "metadata": {
  "kernelspec": {
   "display_name": "webscraping",
   "language": "python",
   "name": "webscraping"
  },
  "language_info": {
   "codemirror_mode": {
    "name": "ipython",
    "version": 3
   },
   "file_extension": ".py",
   "mimetype": "text/x-python",
   "name": "python",
   "nbconvert_exporter": "python",
   "pygments_lexer": "ipython3",
   "version": "3.6.7"
  }
 },
 "nbformat": 4,
 "nbformat_minor": 2
}

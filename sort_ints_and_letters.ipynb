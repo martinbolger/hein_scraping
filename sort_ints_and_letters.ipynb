{
 "cells": [
  {
   "cell_type": "code",
   "execution_count": 76,
   "metadata": {},
   "outputs": [],
   "source": [
    "test_string = 'a45feth24uwroi3wqhrp9ufup4woenf93wa998'\n",
    "test_list = list(test_string)"
   ]
  },
  {
   "cell_type": "code",
   "execution_count": 77,
   "metadata": {},
   "outputs": [],
   "source": [
    "ints = [(True, x) if ord(x) <= ord('9') else (False, x) for x in test_list]"
   ]
  },
  {
   "cell_type": "code",
   "execution_count": 78,
   "metadata": {},
   "outputs": [],
   "source": [
    "str_list = sorted([x[1] for x in ints if x[0] == False])\n",
    "int_list = sorted([x[1] for x in ints if x[0] == True])"
   ]
  },
  {
   "cell_type": "code",
   "execution_count": 79,
   "metadata": {},
   "outputs": [],
   "source": [
    "sorted_list = []\n",
    "for x in ints:\n",
    "    if x[0] == True:\n",
    "        sorted_list.append(int_list.pop(0))\n",
    "    elif x[0] == False:\n",
    "        sorted_list.append(str_list.pop(0))"
   ]
  },
  {
   "cell_type": "code",
   "execution_count": 80,
   "metadata": {},
   "outputs": [
    {
     "data": {
      "text/plain": [
       "['a',\n",
       " '2',\n",
       " '3',\n",
       " 'a',\n",
       " 'e',\n",
       " 'e',\n",
       " 'f',\n",
       " '3',\n",
       " '4',\n",
       " 'f',\n",
       " 'f',\n",
       " 'h',\n",
       " 'h',\n",
       " 'i',\n",
       " '4',\n",
       " 'n',\n",
       " 'o',\n",
       " 'o',\n",
       " 'p',\n",
       " 'p',\n",
       " '4',\n",
       " 'q',\n",
       " 'r',\n",
       " 'r',\n",
       " 't',\n",
       " '5',\n",
       " 'u',\n",
       " 'u',\n",
       " 'u',\n",
       " 'w',\n",
       " 'w',\n",
       " '8',\n",
       " '9',\n",
       " 'w',\n",
       " 'w',\n",
       " '9',\n",
       " '9',\n",
       " '9']"
      ]
     },
     "execution_count": 80,
     "metadata": {},
     "output_type": "execute_result"
    }
   ],
   "source": [
    "sorted_list"
   ]
  },
  {
   "cell_type": "code",
   "execution_count": null,
   "metadata": {},
   "outputs": [],
   "source": []
  }
 ],
 "metadata": {
  "kernelspec": {
   "display_name": "Python 3",
   "language": "python",
   "name": "python3"
  },
  "language_info": {
   "codemirror_mode": {
    "name": "ipython",
    "version": 3
   },
   "file_extension": ".py",
   "mimetype": "text/x-python",
   "name": "python",
   "nbconvert_exporter": "python",
   "pygments_lexer": "ipython3",
   "version": "3.7.1"
  }
 },
 "nbformat": 4,
 "nbformat_minor": 2
}

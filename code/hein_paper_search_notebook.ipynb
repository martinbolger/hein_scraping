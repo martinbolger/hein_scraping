{
 "metadata": {
  "language_info": {
   "codemirror_mode": {
    "name": "ipython",
    "version": 3
   },
   "file_extension": ".py",
   "mimetype": "text/x-python",
   "name": "python",
   "nbconvert_exporter": "python",
   "pygments_lexer": "ipython3",
   "version": "3.8.5"
  },
  "orig_nbformat": 2,
  "kernelspec": {
   "name": "python3",
   "display_name": "Python 3.8.5 64-bit ('selenium_env': conda)"
  },
  "interpreter": {
   "hash": "a6b47012f14d21a47a116f37ec44e00a94b21aded5509aefe8b70d4e685c6dab"
  }
 },
 "nbformat": 4,
 "nbformat_minor": 2,
 "cells": [
  {
   "cell_type": "code",
   "execution_count": 1,
   "metadata": {},
   "outputs": [],
   "source": [
    "from selenium import webdriver\n",
    "from selenium.webdriver.chrome.options import Options\n",
    "import pandas as pd\n",
    "import bs4 as bs\n",
    "import os\n",
    "import numpy as np\n",
    "import re\n",
    "import time\n",
    "from selenium.webdriver.common.keys import Keys\n",
    "import nltk\n",
    "import requests\n",
    "import random\n",
    "import math\n",
    "import pathlib \n",
    "import modules.hein_scraping_functions\n",
    "\n",
    "from modules.create_path import create_path\n",
    "from modules.hein_scraping_functions import create_browser, webpage_wait, search_hein_for_cites"
   ]
  },
  {
   "cell_type": "code",
   "execution_count": 2,
   "metadata": {},
   "outputs": [],
   "source": [
    "# Create the paths for the data directories\n",
    "input_path, work_path, intr_path, out_path, selenium_driver_path = create_path()\n",
    "\n",
    "# Create the paths for the Chrome binary and selenium driver\n",
    "chrome_binary_path = pathlib.Path(\"C:\\\\Program Files (x86)\\\\BraveSoftware\\\\Brave-Browser\\\\Application\\\\brave.exe\")\n",
    "selenium_driver_full_path = selenium_driver_path / \"chromedriver.exe\"\n",
    "\n",
    "# Initalize the browsers that we are going to use\n",
    "driver = create_browser(chrome_binary_path, selenium_driver_full_path)\n",
    "\n",
    "driver.get(\"http://proxy.its.virginia.edu/login?url=http://heinonline.org/HOL/Welcome\")\n"
   ]
  },
  {
   "cell_type": "code",
   "execution_count": 3,
   "metadata": {},
   "outputs": [
    {
     "output_type": "execute_result",
     "data": {
      "text/plain": [
       "       ID                                              Title PaperType  \\\n",
       "0      60  The Condorcet Jury Thereon and the Expressive ...   article   \n",
       "1    1093              A New Angle on Rules versus Standards   article   \n",
       "2      87  Penalty Enhancement for Hate Crimes: An Econom...   article   \n",
       "3    1133                   A Theory of Justices' Retirement   article   \n",
       "4     127  Damage Caps And The Labor Supply of Physicians...   article   \n",
       "..    ...                                                ...       ...   \n",
       "414   260  European Communities - Anti-Dumping Duties on ...   article   \n",
       "415   260  The Zeroing Issue: A Critical Analysis of Soft...   article   \n",
       "416   242  The Role of the Director-General and Secretari...   article   \n",
       "417   260  Chile - Price Band System and Safeguard Measur...     notes   \n",
       "418   260  A Preference for Development: The Law and Econ...   article   \n",
       "\n",
       "                                               Authors BBCiteYear  \\\n",
       "0    Dharmapala, Dhammika (Cited 95 times); McAdams...       2003   \n",
       "1    Friedman, Ezra (Cited 22 times); Wickelgren, A...       2014   \n",
       "2    Dharmapala, Dhammika (Cited 95 times); Garoupa...       2004   \n",
       "3    Bustos, Alvaro (Cited 2 times); Jacobi, Tonja ...       2015   \n",
       "4    Paik, Myungho (Cited 29 times); Black, Bernard...       2016   \n",
       "..                                                 ...        ...   \n",
       "414  Grossman, Gene M. (Cited 34 times); Sykes, Ala...       2006   \n",
       "415  Bown, Chad P. (Cited 89 times); Sykes, Alan O....       2008   \n",
       "416                 Shaffer, Gregory (Cited 964 times)       2005   \n",
       "417  Bagwell, Kyle (Cited 41 times); Sykes, Alan O....       2004   \n",
       "418  Grossman, Gene M. (Cited 34 times); Sykes, Ala...       2005   \n",
       "\n",
       "     BBCiteYearFirst  ArticleCites  CaseCites  Accessed  \\\n",
       "0               2003             0          0         0   \n",
       "1               2014             0          0         0   \n",
       "2               2004             0          0         0   \n",
       "3               2015             0          0         0   \n",
       "4               2016             0          0         0   \n",
       "..               ...           ...        ...       ...   \n",
       "414             2006             0          0         1   \n",
       "415             2008             1          0         4   \n",
       "416             2005             3          0         9   \n",
       "417             2004             1          0         6   \n",
       "418             2005             5          0        32   \n",
       "\n",
       "                               Journal  VolFirst  Year    Pages  \\\n",
       "0    American Law and Economics Review         5  2003     1-31   \n",
       "1    American Law and Economics Review        16  2014  499-549   \n",
       "2    American Law and Economics Review         6  2004  185-207   \n",
       "3    American Law and Economics Review        17  2015  529-565   \n",
       "4    American Law and Economics Review        18  2016  463-505   \n",
       "..                                 ...       ...   ...      ...   \n",
       "414                 World Trade Review         5  2006    11-30   \n",
       "415                 World Trade Review         7  2008  121-142   \n",
       "416                 World Trade Review         4  2005  429-438   \n",
       "417                 World Trade Review         3  2004  507-528   \n",
       "418                 World Trade Review         4  2005    41-68   \n",
       "\n",
       "                    Search Term 1 Search Term 2  \n",
       "0       \"5 Am. L. & Econ. Rev. 1\"           NaN  \n",
       "1    \"16 Am. L. & Econ. Rev. 499\"           NaN  \n",
       "2     \"6 Am. L. & Econ. Rev. 185\"           NaN  \n",
       "3    \"17 Am. L. & Econ. Rev. 529\"           NaN  \n",
       "4    \"18 Am. L. & Econ. Rev. 463\"           NaN  \n",
       "..                            ...           ...  \n",
       "414       \"5 World Trade Rev. 11\"           NaN  \n",
       "415      \"7 World Trade Rev. 121\"           NaN  \n",
       "416      \"4 World Trade Rev. 429\"           NaN  \n",
       "417      \"3 World Trade Rev. 507\"           NaN  \n",
       "418       \"4 World Trade Rev. 41\"           NaN  \n",
       "\n",
       "[419 rows x 15 columns]"
      ],
      "text/html": "<div>\n<style scoped>\n    .dataframe tbody tr th:only-of-type {\n        vertical-align: middle;\n    }\n\n    .dataframe tbody tr th {\n        vertical-align: top;\n    }\n\n    .dataframe thead th {\n        text-align: right;\n    }\n</style>\n<table border=\"1\" class=\"dataframe\">\n  <thead>\n    <tr style=\"text-align: right;\">\n      <th></th>\n      <th>ID</th>\n      <th>Title</th>\n      <th>PaperType</th>\n      <th>Authors</th>\n      <th>BBCiteYear</th>\n      <th>BBCiteYearFirst</th>\n      <th>ArticleCites</th>\n      <th>CaseCites</th>\n      <th>Accessed</th>\n      <th>Journal</th>\n      <th>VolFirst</th>\n      <th>Year</th>\n      <th>Pages</th>\n      <th>Search Term 1</th>\n      <th>Search Term 2</th>\n    </tr>\n  </thead>\n  <tbody>\n    <tr>\n      <th>0</th>\n      <td>60</td>\n      <td>The Condorcet Jury Thereon and the Expressive ...</td>\n      <td>article</td>\n      <td>Dharmapala, Dhammika (Cited 95 times); McAdams...</td>\n      <td>2003</td>\n      <td>2003</td>\n      <td>0</td>\n      <td>0</td>\n      <td>0</td>\n      <td>American Law and Economics Review</td>\n      <td>5</td>\n      <td>2003</td>\n      <td>1-31</td>\n      <td>\"5 Am. L. &amp; Econ. Rev. 1\"</td>\n      <td>NaN</td>\n    </tr>\n    <tr>\n      <th>1</th>\n      <td>1093</td>\n      <td>A New Angle on Rules versus Standards</td>\n      <td>article</td>\n      <td>Friedman, Ezra (Cited 22 times); Wickelgren, A...</td>\n      <td>2014</td>\n      <td>2014</td>\n      <td>0</td>\n      <td>0</td>\n      <td>0</td>\n      <td>American Law and Economics Review</td>\n      <td>16</td>\n      <td>2014</td>\n      <td>499-549</td>\n      <td>\"16 Am. L. &amp; Econ. Rev. 499\"</td>\n      <td>NaN</td>\n    </tr>\n    <tr>\n      <th>2</th>\n      <td>87</td>\n      <td>Penalty Enhancement for Hate Crimes: An Econom...</td>\n      <td>article</td>\n      <td>Dharmapala, Dhammika (Cited 95 times); Garoupa...</td>\n      <td>2004</td>\n      <td>2004</td>\n      <td>0</td>\n      <td>0</td>\n      <td>0</td>\n      <td>American Law and Economics Review</td>\n      <td>6</td>\n      <td>2004</td>\n      <td>185-207</td>\n      <td>\"6 Am. L. &amp; Econ. Rev. 185\"</td>\n      <td>NaN</td>\n    </tr>\n    <tr>\n      <th>3</th>\n      <td>1133</td>\n      <td>A Theory of Justices' Retirement</td>\n      <td>article</td>\n      <td>Bustos, Alvaro (Cited 2 times); Jacobi, Tonja ...</td>\n      <td>2015</td>\n      <td>2015</td>\n      <td>0</td>\n      <td>0</td>\n      <td>0</td>\n      <td>American Law and Economics Review</td>\n      <td>17</td>\n      <td>2015</td>\n      <td>529-565</td>\n      <td>\"17 Am. L. &amp; Econ. Rev. 529\"</td>\n      <td>NaN</td>\n    </tr>\n    <tr>\n      <th>4</th>\n      <td>127</td>\n      <td>Damage Caps And The Labor Supply of Physicians...</td>\n      <td>article</td>\n      <td>Paik, Myungho (Cited 29 times); Black, Bernard...</td>\n      <td>2016</td>\n      <td>2016</td>\n      <td>0</td>\n      <td>0</td>\n      <td>0</td>\n      <td>American Law and Economics Review</td>\n      <td>18</td>\n      <td>2016</td>\n      <td>463-505</td>\n      <td>\"18 Am. L. &amp; Econ. Rev. 463\"</td>\n      <td>NaN</td>\n    </tr>\n    <tr>\n      <th>...</th>\n      <td>...</td>\n      <td>...</td>\n      <td>...</td>\n      <td>...</td>\n      <td>...</td>\n      <td>...</td>\n      <td>...</td>\n      <td>...</td>\n      <td>...</td>\n      <td>...</td>\n      <td>...</td>\n      <td>...</td>\n      <td>...</td>\n      <td>...</td>\n      <td>...</td>\n    </tr>\n    <tr>\n      <th>414</th>\n      <td>260</td>\n      <td>European Communities - Anti-Dumping Duties on ...</td>\n      <td>article</td>\n      <td>Grossman, Gene M. (Cited 34 times); Sykes, Ala...</td>\n      <td>2006</td>\n      <td>2006</td>\n      <td>0</td>\n      <td>0</td>\n      <td>1</td>\n      <td>World Trade Review</td>\n      <td>5</td>\n      <td>2006</td>\n      <td>11-30</td>\n      <td>\"5 World Trade Rev. 11\"</td>\n      <td>NaN</td>\n    </tr>\n    <tr>\n      <th>415</th>\n      <td>260</td>\n      <td>The Zeroing Issue: A Critical Analysis of Soft...</td>\n      <td>article</td>\n      <td>Bown, Chad P. (Cited 89 times); Sykes, Alan O....</td>\n      <td>2008</td>\n      <td>2008</td>\n      <td>1</td>\n      <td>0</td>\n      <td>4</td>\n      <td>World Trade Review</td>\n      <td>7</td>\n      <td>2008</td>\n      <td>121-142</td>\n      <td>\"7 World Trade Rev. 121\"</td>\n      <td>NaN</td>\n    </tr>\n    <tr>\n      <th>416</th>\n      <td>242</td>\n      <td>The Role of the Director-General and Secretari...</td>\n      <td>article</td>\n      <td>Shaffer, Gregory (Cited 964 times)</td>\n      <td>2005</td>\n      <td>2005</td>\n      <td>3</td>\n      <td>0</td>\n      <td>9</td>\n      <td>World Trade Review</td>\n      <td>4</td>\n      <td>2005</td>\n      <td>429-438</td>\n      <td>\"4 World Trade Rev. 429\"</td>\n      <td>NaN</td>\n    </tr>\n    <tr>\n      <th>417</th>\n      <td>260</td>\n      <td>Chile - Price Band System and Safeguard Measur...</td>\n      <td>notes</td>\n      <td>Bagwell, Kyle (Cited 41 times); Sykes, Alan O....</td>\n      <td>2004</td>\n      <td>2004</td>\n      <td>1</td>\n      <td>0</td>\n      <td>6</td>\n      <td>World Trade Review</td>\n      <td>3</td>\n      <td>2004</td>\n      <td>507-528</td>\n      <td>\"3 World Trade Rev. 507\"</td>\n      <td>NaN</td>\n    </tr>\n    <tr>\n      <th>418</th>\n      <td>260</td>\n      <td>A Preference for Development: The Law and Econ...</td>\n      <td>article</td>\n      <td>Grossman, Gene M. (Cited 34 times); Sykes, Ala...</td>\n      <td>2005</td>\n      <td>2005</td>\n      <td>5</td>\n      <td>0</td>\n      <td>32</td>\n      <td>World Trade Review</td>\n      <td>4</td>\n      <td>2005</td>\n      <td>41-68</td>\n      <td>\"4 World Trade Rev. 41\"</td>\n      <td>NaN</td>\n    </tr>\n  </tbody>\n</table>\n<p>419 rows × 15 columns</p>\n</div>"
     },
     "metadata": {},
     "execution_count": 3
    }
   ],
   "source": [
    "# Load the dataset from the input directory\n",
    "paper_df = pd.read_excel(input_path / \"paper_search.xlsx\", sheet_name='Sheet1')\n",
    "paper_df"
   ]
  },
  {
   "cell_type": "code",
   "execution_count": 13,
   "metadata": {},
   "outputs": [
    {
     "output_type": "execute_result",
     "data": {
      "text/plain": [
       "       ID                                              Title PaperType  \\\n",
       "0      60  The Condorcet Jury Thereon and the Expressive ...   article   \n",
       "1    1093              A New Angle on Rules versus Standards   article   \n",
       "2      87  Penalty Enhancement for Hate Crimes: An Econom...   article   \n",
       "3    1133                   A Theory of Justices' Retirement   article   \n",
       "4     127  Damage Caps And The Labor Supply of Physicians...   article   \n",
       "..    ...                                                ...       ...   \n",
       "414   260  European Communities - Anti-Dumping Duties on ...   article   \n",
       "415   260  The Zeroing Issue: A Critical Analysis of Soft...   article   \n",
       "416   242  The Role of the Director-General and Secretari...   article   \n",
       "417   260  Chile - Price Band System and Safeguard Measur...     notes   \n",
       "418   260  A Preference for Development: The Law and Econ...   article   \n",
       "\n",
       "                                               Authors BBCiteYear  \\\n",
       "0    Dharmapala, Dhammika (Cited 95 times); McAdams...       2003   \n",
       "1    Friedman, Ezra (Cited 22 times); Wickelgren, A...       2014   \n",
       "2    Dharmapala, Dhammika (Cited 95 times); Garoupa...       2004   \n",
       "3    Bustos, Alvaro (Cited 2 times); Jacobi, Tonja ...       2015   \n",
       "4    Paik, Myungho (Cited 29 times); Black, Bernard...       2016   \n",
       "..                                                 ...        ...   \n",
       "414  Grossman, Gene M. (Cited 34 times); Sykes, Ala...       2006   \n",
       "415  Bown, Chad P. (Cited 89 times); Sykes, Alan O....       2008   \n",
       "416                 Shaffer, Gregory (Cited 964 times)       2005   \n",
       "417  Bagwell, Kyle (Cited 41 times); Sykes, Alan O....       2004   \n",
       "418  Grossman, Gene M. (Cited 34 times); Sykes, Ala...       2005   \n",
       "\n",
       "     BBCiteYearFirst  ArticleCites  CaseCites  Accessed  \\\n",
       "0               2003             0          0         0   \n",
       "1               2014             0          0         0   \n",
       "2               2004             0          0         0   \n",
       "3               2015             0          0         0   \n",
       "4               2016             0          0         0   \n",
       "..               ...           ...        ...       ...   \n",
       "414             2006             0          0         1   \n",
       "415             2008             1          0         4   \n",
       "416             2005             3          0         9   \n",
       "417             2004             1          0         6   \n",
       "418             2005             5          0        32   \n",
       "\n",
       "                               Journal  VolFirst  Year    Pages  \\\n",
       "0    American Law and Economics Review         5  2003     1-31   \n",
       "1    American Law and Economics Review        16  2014  499-549   \n",
       "2    American Law and Economics Review         6  2004  185-207   \n",
       "3    American Law and Economics Review        17  2015  529-565   \n",
       "4    American Law and Economics Review        18  2016  463-505   \n",
       "..                                 ...       ...   ...      ...   \n",
       "414                 World Trade Review         5  2006    11-30   \n",
       "415                 World Trade Review         7  2008  121-142   \n",
       "416                 World Trade Review         4  2005  429-438   \n",
       "417                 World Trade Review         3  2004  507-528   \n",
       "418                 World Trade Review         4  2005    41-68   \n",
       "\n",
       "                    Search Term 1 Search Term 2  \n",
       "0       \"5 Am. L. & Econ. Rev. 1\"                \n",
       "1    \"16 Am. L. & Econ. Rev. 499\"                \n",
       "2     \"6 Am. L. & Econ. Rev. 185\"                \n",
       "3    \"17 Am. L. & Econ. Rev. 529\"                \n",
       "4    \"18 Am. L. & Econ. Rev. 463\"                \n",
       "..                            ...           ...  \n",
       "414       \"5 World Trade Rev. 11\"                \n",
       "415      \"7 World Trade Rev. 121\"                \n",
       "416      \"4 World Trade Rev. 429\"                \n",
       "417      \"3 World Trade Rev. 507\"                \n",
       "418       \"4 World Trade Rev. 41\"                \n",
       "\n",
       "[419 rows x 15 columns]"
      ],
      "text/html": "<div>\n<style scoped>\n    .dataframe tbody tr th:only-of-type {\n        vertical-align: middle;\n    }\n\n    .dataframe tbody tr th {\n        vertical-align: top;\n    }\n\n    .dataframe thead th {\n        text-align: right;\n    }\n</style>\n<table border=\"1\" class=\"dataframe\">\n  <thead>\n    <tr style=\"text-align: right;\">\n      <th></th>\n      <th>ID</th>\n      <th>Title</th>\n      <th>PaperType</th>\n      <th>Authors</th>\n      <th>BBCiteYear</th>\n      <th>BBCiteYearFirst</th>\n      <th>ArticleCites</th>\n      <th>CaseCites</th>\n      <th>Accessed</th>\n      <th>Journal</th>\n      <th>VolFirst</th>\n      <th>Year</th>\n      <th>Pages</th>\n      <th>Search Term 1</th>\n      <th>Search Term 2</th>\n    </tr>\n  </thead>\n  <tbody>\n    <tr>\n      <th>0</th>\n      <td>60</td>\n      <td>The Condorcet Jury Thereon and the Expressive ...</td>\n      <td>article</td>\n      <td>Dharmapala, Dhammika (Cited 95 times); McAdams...</td>\n      <td>2003</td>\n      <td>2003</td>\n      <td>0</td>\n      <td>0</td>\n      <td>0</td>\n      <td>American Law and Economics Review</td>\n      <td>5</td>\n      <td>2003</td>\n      <td>1-31</td>\n      <td>\"5 Am. L. &amp; Econ. Rev. 1\"</td>\n      <td></td>\n    </tr>\n    <tr>\n      <th>1</th>\n      <td>1093</td>\n      <td>A New Angle on Rules versus Standards</td>\n      <td>article</td>\n      <td>Friedman, Ezra (Cited 22 times); Wickelgren, A...</td>\n      <td>2014</td>\n      <td>2014</td>\n      <td>0</td>\n      <td>0</td>\n      <td>0</td>\n      <td>American Law and Economics Review</td>\n      <td>16</td>\n      <td>2014</td>\n      <td>499-549</td>\n      <td>\"16 Am. L. &amp; Econ. Rev. 499\"</td>\n      <td></td>\n    </tr>\n    <tr>\n      <th>2</th>\n      <td>87</td>\n      <td>Penalty Enhancement for Hate Crimes: An Econom...</td>\n      <td>article</td>\n      <td>Dharmapala, Dhammika (Cited 95 times); Garoupa...</td>\n      <td>2004</td>\n      <td>2004</td>\n      <td>0</td>\n      <td>0</td>\n      <td>0</td>\n      <td>American Law and Economics Review</td>\n      <td>6</td>\n      <td>2004</td>\n      <td>185-207</td>\n      <td>\"6 Am. L. &amp; Econ. Rev. 185\"</td>\n      <td></td>\n    </tr>\n    <tr>\n      <th>3</th>\n      <td>1133</td>\n      <td>A Theory of Justices' Retirement</td>\n      <td>article</td>\n      <td>Bustos, Alvaro (Cited 2 times); Jacobi, Tonja ...</td>\n      <td>2015</td>\n      <td>2015</td>\n      <td>0</td>\n      <td>0</td>\n      <td>0</td>\n      <td>American Law and Economics Review</td>\n      <td>17</td>\n      <td>2015</td>\n      <td>529-565</td>\n      <td>\"17 Am. L. &amp; Econ. Rev. 529\"</td>\n      <td></td>\n    </tr>\n    <tr>\n      <th>4</th>\n      <td>127</td>\n      <td>Damage Caps And The Labor Supply of Physicians...</td>\n      <td>article</td>\n      <td>Paik, Myungho (Cited 29 times); Black, Bernard...</td>\n      <td>2016</td>\n      <td>2016</td>\n      <td>0</td>\n      <td>0</td>\n      <td>0</td>\n      <td>American Law and Economics Review</td>\n      <td>18</td>\n      <td>2016</td>\n      <td>463-505</td>\n      <td>\"18 Am. L. &amp; Econ. Rev. 463\"</td>\n      <td></td>\n    </tr>\n    <tr>\n      <th>...</th>\n      <td>...</td>\n      <td>...</td>\n      <td>...</td>\n      <td>...</td>\n      <td>...</td>\n      <td>...</td>\n      <td>...</td>\n      <td>...</td>\n      <td>...</td>\n      <td>...</td>\n      <td>...</td>\n      <td>...</td>\n      <td>...</td>\n      <td>...</td>\n      <td>...</td>\n    </tr>\n    <tr>\n      <th>414</th>\n      <td>260</td>\n      <td>European Communities - Anti-Dumping Duties on ...</td>\n      <td>article</td>\n      <td>Grossman, Gene M. (Cited 34 times); Sykes, Ala...</td>\n      <td>2006</td>\n      <td>2006</td>\n      <td>0</td>\n      <td>0</td>\n      <td>1</td>\n      <td>World Trade Review</td>\n      <td>5</td>\n      <td>2006</td>\n      <td>11-30</td>\n      <td>\"5 World Trade Rev. 11\"</td>\n      <td></td>\n    </tr>\n    <tr>\n      <th>415</th>\n      <td>260</td>\n      <td>The Zeroing Issue: A Critical Analysis of Soft...</td>\n      <td>article</td>\n      <td>Bown, Chad P. (Cited 89 times); Sykes, Alan O....</td>\n      <td>2008</td>\n      <td>2008</td>\n      <td>1</td>\n      <td>0</td>\n      <td>4</td>\n      <td>World Trade Review</td>\n      <td>7</td>\n      <td>2008</td>\n      <td>121-142</td>\n      <td>\"7 World Trade Rev. 121\"</td>\n      <td></td>\n    </tr>\n    <tr>\n      <th>416</th>\n      <td>242</td>\n      <td>The Role of the Director-General and Secretari...</td>\n      <td>article</td>\n      <td>Shaffer, Gregory (Cited 964 times)</td>\n      <td>2005</td>\n      <td>2005</td>\n      <td>3</td>\n      <td>0</td>\n      <td>9</td>\n      <td>World Trade Review</td>\n      <td>4</td>\n      <td>2005</td>\n      <td>429-438</td>\n      <td>\"4 World Trade Rev. 429\"</td>\n      <td></td>\n    </tr>\n    <tr>\n      <th>417</th>\n      <td>260</td>\n      <td>Chile - Price Band System and Safeguard Measur...</td>\n      <td>notes</td>\n      <td>Bagwell, Kyle (Cited 41 times); Sykes, Alan O....</td>\n      <td>2004</td>\n      <td>2004</td>\n      <td>1</td>\n      <td>0</td>\n      <td>6</td>\n      <td>World Trade Review</td>\n      <td>3</td>\n      <td>2004</td>\n      <td>507-528</td>\n      <td>\"3 World Trade Rev. 507\"</td>\n      <td></td>\n    </tr>\n    <tr>\n      <th>418</th>\n      <td>260</td>\n      <td>A Preference for Development: The Law and Econ...</td>\n      <td>article</td>\n      <td>Grossman, Gene M. (Cited 34 times); Sykes, Ala...</td>\n      <td>2005</td>\n      <td>2005</td>\n      <td>5</td>\n      <td>0</td>\n      <td>32</td>\n      <td>World Trade Review</td>\n      <td>4</td>\n      <td>2005</td>\n      <td>41-68</td>\n      <td>\"4 World Trade Rev. 41\"</td>\n      <td></td>\n    </tr>\n  </tbody>\n</table>\n<p>419 rows × 15 columns</p>\n</div>"
     },
     "metadata": {},
     "execution_count": 13
    }
   ],
   "source": [
    "# Check to see if the file for the alternate names data already exists.\n",
    "# If it does, we only want to look for the missing observations\n",
    "paper_df_cur = intr_path / \"_paper_df.xlsx\"\n",
    "if paper_df_cur.exists():\n",
    "    print(\"Data already exists. Names that have already been scraped will be skipped\")\n",
    "    # Set the append flag to 1\n",
    "    append = 1\n",
    "    # Create the dataset of existing alt names.\n",
    "    paper_df_existing_data = pd.read_excel(paper_df_cur)\n",
    "    paper_df_existing_data['ID'] = paper_df_existing_data['ID'].apply(lambda x: '{0:0>4}'.format(x))\n",
    "    # Complete a left outer join of the existing alt names and the lateral/control data to get \n",
    "    # a list of the names that we still need to scrape alt names for.\n",
    "    data = pd.merge(paper_df, paper_df_existing_data[[\"ID\", \"Title\"]], how = \"outer\", left_on = [\"ID\", \"Title\"], right_on = [\"ID\", \"Title\"], indicator=True)\n",
    "    data = data[data['_merge'] == 'left_only']\n",
    "    data = data.drop([\"_merge\"], axis = 1)\n",
    "else:\n",
    "    # Set the append flag to zero because we won't have any data to append\n",
    "    append = 0\n",
    "    data = paper_df\n",
    "\n",
    "data.replace(np.nan, '', regex=True, inplace = True)\n",
    "data"
   ]
  },
  {
   "cell_type": "code",
   "execution_count": 6,
   "metadata": {},
   "outputs": [
    {
     "output_type": "error",
     "ename": "KeyboardInterrupt",
     "evalue": "",
     "traceback": [
      "\u001b[1;31m---------------------------------------------------------------------------\u001b[0m",
      "\u001b[1;31mKeyboardInterrupt\u001b[0m                         Traceback (most recent call last)",
      "\u001b[1;32m<ipython-input-6-f5cd4e663475>\u001b[0m in \u001b[0;36m<module>\u001b[1;34m\u001b[0m\n\u001b[0;32m      1\u001b[0m \u001b[1;31m# Search for each string and save the results to the dataset\u001b[0m\u001b[1;33m\u001b[0m\u001b[1;33m\u001b[0m\u001b[1;33m\u001b[0m\u001b[0m\n\u001b[1;32m----> 2\u001b[1;33m \u001b[0mdata\u001b[0m\u001b[1;33m[\u001b[0m\u001b[1;34m\"Results String1\"\u001b[0m\u001b[1;33m]\u001b[0m \u001b[1;33m=\u001b[0m \u001b[0mdata\u001b[0m\u001b[1;33m.\u001b[0m\u001b[0mapply\u001b[0m\u001b[1;33m(\u001b[0m\u001b[1;32mlambda\u001b[0m \u001b[0mx\u001b[0m\u001b[1;33m:\u001b[0m \u001b[0msearch_hein_for_cites\u001b[0m\u001b[1;33m(\u001b[0m\u001b[0mx\u001b[0m\u001b[1;33m[\u001b[0m\u001b[1;34m\"Search Term 1\"\u001b[0m\u001b[1;33m]\u001b[0m\u001b[1;33m,\u001b[0m \u001b[0mx\u001b[0m\u001b[1;33m[\u001b[0m\u001b[1;34m\"Year\"\u001b[0m\u001b[1;33m]\u001b[0m\u001b[1;33m,\u001b[0m \u001b[0mdriver\u001b[0m\u001b[1;33m)\u001b[0m\u001b[1;33m,\u001b[0m \u001b[0maxis\u001b[0m \u001b[1;33m=\u001b[0m \u001b[1;36m1\u001b[0m\u001b[1;33m)\u001b[0m\u001b[1;33m\u001b[0m\u001b[1;33m\u001b[0m\u001b[0m\n\u001b[0m\u001b[0;32m      3\u001b[0m \u001b[0mdata\u001b[0m\u001b[1;33m[\u001b[0m\u001b[1;34m\"Results String2\"\u001b[0m\u001b[1;33m]\u001b[0m \u001b[1;33m=\u001b[0m \u001b[0mdata\u001b[0m\u001b[1;33m.\u001b[0m\u001b[0mapply\u001b[0m\u001b[1;33m(\u001b[0m\u001b[1;32mlambda\u001b[0m \u001b[0mx\u001b[0m\u001b[1;33m:\u001b[0m \u001b[0msearch_hein_for_cites\u001b[0m\u001b[1;33m(\u001b[0m\u001b[0mx\u001b[0m\u001b[1;33m[\u001b[0m\u001b[1;34m\"Search Term 2\"\u001b[0m\u001b[1;33m]\u001b[0m\u001b[1;33m,\u001b[0m \u001b[0mx\u001b[0m\u001b[1;33m[\u001b[0m\u001b[1;34m\"Year\"\u001b[0m\u001b[1;33m]\u001b[0m\u001b[1;33m,\u001b[0m \u001b[0mdriver\u001b[0m\u001b[1;33m)\u001b[0m\u001b[1;33m,\u001b[0m \u001b[0maxis\u001b[0m \u001b[1;33m=\u001b[0m \u001b[1;36m1\u001b[0m\u001b[1;33m)\u001b[0m\u001b[1;33m\u001b[0m\u001b[1;33m\u001b[0m\u001b[0m\n",
      "\u001b[1;32m~\\anaconda3\\envs\\selenium_env\\lib\\site-packages\\pandas\\core\\frame.py\u001b[0m in \u001b[0;36mapply\u001b[1;34m(self, func, axis, raw, result_type, args, **kwds)\u001b[0m\n\u001b[0;32m   7546\u001b[0m             \u001b[0mkwds\u001b[0m\u001b[1;33m=\u001b[0m\u001b[0mkwds\u001b[0m\u001b[1;33m,\u001b[0m\u001b[1;33m\u001b[0m\u001b[1;33m\u001b[0m\u001b[0m\n\u001b[0;32m   7547\u001b[0m         )\n\u001b[1;32m-> 7548\u001b[1;33m         \u001b[1;32mreturn\u001b[0m \u001b[0mop\u001b[0m\u001b[1;33m.\u001b[0m\u001b[0mget_result\u001b[0m\u001b[1;33m(\u001b[0m\u001b[1;33m)\u001b[0m\u001b[1;33m\u001b[0m\u001b[1;33m\u001b[0m\u001b[0m\n\u001b[0m\u001b[0;32m   7549\u001b[0m \u001b[1;33m\u001b[0m\u001b[0m\n\u001b[0;32m   7550\u001b[0m     \u001b[1;32mdef\u001b[0m \u001b[0mapplymap\u001b[0m\u001b[1;33m(\u001b[0m\u001b[0mself\u001b[0m\u001b[1;33m,\u001b[0m \u001b[0mfunc\u001b[0m\u001b[1;33m)\u001b[0m \u001b[1;33m->\u001b[0m \u001b[1;34m\"DataFrame\"\u001b[0m\u001b[1;33m:\u001b[0m\u001b[1;33m\u001b[0m\u001b[1;33m\u001b[0m\u001b[0m\n",
      "\u001b[1;32m~\\anaconda3\\envs\\selenium_env\\lib\\site-packages\\pandas\\core\\apply.py\u001b[0m in \u001b[0;36mget_result\u001b[1;34m(self)\u001b[0m\n\u001b[0;32m    178\u001b[0m             \u001b[1;32mreturn\u001b[0m \u001b[0mself\u001b[0m\u001b[1;33m.\u001b[0m\u001b[0mapply_raw\u001b[0m\u001b[1;33m(\u001b[0m\u001b[1;33m)\u001b[0m\u001b[1;33m\u001b[0m\u001b[1;33m\u001b[0m\u001b[0m\n\u001b[0;32m    179\u001b[0m \u001b[1;33m\u001b[0m\u001b[0m\n\u001b[1;32m--> 180\u001b[1;33m         \u001b[1;32mreturn\u001b[0m \u001b[0mself\u001b[0m\u001b[1;33m.\u001b[0m\u001b[0mapply_standard\u001b[0m\u001b[1;33m(\u001b[0m\u001b[1;33m)\u001b[0m\u001b[1;33m\u001b[0m\u001b[1;33m\u001b[0m\u001b[0m\n\u001b[0m\u001b[0;32m    181\u001b[0m \u001b[1;33m\u001b[0m\u001b[0m\n\u001b[0;32m    182\u001b[0m     \u001b[1;32mdef\u001b[0m \u001b[0mapply_empty_result\u001b[0m\u001b[1;33m(\u001b[0m\u001b[0mself\u001b[0m\u001b[1;33m)\u001b[0m\u001b[1;33m:\u001b[0m\u001b[1;33m\u001b[0m\u001b[1;33m\u001b[0m\u001b[0m\n",
      "\u001b[1;32m~\\anaconda3\\envs\\selenium_env\\lib\\site-packages\\pandas\\core\\apply.py\u001b[0m in \u001b[0;36mapply_standard\u001b[1;34m(self)\u001b[0m\n\u001b[0;32m    269\u001b[0m \u001b[1;33m\u001b[0m\u001b[0m\n\u001b[0;32m    270\u001b[0m     \u001b[1;32mdef\u001b[0m \u001b[0mapply_standard\u001b[0m\u001b[1;33m(\u001b[0m\u001b[0mself\u001b[0m\u001b[1;33m)\u001b[0m\u001b[1;33m:\u001b[0m\u001b[1;33m\u001b[0m\u001b[1;33m\u001b[0m\u001b[0m\n\u001b[1;32m--> 271\u001b[1;33m         \u001b[0mresults\u001b[0m\u001b[1;33m,\u001b[0m \u001b[0mres_index\u001b[0m \u001b[1;33m=\u001b[0m \u001b[0mself\u001b[0m\u001b[1;33m.\u001b[0m\u001b[0mapply_series_generator\u001b[0m\u001b[1;33m(\u001b[0m\u001b[1;33m)\u001b[0m\u001b[1;33m\u001b[0m\u001b[1;33m\u001b[0m\u001b[0m\n\u001b[0m\u001b[0;32m    272\u001b[0m \u001b[1;33m\u001b[0m\u001b[0m\n\u001b[0;32m    273\u001b[0m         \u001b[1;31m# wrap results\u001b[0m\u001b[1;33m\u001b[0m\u001b[1;33m\u001b[0m\u001b[1;33m\u001b[0m\u001b[0m\n",
      "\u001b[1;32m~\\anaconda3\\envs\\selenium_env\\lib\\site-packages\\pandas\\core\\apply.py\u001b[0m in \u001b[0;36mapply_series_generator\u001b[1;34m(self)\u001b[0m\n\u001b[0;32m    298\u001b[0m                 \u001b[1;32mfor\u001b[0m \u001b[0mi\u001b[0m\u001b[1;33m,\u001b[0m \u001b[0mv\u001b[0m \u001b[1;32min\u001b[0m \u001b[0menumerate\u001b[0m\u001b[1;33m(\u001b[0m\u001b[0mseries_gen\u001b[0m\u001b[1;33m)\u001b[0m\u001b[1;33m:\u001b[0m\u001b[1;33m\u001b[0m\u001b[1;33m\u001b[0m\u001b[0m\n\u001b[0;32m    299\u001b[0m                     \u001b[1;31m# ignore SettingWithCopy here in case the user mutates\u001b[0m\u001b[1;33m\u001b[0m\u001b[1;33m\u001b[0m\u001b[1;33m\u001b[0m\u001b[0m\n\u001b[1;32m--> 300\u001b[1;33m                     \u001b[0mresults\u001b[0m\u001b[1;33m[\u001b[0m\u001b[0mi\u001b[0m\u001b[1;33m]\u001b[0m \u001b[1;33m=\u001b[0m \u001b[0mself\u001b[0m\u001b[1;33m.\u001b[0m\u001b[0mf\u001b[0m\u001b[1;33m(\u001b[0m\u001b[0mv\u001b[0m\u001b[1;33m)\u001b[0m\u001b[1;33m\u001b[0m\u001b[1;33m\u001b[0m\u001b[0m\n\u001b[0m\u001b[0;32m    301\u001b[0m                     \u001b[1;32mif\u001b[0m \u001b[0misinstance\u001b[0m\u001b[1;33m(\u001b[0m\u001b[0mresults\u001b[0m\u001b[1;33m[\u001b[0m\u001b[0mi\u001b[0m\u001b[1;33m]\u001b[0m\u001b[1;33m,\u001b[0m \u001b[0mABCSeries\u001b[0m\u001b[1;33m)\u001b[0m\u001b[1;33m:\u001b[0m\u001b[1;33m\u001b[0m\u001b[1;33m\u001b[0m\u001b[0m\n\u001b[0;32m    302\u001b[0m                         \u001b[1;31m# If we have a view on v, we need to make a copy because\u001b[0m\u001b[1;33m\u001b[0m\u001b[1;33m\u001b[0m\u001b[1;33m\u001b[0m\u001b[0m\n",
      "\u001b[1;32m<ipython-input-6-f5cd4e663475>\u001b[0m in \u001b[0;36m<lambda>\u001b[1;34m(x)\u001b[0m\n\u001b[0;32m      1\u001b[0m \u001b[1;31m# Search for each string and save the results to the dataset\u001b[0m\u001b[1;33m\u001b[0m\u001b[1;33m\u001b[0m\u001b[1;33m\u001b[0m\u001b[0m\n\u001b[1;32m----> 2\u001b[1;33m \u001b[0mdata\u001b[0m\u001b[1;33m[\u001b[0m\u001b[1;34m\"Results String1\"\u001b[0m\u001b[1;33m]\u001b[0m \u001b[1;33m=\u001b[0m \u001b[0mdata\u001b[0m\u001b[1;33m.\u001b[0m\u001b[0mapply\u001b[0m\u001b[1;33m(\u001b[0m\u001b[1;32mlambda\u001b[0m \u001b[0mx\u001b[0m\u001b[1;33m:\u001b[0m \u001b[0msearch_hein_for_cites\u001b[0m\u001b[1;33m(\u001b[0m\u001b[0mx\u001b[0m\u001b[1;33m[\u001b[0m\u001b[1;34m\"Search Term 1\"\u001b[0m\u001b[1;33m]\u001b[0m\u001b[1;33m,\u001b[0m \u001b[0mx\u001b[0m\u001b[1;33m[\u001b[0m\u001b[1;34m\"Year\"\u001b[0m\u001b[1;33m]\u001b[0m\u001b[1;33m,\u001b[0m \u001b[0mdriver\u001b[0m\u001b[1;33m)\u001b[0m\u001b[1;33m,\u001b[0m \u001b[0maxis\u001b[0m \u001b[1;33m=\u001b[0m \u001b[1;36m1\u001b[0m\u001b[1;33m)\u001b[0m\u001b[1;33m\u001b[0m\u001b[1;33m\u001b[0m\u001b[0m\n\u001b[0m\u001b[0;32m      3\u001b[0m \u001b[0mdata\u001b[0m\u001b[1;33m[\u001b[0m\u001b[1;34m\"Results String2\"\u001b[0m\u001b[1;33m]\u001b[0m \u001b[1;33m=\u001b[0m \u001b[0mdata\u001b[0m\u001b[1;33m.\u001b[0m\u001b[0mapply\u001b[0m\u001b[1;33m(\u001b[0m\u001b[1;32mlambda\u001b[0m \u001b[0mx\u001b[0m\u001b[1;33m:\u001b[0m \u001b[0msearch_hein_for_cites\u001b[0m\u001b[1;33m(\u001b[0m\u001b[0mx\u001b[0m\u001b[1;33m[\u001b[0m\u001b[1;34m\"Search Term 2\"\u001b[0m\u001b[1;33m]\u001b[0m\u001b[1;33m,\u001b[0m \u001b[0mx\u001b[0m\u001b[1;33m[\u001b[0m\u001b[1;34m\"Year\"\u001b[0m\u001b[1;33m]\u001b[0m\u001b[1;33m,\u001b[0m \u001b[0mdriver\u001b[0m\u001b[1;33m)\u001b[0m\u001b[1;33m,\u001b[0m \u001b[0maxis\u001b[0m \u001b[1;33m=\u001b[0m \u001b[1;36m1\u001b[0m\u001b[1;33m)\u001b[0m\u001b[1;33m\u001b[0m\u001b[1;33m\u001b[0m\u001b[0m\n",
      "\u001b[1;32mc:\\Users\\marti\\OneDrive\\Documents\\GitHub\\hein_scraping\\code\\modules\\hein_scraping_functions.py\u001b[0m in \u001b[0;36msearch_hein_for_cites\u001b[1;34m(search_text, year, driver)\u001b[0m\n\u001b[0;32m     35\u001b[0m     \u001b[1;31m# Go to the main page\u001b[0m\u001b[1;33m\u001b[0m\u001b[1;33m\u001b[0m\u001b[1;33m\u001b[0m\u001b[0m\n\u001b[0;32m     36\u001b[0m     \u001b[0mlink\u001b[0m \u001b[1;33m=\u001b[0m \u001b[1;34m'https://heinonline-org.proxy01.its.virginia.edu/HOL/LuceneSearch?collection=all&searchtype=open'\u001b[0m\u001b[1;33m\u001b[0m\u001b[1;33m\u001b[0m\u001b[0m\n\u001b[1;32m---> 37\u001b[1;33m     \u001b[0mdriver\u001b[0m\u001b[1;33m.\u001b[0m\u001b[0mget\u001b[0m\u001b[1;33m(\u001b[0m\u001b[0mlink\u001b[0m\u001b[1;33m)\u001b[0m\u001b[1;33m\u001b[0m\u001b[1;33m\u001b[0m\u001b[0m\n\u001b[0m\u001b[0;32m     38\u001b[0m \u001b[1;33m\u001b[0m\u001b[0m\n\u001b[0;32m     39\u001b[0m     \u001b[1;31m# Wait for the page logo to load\u001b[0m\u001b[1;33m\u001b[0m\u001b[1;33m\u001b[0m\u001b[1;33m\u001b[0m\u001b[0m\n",
      "\u001b[1;32m~\\anaconda3\\envs\\selenium_env\\lib\\site-packages\\selenium\\webdriver\\remote\\webdriver.py\u001b[0m in \u001b[0;36mget\u001b[1;34m(self, url)\u001b[0m\n\u001b[0;32m    331\u001b[0m         \u001b[0mLoads\u001b[0m \u001b[0ma\u001b[0m \u001b[0mweb\u001b[0m \u001b[0mpage\u001b[0m \u001b[1;32min\u001b[0m \u001b[0mthe\u001b[0m \u001b[0mcurrent\u001b[0m \u001b[0mbrowser\u001b[0m \u001b[0msession\u001b[0m\u001b[1;33m.\u001b[0m\u001b[1;33m\u001b[0m\u001b[1;33m\u001b[0m\u001b[0m\n\u001b[0;32m    332\u001b[0m         \"\"\"\n\u001b[1;32m--> 333\u001b[1;33m         \u001b[0mself\u001b[0m\u001b[1;33m.\u001b[0m\u001b[0mexecute\u001b[0m\u001b[1;33m(\u001b[0m\u001b[0mCommand\u001b[0m\u001b[1;33m.\u001b[0m\u001b[0mGET\u001b[0m\u001b[1;33m,\u001b[0m \u001b[1;33m{\u001b[0m\u001b[1;34m'url'\u001b[0m\u001b[1;33m:\u001b[0m \u001b[0murl\u001b[0m\u001b[1;33m}\u001b[0m\u001b[1;33m)\u001b[0m\u001b[1;33m\u001b[0m\u001b[1;33m\u001b[0m\u001b[0m\n\u001b[0m\u001b[0;32m    334\u001b[0m \u001b[1;33m\u001b[0m\u001b[0m\n\u001b[0;32m    335\u001b[0m     \u001b[1;33m@\u001b[0m\u001b[0mproperty\u001b[0m\u001b[1;33m\u001b[0m\u001b[1;33m\u001b[0m\u001b[0m\n",
      "\u001b[1;32m~\\anaconda3\\envs\\selenium_env\\lib\\site-packages\\selenium\\webdriver\\remote\\webdriver.py\u001b[0m in \u001b[0;36mexecute\u001b[1;34m(self, driver_command, params)\u001b[0m\n\u001b[0;32m    317\u001b[0m \u001b[1;33m\u001b[0m\u001b[0m\n\u001b[0;32m    318\u001b[0m         \u001b[0mparams\u001b[0m \u001b[1;33m=\u001b[0m \u001b[0mself\u001b[0m\u001b[1;33m.\u001b[0m\u001b[0m_wrap_value\u001b[0m\u001b[1;33m(\u001b[0m\u001b[0mparams\u001b[0m\u001b[1;33m)\u001b[0m\u001b[1;33m\u001b[0m\u001b[1;33m\u001b[0m\u001b[0m\n\u001b[1;32m--> 319\u001b[1;33m         \u001b[0mresponse\u001b[0m \u001b[1;33m=\u001b[0m \u001b[0mself\u001b[0m\u001b[1;33m.\u001b[0m\u001b[0mcommand_executor\u001b[0m\u001b[1;33m.\u001b[0m\u001b[0mexecute\u001b[0m\u001b[1;33m(\u001b[0m\u001b[0mdriver_command\u001b[0m\u001b[1;33m,\u001b[0m \u001b[0mparams\u001b[0m\u001b[1;33m)\u001b[0m\u001b[1;33m\u001b[0m\u001b[1;33m\u001b[0m\u001b[0m\n\u001b[0m\u001b[0;32m    320\u001b[0m         \u001b[1;32mif\u001b[0m \u001b[0mresponse\u001b[0m\u001b[1;33m:\u001b[0m\u001b[1;33m\u001b[0m\u001b[1;33m\u001b[0m\u001b[0m\n\u001b[0;32m    321\u001b[0m             \u001b[0mself\u001b[0m\u001b[1;33m.\u001b[0m\u001b[0merror_handler\u001b[0m\u001b[1;33m.\u001b[0m\u001b[0mcheck_response\u001b[0m\u001b[1;33m(\u001b[0m\u001b[0mresponse\u001b[0m\u001b[1;33m)\u001b[0m\u001b[1;33m\u001b[0m\u001b[1;33m\u001b[0m\u001b[0m\n",
      "\u001b[1;32m~\\anaconda3\\envs\\selenium_env\\lib\\site-packages\\selenium\\webdriver\\remote\\remote_connection.py\u001b[0m in \u001b[0;36mexecute\u001b[1;34m(self, command, params)\u001b[0m\n\u001b[0;32m    372\u001b[0m         \u001b[0mdata\u001b[0m \u001b[1;33m=\u001b[0m \u001b[0mutils\u001b[0m\u001b[1;33m.\u001b[0m\u001b[0mdump_json\u001b[0m\u001b[1;33m(\u001b[0m\u001b[0mparams\u001b[0m\u001b[1;33m)\u001b[0m\u001b[1;33m\u001b[0m\u001b[1;33m\u001b[0m\u001b[0m\n\u001b[0;32m    373\u001b[0m         \u001b[0murl\u001b[0m \u001b[1;33m=\u001b[0m \u001b[1;34m'%s%s'\u001b[0m \u001b[1;33m%\u001b[0m \u001b[1;33m(\u001b[0m\u001b[0mself\u001b[0m\u001b[1;33m.\u001b[0m\u001b[0m_url\u001b[0m\u001b[1;33m,\u001b[0m \u001b[0mpath\u001b[0m\u001b[1;33m)\u001b[0m\u001b[1;33m\u001b[0m\u001b[1;33m\u001b[0m\u001b[0m\n\u001b[1;32m--> 374\u001b[1;33m         \u001b[1;32mreturn\u001b[0m \u001b[0mself\u001b[0m\u001b[1;33m.\u001b[0m\u001b[0m_request\u001b[0m\u001b[1;33m(\u001b[0m\u001b[0mcommand_info\u001b[0m\u001b[1;33m[\u001b[0m\u001b[1;36m0\u001b[0m\u001b[1;33m]\u001b[0m\u001b[1;33m,\u001b[0m \u001b[0murl\u001b[0m\u001b[1;33m,\u001b[0m \u001b[0mbody\u001b[0m\u001b[1;33m=\u001b[0m\u001b[0mdata\u001b[0m\u001b[1;33m)\u001b[0m\u001b[1;33m\u001b[0m\u001b[1;33m\u001b[0m\u001b[0m\n\u001b[0m\u001b[0;32m    375\u001b[0m \u001b[1;33m\u001b[0m\u001b[0m\n\u001b[0;32m    376\u001b[0m     \u001b[1;32mdef\u001b[0m \u001b[0m_request\u001b[0m\u001b[1;33m(\u001b[0m\u001b[0mself\u001b[0m\u001b[1;33m,\u001b[0m \u001b[0mmethod\u001b[0m\u001b[1;33m,\u001b[0m \u001b[0murl\u001b[0m\u001b[1;33m,\u001b[0m \u001b[0mbody\u001b[0m\u001b[1;33m=\u001b[0m\u001b[1;32mNone\u001b[0m\u001b[1;33m)\u001b[0m\u001b[1;33m:\u001b[0m\u001b[1;33m\u001b[0m\u001b[1;33m\u001b[0m\u001b[0m\n",
      "\u001b[1;32m~\\anaconda3\\envs\\selenium_env\\lib\\site-packages\\selenium\\webdriver\\remote\\remote_connection.py\u001b[0m in \u001b[0;36m_request\u001b[1;34m(self, method, url, body)\u001b[0m\n\u001b[0;32m    395\u001b[0m \u001b[1;33m\u001b[0m\u001b[0m\n\u001b[0;32m    396\u001b[0m         \u001b[1;32mif\u001b[0m \u001b[0mself\u001b[0m\u001b[1;33m.\u001b[0m\u001b[0mkeep_alive\u001b[0m\u001b[1;33m:\u001b[0m\u001b[1;33m\u001b[0m\u001b[1;33m\u001b[0m\u001b[0m\n\u001b[1;32m--> 397\u001b[1;33m             \u001b[0mresp\u001b[0m \u001b[1;33m=\u001b[0m \u001b[0mself\u001b[0m\u001b[1;33m.\u001b[0m\u001b[0m_conn\u001b[0m\u001b[1;33m.\u001b[0m\u001b[0mrequest\u001b[0m\u001b[1;33m(\u001b[0m\u001b[0mmethod\u001b[0m\u001b[1;33m,\u001b[0m \u001b[0murl\u001b[0m\u001b[1;33m,\u001b[0m \u001b[0mbody\u001b[0m\u001b[1;33m=\u001b[0m\u001b[0mbody\u001b[0m\u001b[1;33m,\u001b[0m \u001b[0mheaders\u001b[0m\u001b[1;33m=\u001b[0m\u001b[0mheaders\u001b[0m\u001b[1;33m)\u001b[0m\u001b[1;33m\u001b[0m\u001b[1;33m\u001b[0m\u001b[0m\n\u001b[0m\u001b[0;32m    398\u001b[0m \u001b[1;33m\u001b[0m\u001b[0m\n\u001b[0;32m    399\u001b[0m             \u001b[0mstatuscode\u001b[0m \u001b[1;33m=\u001b[0m \u001b[0mresp\u001b[0m\u001b[1;33m.\u001b[0m\u001b[0mstatus\u001b[0m\u001b[1;33m\u001b[0m\u001b[1;33m\u001b[0m\u001b[0m\n",
      "\u001b[1;32m~\\anaconda3\\envs\\selenium_env\\lib\\site-packages\\urllib3\\request.py\u001b[0m in \u001b[0;36mrequest\u001b[1;34m(self, method, url, fields, headers, **urlopen_kw)\u001b[0m\n\u001b[0;32m     77\u001b[0m             )\n\u001b[0;32m     78\u001b[0m         \u001b[1;32melse\u001b[0m\u001b[1;33m:\u001b[0m\u001b[1;33m\u001b[0m\u001b[1;33m\u001b[0m\u001b[0m\n\u001b[1;32m---> 79\u001b[1;33m             return self.request_encode_body(\n\u001b[0m\u001b[0;32m     80\u001b[0m                 \u001b[0mmethod\u001b[0m\u001b[1;33m,\u001b[0m \u001b[0murl\u001b[0m\u001b[1;33m,\u001b[0m \u001b[0mfields\u001b[0m\u001b[1;33m=\u001b[0m\u001b[0mfields\u001b[0m\u001b[1;33m,\u001b[0m \u001b[0mheaders\u001b[0m\u001b[1;33m=\u001b[0m\u001b[0mheaders\u001b[0m\u001b[1;33m,\u001b[0m \u001b[1;33m**\u001b[0m\u001b[0murlopen_kw\u001b[0m\u001b[1;33m\u001b[0m\u001b[1;33m\u001b[0m\u001b[0m\n\u001b[0;32m     81\u001b[0m             )\n",
      "\u001b[1;32m~\\anaconda3\\envs\\selenium_env\\lib\\site-packages\\urllib3\\request.py\u001b[0m in \u001b[0;36mrequest_encode_body\u001b[1;34m(self, method, url, fields, headers, encode_multipart, multipart_boundary, **urlopen_kw)\u001b[0m\n\u001b[0;32m    169\u001b[0m         \u001b[0mextra_kw\u001b[0m\u001b[1;33m.\u001b[0m\u001b[0mupdate\u001b[0m\u001b[1;33m(\u001b[0m\u001b[0murlopen_kw\u001b[0m\u001b[1;33m)\u001b[0m\u001b[1;33m\u001b[0m\u001b[1;33m\u001b[0m\u001b[0m\n\u001b[0;32m    170\u001b[0m \u001b[1;33m\u001b[0m\u001b[0m\n\u001b[1;32m--> 171\u001b[1;33m         \u001b[1;32mreturn\u001b[0m \u001b[0mself\u001b[0m\u001b[1;33m.\u001b[0m\u001b[0murlopen\u001b[0m\u001b[1;33m(\u001b[0m\u001b[0mmethod\u001b[0m\u001b[1;33m,\u001b[0m \u001b[0murl\u001b[0m\u001b[1;33m,\u001b[0m \u001b[1;33m**\u001b[0m\u001b[0mextra_kw\u001b[0m\u001b[1;33m)\u001b[0m\u001b[1;33m\u001b[0m\u001b[1;33m\u001b[0m\u001b[0m\n\u001b[0m",
      "\u001b[1;32m~\\anaconda3\\envs\\selenium_env\\lib\\site-packages\\urllib3\\poolmanager.py\u001b[0m in \u001b[0;36murlopen\u001b[1;34m(self, method, url, redirect, **kw)\u001b[0m\n\u001b[0;32m    334\u001b[0m             \u001b[0mresponse\u001b[0m \u001b[1;33m=\u001b[0m \u001b[0mconn\u001b[0m\u001b[1;33m.\u001b[0m\u001b[0murlopen\u001b[0m\u001b[1;33m(\u001b[0m\u001b[0mmethod\u001b[0m\u001b[1;33m,\u001b[0m \u001b[0murl\u001b[0m\u001b[1;33m,\u001b[0m \u001b[1;33m**\u001b[0m\u001b[0mkw\u001b[0m\u001b[1;33m)\u001b[0m\u001b[1;33m\u001b[0m\u001b[1;33m\u001b[0m\u001b[0m\n\u001b[0;32m    335\u001b[0m         \u001b[1;32melse\u001b[0m\u001b[1;33m:\u001b[0m\u001b[1;33m\u001b[0m\u001b[1;33m\u001b[0m\u001b[0m\n\u001b[1;32m--> 336\u001b[1;33m             \u001b[0mresponse\u001b[0m \u001b[1;33m=\u001b[0m \u001b[0mconn\u001b[0m\u001b[1;33m.\u001b[0m\u001b[0murlopen\u001b[0m\u001b[1;33m(\u001b[0m\u001b[0mmethod\u001b[0m\u001b[1;33m,\u001b[0m \u001b[0mu\u001b[0m\u001b[1;33m.\u001b[0m\u001b[0mrequest_uri\u001b[0m\u001b[1;33m,\u001b[0m \u001b[1;33m**\u001b[0m\u001b[0mkw\u001b[0m\u001b[1;33m)\u001b[0m\u001b[1;33m\u001b[0m\u001b[1;33m\u001b[0m\u001b[0m\n\u001b[0m\u001b[0;32m    337\u001b[0m \u001b[1;33m\u001b[0m\u001b[0m\n\u001b[0;32m    338\u001b[0m         \u001b[0mredirect_location\u001b[0m \u001b[1;33m=\u001b[0m \u001b[0mredirect\u001b[0m \u001b[1;32mand\u001b[0m \u001b[0mresponse\u001b[0m\u001b[1;33m.\u001b[0m\u001b[0mget_redirect_location\u001b[0m\u001b[1;33m(\u001b[0m\u001b[1;33m)\u001b[0m\u001b[1;33m\u001b[0m\u001b[1;33m\u001b[0m\u001b[0m\n",
      "\u001b[1;32m~\\anaconda3\\envs\\selenium_env\\lib\\site-packages\\urllib3\\connectionpool.py\u001b[0m in \u001b[0;36murlopen\u001b[1;34m(self, method, url, body, headers, retries, redirect, assert_same_host, timeout, pool_timeout, release_conn, chunked, body_pos, **response_kw)\u001b[0m\n\u001b[0;32m    668\u001b[0m \u001b[1;33m\u001b[0m\u001b[0m\n\u001b[0;32m    669\u001b[0m             \u001b[1;31m# Make the request on the httplib connection object.\u001b[0m\u001b[1;33m\u001b[0m\u001b[1;33m\u001b[0m\u001b[1;33m\u001b[0m\u001b[0m\n\u001b[1;32m--> 670\u001b[1;33m             httplib_response = self._make_request(\n\u001b[0m\u001b[0;32m    671\u001b[0m                 \u001b[0mconn\u001b[0m\u001b[1;33m,\u001b[0m\u001b[1;33m\u001b[0m\u001b[1;33m\u001b[0m\u001b[0m\n\u001b[0;32m    672\u001b[0m                 \u001b[0mmethod\u001b[0m\u001b[1;33m,\u001b[0m\u001b[1;33m\u001b[0m\u001b[1;33m\u001b[0m\u001b[0m\n",
      "\u001b[1;32m~\\anaconda3\\envs\\selenium_env\\lib\\site-packages\\urllib3\\connectionpool.py\u001b[0m in \u001b[0;36m_make_request\u001b[1;34m(self, conn, method, url, timeout, chunked, **httplib_request_kw)\u001b[0m\n\u001b[0;32m    424\u001b[0m                     \u001b[1;31m# Python 3 (including for exceptions like SystemExit).\u001b[0m\u001b[1;33m\u001b[0m\u001b[1;33m\u001b[0m\u001b[1;33m\u001b[0m\u001b[0m\n\u001b[0;32m    425\u001b[0m                     \u001b[1;31m# Otherwise it looks like a bug in the code.\u001b[0m\u001b[1;33m\u001b[0m\u001b[1;33m\u001b[0m\u001b[1;33m\u001b[0m\u001b[0m\n\u001b[1;32m--> 426\u001b[1;33m                     \u001b[0msix\u001b[0m\u001b[1;33m.\u001b[0m\u001b[0mraise_from\u001b[0m\u001b[1;33m(\u001b[0m\u001b[0me\u001b[0m\u001b[1;33m,\u001b[0m \u001b[1;32mNone\u001b[0m\u001b[1;33m)\u001b[0m\u001b[1;33m\u001b[0m\u001b[1;33m\u001b[0m\u001b[0m\n\u001b[0m\u001b[0;32m    427\u001b[0m         \u001b[1;32mexcept\u001b[0m \u001b[1;33m(\u001b[0m\u001b[0mSocketTimeout\u001b[0m\u001b[1;33m,\u001b[0m \u001b[0mBaseSSLError\u001b[0m\u001b[1;33m,\u001b[0m \u001b[0mSocketError\u001b[0m\u001b[1;33m)\u001b[0m \u001b[1;32mas\u001b[0m \u001b[0me\u001b[0m\u001b[1;33m:\u001b[0m\u001b[1;33m\u001b[0m\u001b[1;33m\u001b[0m\u001b[0m\n\u001b[0;32m    428\u001b[0m             \u001b[0mself\u001b[0m\u001b[1;33m.\u001b[0m\u001b[0m_raise_timeout\u001b[0m\u001b[1;33m(\u001b[0m\u001b[0merr\u001b[0m\u001b[1;33m=\u001b[0m\u001b[0me\u001b[0m\u001b[1;33m,\u001b[0m \u001b[0murl\u001b[0m\u001b[1;33m=\u001b[0m\u001b[0murl\u001b[0m\u001b[1;33m,\u001b[0m \u001b[0mtimeout_value\u001b[0m\u001b[1;33m=\u001b[0m\u001b[0mread_timeout\u001b[0m\u001b[1;33m)\u001b[0m\u001b[1;33m\u001b[0m\u001b[1;33m\u001b[0m\u001b[0m\n",
      "\u001b[1;32m~\\anaconda3\\envs\\selenium_env\\lib\\site-packages\\urllib3\\packages\\six.py\u001b[0m in \u001b[0;36mraise_from\u001b[1;34m(value, from_value)\u001b[0m\n",
      "\u001b[1;32m~\\anaconda3\\envs\\selenium_env\\lib\\site-packages\\urllib3\\connectionpool.py\u001b[0m in \u001b[0;36m_make_request\u001b[1;34m(self, conn, method, url, timeout, chunked, **httplib_request_kw)\u001b[0m\n\u001b[0;32m    419\u001b[0m                 \u001b[1;31m# Python 3\u001b[0m\u001b[1;33m\u001b[0m\u001b[1;33m\u001b[0m\u001b[1;33m\u001b[0m\u001b[0m\n\u001b[0;32m    420\u001b[0m                 \u001b[1;32mtry\u001b[0m\u001b[1;33m:\u001b[0m\u001b[1;33m\u001b[0m\u001b[1;33m\u001b[0m\u001b[0m\n\u001b[1;32m--> 421\u001b[1;33m                     \u001b[0mhttplib_response\u001b[0m \u001b[1;33m=\u001b[0m \u001b[0mconn\u001b[0m\u001b[1;33m.\u001b[0m\u001b[0mgetresponse\u001b[0m\u001b[1;33m(\u001b[0m\u001b[1;33m)\u001b[0m\u001b[1;33m\u001b[0m\u001b[1;33m\u001b[0m\u001b[0m\n\u001b[0m\u001b[0;32m    422\u001b[0m                 \u001b[1;32mexcept\u001b[0m \u001b[0mBaseException\u001b[0m \u001b[1;32mas\u001b[0m \u001b[0me\u001b[0m\u001b[1;33m:\u001b[0m\u001b[1;33m\u001b[0m\u001b[1;33m\u001b[0m\u001b[0m\n\u001b[0;32m    423\u001b[0m                     \u001b[1;31m# Remove the TypeError from the exception chain in\u001b[0m\u001b[1;33m\u001b[0m\u001b[1;33m\u001b[0m\u001b[1;33m\u001b[0m\u001b[0m\n",
      "\u001b[1;32m~\\anaconda3\\envs\\selenium_env\\lib\\http\\client.py\u001b[0m in \u001b[0;36mgetresponse\u001b[1;34m(self)\u001b[0m\n\u001b[0;32m   1345\u001b[0m         \u001b[1;32mtry\u001b[0m\u001b[1;33m:\u001b[0m\u001b[1;33m\u001b[0m\u001b[1;33m\u001b[0m\u001b[0m\n\u001b[0;32m   1346\u001b[0m             \u001b[1;32mtry\u001b[0m\u001b[1;33m:\u001b[0m\u001b[1;33m\u001b[0m\u001b[1;33m\u001b[0m\u001b[0m\n\u001b[1;32m-> 1347\u001b[1;33m                 \u001b[0mresponse\u001b[0m\u001b[1;33m.\u001b[0m\u001b[0mbegin\u001b[0m\u001b[1;33m(\u001b[0m\u001b[1;33m)\u001b[0m\u001b[1;33m\u001b[0m\u001b[1;33m\u001b[0m\u001b[0m\n\u001b[0m\u001b[0;32m   1348\u001b[0m             \u001b[1;32mexcept\u001b[0m \u001b[0mConnectionError\u001b[0m\u001b[1;33m:\u001b[0m\u001b[1;33m\u001b[0m\u001b[1;33m\u001b[0m\u001b[0m\n\u001b[0;32m   1349\u001b[0m                 \u001b[0mself\u001b[0m\u001b[1;33m.\u001b[0m\u001b[0mclose\u001b[0m\u001b[1;33m(\u001b[0m\u001b[1;33m)\u001b[0m\u001b[1;33m\u001b[0m\u001b[1;33m\u001b[0m\u001b[0m\n",
      "\u001b[1;32m~\\anaconda3\\envs\\selenium_env\\lib\\http\\client.py\u001b[0m in \u001b[0;36mbegin\u001b[1;34m(self)\u001b[0m\n\u001b[0;32m    305\u001b[0m         \u001b[1;31m# read until we get a non-100 response\u001b[0m\u001b[1;33m\u001b[0m\u001b[1;33m\u001b[0m\u001b[1;33m\u001b[0m\u001b[0m\n\u001b[0;32m    306\u001b[0m         \u001b[1;32mwhile\u001b[0m \u001b[1;32mTrue\u001b[0m\u001b[1;33m:\u001b[0m\u001b[1;33m\u001b[0m\u001b[1;33m\u001b[0m\u001b[0m\n\u001b[1;32m--> 307\u001b[1;33m             \u001b[0mversion\u001b[0m\u001b[1;33m,\u001b[0m \u001b[0mstatus\u001b[0m\u001b[1;33m,\u001b[0m \u001b[0mreason\u001b[0m \u001b[1;33m=\u001b[0m \u001b[0mself\u001b[0m\u001b[1;33m.\u001b[0m\u001b[0m_read_status\u001b[0m\u001b[1;33m(\u001b[0m\u001b[1;33m)\u001b[0m\u001b[1;33m\u001b[0m\u001b[1;33m\u001b[0m\u001b[0m\n\u001b[0m\u001b[0;32m    308\u001b[0m             \u001b[1;32mif\u001b[0m \u001b[0mstatus\u001b[0m \u001b[1;33m!=\u001b[0m \u001b[0mCONTINUE\u001b[0m\u001b[1;33m:\u001b[0m\u001b[1;33m\u001b[0m\u001b[1;33m\u001b[0m\u001b[0m\n\u001b[0;32m    309\u001b[0m                 \u001b[1;32mbreak\u001b[0m\u001b[1;33m\u001b[0m\u001b[1;33m\u001b[0m\u001b[0m\n",
      "\u001b[1;32m~\\anaconda3\\envs\\selenium_env\\lib\\http\\client.py\u001b[0m in \u001b[0;36m_read_status\u001b[1;34m(self)\u001b[0m\n\u001b[0;32m    266\u001b[0m \u001b[1;33m\u001b[0m\u001b[0m\n\u001b[0;32m    267\u001b[0m     \u001b[1;32mdef\u001b[0m \u001b[0m_read_status\u001b[0m\u001b[1;33m(\u001b[0m\u001b[0mself\u001b[0m\u001b[1;33m)\u001b[0m\u001b[1;33m:\u001b[0m\u001b[1;33m\u001b[0m\u001b[1;33m\u001b[0m\u001b[0m\n\u001b[1;32m--> 268\u001b[1;33m         \u001b[0mline\u001b[0m \u001b[1;33m=\u001b[0m \u001b[0mstr\u001b[0m\u001b[1;33m(\u001b[0m\u001b[0mself\u001b[0m\u001b[1;33m.\u001b[0m\u001b[0mfp\u001b[0m\u001b[1;33m.\u001b[0m\u001b[0mreadline\u001b[0m\u001b[1;33m(\u001b[0m\u001b[0m_MAXLINE\u001b[0m \u001b[1;33m+\u001b[0m \u001b[1;36m1\u001b[0m\u001b[1;33m)\u001b[0m\u001b[1;33m,\u001b[0m \u001b[1;34m\"iso-8859-1\"\u001b[0m\u001b[1;33m)\u001b[0m\u001b[1;33m\u001b[0m\u001b[1;33m\u001b[0m\u001b[0m\n\u001b[0m\u001b[0;32m    269\u001b[0m         \u001b[1;32mif\u001b[0m \u001b[0mlen\u001b[0m\u001b[1;33m(\u001b[0m\u001b[0mline\u001b[0m\u001b[1;33m)\u001b[0m \u001b[1;33m>\u001b[0m \u001b[0m_MAXLINE\u001b[0m\u001b[1;33m:\u001b[0m\u001b[1;33m\u001b[0m\u001b[1;33m\u001b[0m\u001b[0m\n\u001b[0;32m    270\u001b[0m             \u001b[1;32mraise\u001b[0m \u001b[0mLineTooLong\u001b[0m\u001b[1;33m(\u001b[0m\u001b[1;34m\"status line\"\u001b[0m\u001b[1;33m)\u001b[0m\u001b[1;33m\u001b[0m\u001b[1;33m\u001b[0m\u001b[0m\n",
      "\u001b[1;32m~\\anaconda3\\envs\\selenium_env\\lib\\socket.py\u001b[0m in \u001b[0;36mreadinto\u001b[1;34m(self, b)\u001b[0m\n\u001b[0;32m    667\u001b[0m         \u001b[1;32mwhile\u001b[0m \u001b[1;32mTrue\u001b[0m\u001b[1;33m:\u001b[0m\u001b[1;33m\u001b[0m\u001b[1;33m\u001b[0m\u001b[0m\n\u001b[0;32m    668\u001b[0m             \u001b[1;32mtry\u001b[0m\u001b[1;33m:\u001b[0m\u001b[1;33m\u001b[0m\u001b[1;33m\u001b[0m\u001b[0m\n\u001b[1;32m--> 669\u001b[1;33m                 \u001b[1;32mreturn\u001b[0m \u001b[0mself\u001b[0m\u001b[1;33m.\u001b[0m\u001b[0m_sock\u001b[0m\u001b[1;33m.\u001b[0m\u001b[0mrecv_into\u001b[0m\u001b[1;33m(\u001b[0m\u001b[0mb\u001b[0m\u001b[1;33m)\u001b[0m\u001b[1;33m\u001b[0m\u001b[1;33m\u001b[0m\u001b[0m\n\u001b[0m\u001b[0;32m    670\u001b[0m             \u001b[1;32mexcept\u001b[0m \u001b[0mtimeout\u001b[0m\u001b[1;33m:\u001b[0m\u001b[1;33m\u001b[0m\u001b[1;33m\u001b[0m\u001b[0m\n\u001b[0;32m    671\u001b[0m                 \u001b[0mself\u001b[0m\u001b[1;33m.\u001b[0m\u001b[0m_timeout_occurred\u001b[0m \u001b[1;33m=\u001b[0m \u001b[1;32mTrue\u001b[0m\u001b[1;33m\u001b[0m\u001b[1;33m\u001b[0m\u001b[0m\n",
      "\u001b[1;31mKeyboardInterrupt\u001b[0m: "
     ]
    }
   ],
   "source": [
    "# Search for each string and save the results to the dataset\n",
    "data[\"Results String1\"] = data.apply(lambda x: search_hein_for_cites(x[\"Search Term 1\"], x[\"Year\"], driver), axis = 1)\n",
    "data[\"Results String2\"] = data.apply(lambda x: search_hein_for_cites(x[\"Search Term 2\"], x[\"Year\"], driver), axis = 1)"
   ]
  },
  {
   "cell_type": "code",
   "execution_count": 8,
   "metadata": {},
   "outputs": [],
   "source": [
    "# Export to Excel\n",
    "data.to_excel(intr_path / \"_paper_df.xlsx\", index = False)"
   ]
  },
  {
   "cell_type": "code",
   "execution_count": 7,
   "metadata": {},
   "outputs": [
    {
     "output_type": "error",
     "ename": "TypeError",
     "evalue": "object of type 'float' has no len()",
     "traceback": [
      "\u001b[1;31m---------------------------------------------------------------------------\u001b[0m",
      "\u001b[1;31mTypeError\u001b[0m                                 Traceback (most recent call last)",
      "\u001b[1;32m<ipython-input-7-349d6499a3ee>\u001b[0m in \u001b[0;36m<module>\u001b[1;34m\u001b[0m\n\u001b[1;32m----> 1\u001b[1;33m \u001b[0mdata\u001b[0m\u001b[1;33m[\u001b[0m\u001b[1;34m\"Results String2\"\u001b[0m\u001b[1;33m]\u001b[0m \u001b[1;33m=\u001b[0m \u001b[0mdata\u001b[0m\u001b[1;33m.\u001b[0m\u001b[0mapply\u001b[0m\u001b[1;33m(\u001b[0m\u001b[1;32mlambda\u001b[0m \u001b[0mx\u001b[0m\u001b[1;33m:\u001b[0m \u001b[0msearch_hein_for_cites\u001b[0m\u001b[1;33m(\u001b[0m\u001b[0mx\u001b[0m\u001b[1;33m[\u001b[0m\u001b[1;34m\"Search Term 2\"\u001b[0m\u001b[1;33m]\u001b[0m\u001b[1;33m,\u001b[0m \u001b[0mx\u001b[0m\u001b[1;33m[\u001b[0m\u001b[1;34m\"Year\"\u001b[0m\u001b[1;33m]\u001b[0m\u001b[1;33m,\u001b[0m \u001b[0mdriver\u001b[0m\u001b[1;33m)\u001b[0m\u001b[1;33m,\u001b[0m \u001b[0maxis\u001b[0m \u001b[1;33m=\u001b[0m \u001b[1;36m1\u001b[0m\u001b[1;33m)\u001b[0m\u001b[1;33m\u001b[0m\u001b[1;33m\u001b[0m\u001b[0m\n\u001b[0m",
      "\u001b[1;32m~\\anaconda3\\envs\\selenium_env\\lib\\site-packages\\pandas\\core\\frame.py\u001b[0m in \u001b[0;36mapply\u001b[1;34m(self, func, axis, raw, result_type, args, **kwds)\u001b[0m\n\u001b[0;32m   7546\u001b[0m             \u001b[0mkwds\u001b[0m\u001b[1;33m=\u001b[0m\u001b[0mkwds\u001b[0m\u001b[1;33m,\u001b[0m\u001b[1;33m\u001b[0m\u001b[1;33m\u001b[0m\u001b[0m\n\u001b[0;32m   7547\u001b[0m         )\n\u001b[1;32m-> 7548\u001b[1;33m         \u001b[1;32mreturn\u001b[0m \u001b[0mop\u001b[0m\u001b[1;33m.\u001b[0m\u001b[0mget_result\u001b[0m\u001b[1;33m(\u001b[0m\u001b[1;33m)\u001b[0m\u001b[1;33m\u001b[0m\u001b[1;33m\u001b[0m\u001b[0m\n\u001b[0m\u001b[0;32m   7549\u001b[0m \u001b[1;33m\u001b[0m\u001b[0m\n\u001b[0;32m   7550\u001b[0m     \u001b[1;32mdef\u001b[0m \u001b[0mapplymap\u001b[0m\u001b[1;33m(\u001b[0m\u001b[0mself\u001b[0m\u001b[1;33m,\u001b[0m \u001b[0mfunc\u001b[0m\u001b[1;33m)\u001b[0m \u001b[1;33m->\u001b[0m \u001b[1;34m\"DataFrame\"\u001b[0m\u001b[1;33m:\u001b[0m\u001b[1;33m\u001b[0m\u001b[1;33m\u001b[0m\u001b[0m\n",
      "\u001b[1;32m~\\anaconda3\\envs\\selenium_env\\lib\\site-packages\\pandas\\core\\apply.py\u001b[0m in \u001b[0;36mget_result\u001b[1;34m(self)\u001b[0m\n\u001b[0;32m    178\u001b[0m             \u001b[1;32mreturn\u001b[0m \u001b[0mself\u001b[0m\u001b[1;33m.\u001b[0m\u001b[0mapply_raw\u001b[0m\u001b[1;33m(\u001b[0m\u001b[1;33m)\u001b[0m\u001b[1;33m\u001b[0m\u001b[1;33m\u001b[0m\u001b[0m\n\u001b[0;32m    179\u001b[0m \u001b[1;33m\u001b[0m\u001b[0m\n\u001b[1;32m--> 180\u001b[1;33m         \u001b[1;32mreturn\u001b[0m \u001b[0mself\u001b[0m\u001b[1;33m.\u001b[0m\u001b[0mapply_standard\u001b[0m\u001b[1;33m(\u001b[0m\u001b[1;33m)\u001b[0m\u001b[1;33m\u001b[0m\u001b[1;33m\u001b[0m\u001b[0m\n\u001b[0m\u001b[0;32m    181\u001b[0m \u001b[1;33m\u001b[0m\u001b[0m\n\u001b[0;32m    182\u001b[0m     \u001b[1;32mdef\u001b[0m \u001b[0mapply_empty_result\u001b[0m\u001b[1;33m(\u001b[0m\u001b[0mself\u001b[0m\u001b[1;33m)\u001b[0m\u001b[1;33m:\u001b[0m\u001b[1;33m\u001b[0m\u001b[1;33m\u001b[0m\u001b[0m\n",
      "\u001b[1;32m~\\anaconda3\\envs\\selenium_env\\lib\\site-packages\\pandas\\core\\apply.py\u001b[0m in \u001b[0;36mapply_standard\u001b[1;34m(self)\u001b[0m\n\u001b[0;32m    269\u001b[0m \u001b[1;33m\u001b[0m\u001b[0m\n\u001b[0;32m    270\u001b[0m     \u001b[1;32mdef\u001b[0m \u001b[0mapply_standard\u001b[0m\u001b[1;33m(\u001b[0m\u001b[0mself\u001b[0m\u001b[1;33m)\u001b[0m\u001b[1;33m:\u001b[0m\u001b[1;33m\u001b[0m\u001b[1;33m\u001b[0m\u001b[0m\n\u001b[1;32m--> 271\u001b[1;33m         \u001b[0mresults\u001b[0m\u001b[1;33m,\u001b[0m \u001b[0mres_index\u001b[0m \u001b[1;33m=\u001b[0m \u001b[0mself\u001b[0m\u001b[1;33m.\u001b[0m\u001b[0mapply_series_generator\u001b[0m\u001b[1;33m(\u001b[0m\u001b[1;33m)\u001b[0m\u001b[1;33m\u001b[0m\u001b[1;33m\u001b[0m\u001b[0m\n\u001b[0m\u001b[0;32m    272\u001b[0m \u001b[1;33m\u001b[0m\u001b[0m\n\u001b[0;32m    273\u001b[0m         \u001b[1;31m# wrap results\u001b[0m\u001b[1;33m\u001b[0m\u001b[1;33m\u001b[0m\u001b[1;33m\u001b[0m\u001b[0m\n",
      "\u001b[1;32m~\\anaconda3\\envs\\selenium_env\\lib\\site-packages\\pandas\\core\\apply.py\u001b[0m in \u001b[0;36mapply_series_generator\u001b[1;34m(self)\u001b[0m\n\u001b[0;32m    298\u001b[0m                 \u001b[1;32mfor\u001b[0m \u001b[0mi\u001b[0m\u001b[1;33m,\u001b[0m \u001b[0mv\u001b[0m \u001b[1;32min\u001b[0m \u001b[0menumerate\u001b[0m\u001b[1;33m(\u001b[0m\u001b[0mseries_gen\u001b[0m\u001b[1;33m)\u001b[0m\u001b[1;33m:\u001b[0m\u001b[1;33m\u001b[0m\u001b[1;33m\u001b[0m\u001b[0m\n\u001b[0;32m    299\u001b[0m                     \u001b[1;31m# ignore SettingWithCopy here in case the user mutates\u001b[0m\u001b[1;33m\u001b[0m\u001b[1;33m\u001b[0m\u001b[1;33m\u001b[0m\u001b[0m\n\u001b[1;32m--> 300\u001b[1;33m                     \u001b[0mresults\u001b[0m\u001b[1;33m[\u001b[0m\u001b[0mi\u001b[0m\u001b[1;33m]\u001b[0m \u001b[1;33m=\u001b[0m \u001b[0mself\u001b[0m\u001b[1;33m.\u001b[0m\u001b[0mf\u001b[0m\u001b[1;33m(\u001b[0m\u001b[0mv\u001b[0m\u001b[1;33m)\u001b[0m\u001b[1;33m\u001b[0m\u001b[1;33m\u001b[0m\u001b[0m\n\u001b[0m\u001b[0;32m    301\u001b[0m                     \u001b[1;32mif\u001b[0m \u001b[0misinstance\u001b[0m\u001b[1;33m(\u001b[0m\u001b[0mresults\u001b[0m\u001b[1;33m[\u001b[0m\u001b[0mi\u001b[0m\u001b[1;33m]\u001b[0m\u001b[1;33m,\u001b[0m \u001b[0mABCSeries\u001b[0m\u001b[1;33m)\u001b[0m\u001b[1;33m:\u001b[0m\u001b[1;33m\u001b[0m\u001b[1;33m\u001b[0m\u001b[0m\n\u001b[0;32m    302\u001b[0m                         \u001b[1;31m# If we have a view on v, we need to make a copy because\u001b[0m\u001b[1;33m\u001b[0m\u001b[1;33m\u001b[0m\u001b[1;33m\u001b[0m\u001b[0m\n",
      "\u001b[1;32m<ipython-input-7-349d6499a3ee>\u001b[0m in \u001b[0;36m<lambda>\u001b[1;34m(x)\u001b[0m\n\u001b[1;32m----> 1\u001b[1;33m \u001b[0mdata\u001b[0m\u001b[1;33m[\u001b[0m\u001b[1;34m\"Results String2\"\u001b[0m\u001b[1;33m]\u001b[0m \u001b[1;33m=\u001b[0m \u001b[0mdata\u001b[0m\u001b[1;33m.\u001b[0m\u001b[0mapply\u001b[0m\u001b[1;33m(\u001b[0m\u001b[1;32mlambda\u001b[0m \u001b[0mx\u001b[0m\u001b[1;33m:\u001b[0m \u001b[0msearch_hein_for_cites\u001b[0m\u001b[1;33m(\u001b[0m\u001b[0mx\u001b[0m\u001b[1;33m[\u001b[0m\u001b[1;34m\"Search Term 2\"\u001b[0m\u001b[1;33m]\u001b[0m\u001b[1;33m,\u001b[0m \u001b[0mx\u001b[0m\u001b[1;33m[\u001b[0m\u001b[1;34m\"Year\"\u001b[0m\u001b[1;33m]\u001b[0m\u001b[1;33m,\u001b[0m \u001b[0mdriver\u001b[0m\u001b[1;33m)\u001b[0m\u001b[1;33m,\u001b[0m \u001b[0maxis\u001b[0m \u001b[1;33m=\u001b[0m \u001b[1;36m1\u001b[0m\u001b[1;33m)\u001b[0m\u001b[1;33m\u001b[0m\u001b[1;33m\u001b[0m\u001b[0m\n\u001b[0m",
      "\u001b[1;32mc:\\Users\\marti\\OneDrive\\Documents\\GitHub\\hein_scraping\\code\\modules\\hein_scraping_functions.py\u001b[0m in \u001b[0;36msearch_hein_for_cites\u001b[1;34m(search_text, year, driver)\u001b[0m\n\u001b[0;32m     42\u001b[0m     \u001b[1;31m# Enter the search text\u001b[0m\u001b[1;33m\u001b[0m\u001b[1;33m\u001b[0m\u001b[1;33m\u001b[0m\u001b[0m\n\u001b[0;32m     43\u001b[0m     \u001b[0mfull_text\u001b[0m \u001b[1;33m=\u001b[0m \u001b[0mdriver\u001b[0m\u001b[1;33m.\u001b[0m\u001b[0mfind_element_by_xpath\u001b[0m\u001b[1;33m(\u001b[0m\u001b[1;34m'//*[@id=\"termsc\"]'\u001b[0m\u001b[1;33m)\u001b[0m\u001b[1;33m\u001b[0m\u001b[1;33m\u001b[0m\u001b[0m\n\u001b[1;32m---> 44\u001b[1;33m     \u001b[0mfull_text\u001b[0m\u001b[1;33m.\u001b[0m\u001b[0msend_keys\u001b[0m\u001b[1;33m(\u001b[0m\u001b[0msearch_text\u001b[0m\u001b[1;33m)\u001b[0m\u001b[1;33m\u001b[0m\u001b[1;33m\u001b[0m\u001b[0m\n\u001b[0m\u001b[0;32m     45\u001b[0m \u001b[1;33m\u001b[0m\u001b[0m\n\u001b[0;32m     46\u001b[0m     \u001b[1;31m# Enter the year cutoff\u001b[0m\u001b[1;33m\u001b[0m\u001b[1;33m\u001b[0m\u001b[1;33m\u001b[0m\u001b[0m\n",
      "\u001b[1;32m~\\anaconda3\\envs\\selenium_env\\lib\\site-packages\\selenium\\webdriver\\remote\\webelement.py\u001b[0m in \u001b[0;36msend_keys\u001b[1;34m(self, *value)\u001b[0m\n\u001b[0;32m    476\u001b[0m \u001b[1;33m\u001b[0m\u001b[0m\n\u001b[0;32m    477\u001b[0m         self._execute(Command.SEND_KEYS_TO_ELEMENT,\n\u001b[1;32m--> 478\u001b[1;33m                       {'text': \"\".join(keys_to_typing(value)),\n\u001b[0m\u001b[0;32m    479\u001b[0m                        'value': keys_to_typing(value)})\n\u001b[0;32m    480\u001b[0m \u001b[1;33m\u001b[0m\u001b[0m\n",
      "\u001b[1;32m~\\anaconda3\\envs\\selenium_env\\lib\\site-packages\\selenium\\webdriver\\common\\utils.py\u001b[0m in \u001b[0;36mkeys_to_typing\u001b[1;34m(value)\u001b[0m\n\u001b[0;32m    148\u001b[0m                 \u001b[0mtyping\u001b[0m\u001b[1;33m.\u001b[0m\u001b[0mappend\u001b[0m\u001b[1;33m(\u001b[0m\u001b[0mval\u001b[0m\u001b[1;33m[\u001b[0m\u001b[0mi\u001b[0m\u001b[1;33m]\u001b[0m\u001b[1;33m)\u001b[0m\u001b[1;33m\u001b[0m\u001b[1;33m\u001b[0m\u001b[0m\n\u001b[0;32m    149\u001b[0m         \u001b[1;32melse\u001b[0m\u001b[1;33m:\u001b[0m\u001b[1;33m\u001b[0m\u001b[1;33m\u001b[0m\u001b[0m\n\u001b[1;32m--> 150\u001b[1;33m             \u001b[1;32mfor\u001b[0m \u001b[0mi\u001b[0m \u001b[1;32min\u001b[0m \u001b[0mrange\u001b[0m\u001b[1;33m(\u001b[0m\u001b[0mlen\u001b[0m\u001b[1;33m(\u001b[0m\u001b[0mval\u001b[0m\u001b[1;33m)\u001b[0m\u001b[1;33m)\u001b[0m\u001b[1;33m:\u001b[0m\u001b[1;33m\u001b[0m\u001b[1;33m\u001b[0m\u001b[0m\n\u001b[0m\u001b[0;32m    151\u001b[0m                 \u001b[0mtyping\u001b[0m\u001b[1;33m.\u001b[0m\u001b[0mappend\u001b[0m\u001b[1;33m(\u001b[0m\u001b[0mval\u001b[0m\u001b[1;33m[\u001b[0m\u001b[0mi\u001b[0m\u001b[1;33m]\u001b[0m\u001b[1;33m)\u001b[0m\u001b[1;33m\u001b[0m\u001b[1;33m\u001b[0m\u001b[0m\n\u001b[0;32m    152\u001b[0m     \u001b[1;32mreturn\u001b[0m \u001b[0mtyping\u001b[0m\u001b[1;33m\u001b[0m\u001b[1;33m\u001b[0m\u001b[0m\n",
      "\u001b[1;31mTypeError\u001b[0m: object of type 'float' has no len()"
     ]
    }
   ],
   "source": [
    "data[\"Results String2\"] = data.apply(lambda x: search_hein_for_cites(x[\"Search Term 2\"], x[\"Year\"], driver), axis = 1)"
   ]
  },
  {
   "cell_type": "code",
   "execution_count": 10,
   "metadata": {},
   "outputs": [
    {
     "output_type": "execute_result",
     "data": {
      "text/plain": [
       "float"
      ]
     },
     "metadata": {},
     "execution_count": 10
    }
   ],
   "source": [
    "type(data[\"Search Term 2\"][0])"
   ]
  },
  {
   "cell_type": "code",
   "execution_count": 11,
   "metadata": {},
   "outputs": [
    {
     "output_type": "execute_result",
     "data": {
      "text/plain": [
       "       ID                                              Title PaperType  \\\n",
       "0      60  The Condorcet Jury Thereon and the Expressive ...   article   \n",
       "1    1093              A New Angle on Rules versus Standards   article   \n",
       "2      87  Penalty Enhancement for Hate Crimes: An Econom...   article   \n",
       "3    1133                   A Theory of Justices' Retirement   article   \n",
       "4     127  Damage Caps And The Labor Supply of Physicians...   article   \n",
       "..    ...                                                ...       ...   \n",
       "414   260  European Communities - Anti-Dumping Duties on ...   article   \n",
       "415   260  The Zeroing Issue: A Critical Analysis of Soft...   article   \n",
       "416   242  The Role of the Director-General and Secretari...   article   \n",
       "417   260  Chile - Price Band System and Safeguard Measur...     notes   \n",
       "418   260  A Preference for Development: The Law and Econ...   article   \n",
       "\n",
       "                                               Authors BBCiteYear  \\\n",
       "0    Dharmapala, Dhammika (Cited 95 times); McAdams...       2003   \n",
       "1    Friedman, Ezra (Cited 22 times); Wickelgren, A...       2014   \n",
       "2    Dharmapala, Dhammika (Cited 95 times); Garoupa...       2004   \n",
       "3    Bustos, Alvaro (Cited 2 times); Jacobi, Tonja ...       2015   \n",
       "4    Paik, Myungho (Cited 29 times); Black, Bernard...       2016   \n",
       "..                                                 ...        ...   \n",
       "414  Grossman, Gene M. (Cited 34 times); Sykes, Ala...       2006   \n",
       "415  Bown, Chad P. (Cited 89 times); Sykes, Alan O....       2008   \n",
       "416                 Shaffer, Gregory (Cited 964 times)       2005   \n",
       "417  Bagwell, Kyle (Cited 41 times); Sykes, Alan O....       2004   \n",
       "418  Grossman, Gene M. (Cited 34 times); Sykes, Ala...       2005   \n",
       "\n",
       "     BBCiteYearFirst  ArticleCites  CaseCites  Accessed  \\\n",
       "0               2003             0          0         0   \n",
       "1               2014             0          0         0   \n",
       "2               2004             0          0         0   \n",
       "3               2015             0          0         0   \n",
       "4               2016             0          0         0   \n",
       "..               ...           ...        ...       ...   \n",
       "414             2006             0          0         1   \n",
       "415             2008             1          0         4   \n",
       "416             2005             3          0         9   \n",
       "417             2004             1          0         6   \n",
       "418             2005             5          0        32   \n",
       "\n",
       "                               Journal  VolFirst  Year    Pages  \\\n",
       "0    American Law and Economics Review         5  2003     1-31   \n",
       "1    American Law and Economics Review        16  2014  499-549   \n",
       "2    American Law and Economics Review         6  2004  185-207   \n",
       "3    American Law and Economics Review        17  2015  529-565   \n",
       "4    American Law and Economics Review        18  2016  463-505   \n",
       "..                                 ...       ...   ...      ...   \n",
       "414                 World Trade Review         5  2006    11-30   \n",
       "415                 World Trade Review         7  2008  121-142   \n",
       "416                 World Trade Review         4  2005  429-438   \n",
       "417                 World Trade Review         3  2004  507-528   \n",
       "418                 World Trade Review         4  2005    41-68   \n",
       "\n",
       "                    Search Term 1 Search Term 2  \n",
       "0       \"5 Am. L. & Econ. Rev. 1\"                \n",
       "1    \"16 Am. L. & Econ. Rev. 499\"                \n",
       "2     \"6 Am. L. & Econ. Rev. 185\"                \n",
       "3    \"17 Am. L. & Econ. Rev. 529\"                \n",
       "4    \"18 Am. L. & Econ. Rev. 463\"                \n",
       "..                            ...           ...  \n",
       "414       \"5 World Trade Rev. 11\"                \n",
       "415      \"7 World Trade Rev. 121\"                \n",
       "416      \"4 World Trade Rev. 429\"                \n",
       "417      \"3 World Trade Rev. 507\"                \n",
       "418       \"4 World Trade Rev. 41\"                \n",
       "\n",
       "[419 rows x 15 columns]"
      ],
      "text/html": "<div>\n<style scoped>\n    .dataframe tbody tr th:only-of-type {\n        vertical-align: middle;\n    }\n\n    .dataframe tbody tr th {\n        vertical-align: top;\n    }\n\n    .dataframe thead th {\n        text-align: right;\n    }\n</style>\n<table border=\"1\" class=\"dataframe\">\n  <thead>\n    <tr style=\"text-align: right;\">\n      <th></th>\n      <th>ID</th>\n      <th>Title</th>\n      <th>PaperType</th>\n      <th>Authors</th>\n      <th>BBCiteYear</th>\n      <th>BBCiteYearFirst</th>\n      <th>ArticleCites</th>\n      <th>CaseCites</th>\n      <th>Accessed</th>\n      <th>Journal</th>\n      <th>VolFirst</th>\n      <th>Year</th>\n      <th>Pages</th>\n      <th>Search Term 1</th>\n      <th>Search Term 2</th>\n    </tr>\n  </thead>\n  <tbody>\n    <tr>\n      <th>0</th>\n      <td>60</td>\n      <td>The Condorcet Jury Thereon and the Expressive ...</td>\n      <td>article</td>\n      <td>Dharmapala, Dhammika (Cited 95 times); McAdams...</td>\n      <td>2003</td>\n      <td>2003</td>\n      <td>0</td>\n      <td>0</td>\n      <td>0</td>\n      <td>American Law and Economics Review</td>\n      <td>5</td>\n      <td>2003</td>\n      <td>1-31</td>\n      <td>\"5 Am. L. &amp; Econ. Rev. 1\"</td>\n      <td></td>\n    </tr>\n    <tr>\n      <th>1</th>\n      <td>1093</td>\n      <td>A New Angle on Rules versus Standards</td>\n      <td>article</td>\n      <td>Friedman, Ezra (Cited 22 times); Wickelgren, A...</td>\n      <td>2014</td>\n      <td>2014</td>\n      <td>0</td>\n      <td>0</td>\n      <td>0</td>\n      <td>American Law and Economics Review</td>\n      <td>16</td>\n      <td>2014</td>\n      <td>499-549</td>\n      <td>\"16 Am. L. &amp; Econ. Rev. 499\"</td>\n      <td></td>\n    </tr>\n    <tr>\n      <th>2</th>\n      <td>87</td>\n      <td>Penalty Enhancement for Hate Crimes: An Econom...</td>\n      <td>article</td>\n      <td>Dharmapala, Dhammika (Cited 95 times); Garoupa...</td>\n      <td>2004</td>\n      <td>2004</td>\n      <td>0</td>\n      <td>0</td>\n      <td>0</td>\n      <td>American Law and Economics Review</td>\n      <td>6</td>\n      <td>2004</td>\n      <td>185-207</td>\n      <td>\"6 Am. L. &amp; Econ. Rev. 185\"</td>\n      <td></td>\n    </tr>\n    <tr>\n      <th>3</th>\n      <td>1133</td>\n      <td>A Theory of Justices' Retirement</td>\n      <td>article</td>\n      <td>Bustos, Alvaro (Cited 2 times); Jacobi, Tonja ...</td>\n      <td>2015</td>\n      <td>2015</td>\n      <td>0</td>\n      <td>0</td>\n      <td>0</td>\n      <td>American Law and Economics Review</td>\n      <td>17</td>\n      <td>2015</td>\n      <td>529-565</td>\n      <td>\"17 Am. L. &amp; Econ. Rev. 529\"</td>\n      <td></td>\n    </tr>\n    <tr>\n      <th>4</th>\n      <td>127</td>\n      <td>Damage Caps And The Labor Supply of Physicians...</td>\n      <td>article</td>\n      <td>Paik, Myungho (Cited 29 times); Black, Bernard...</td>\n      <td>2016</td>\n      <td>2016</td>\n      <td>0</td>\n      <td>0</td>\n      <td>0</td>\n      <td>American Law and Economics Review</td>\n      <td>18</td>\n      <td>2016</td>\n      <td>463-505</td>\n      <td>\"18 Am. L. &amp; Econ. Rev. 463\"</td>\n      <td></td>\n    </tr>\n    <tr>\n      <th>...</th>\n      <td>...</td>\n      <td>...</td>\n      <td>...</td>\n      <td>...</td>\n      <td>...</td>\n      <td>...</td>\n      <td>...</td>\n      <td>...</td>\n      <td>...</td>\n      <td>...</td>\n      <td>...</td>\n      <td>...</td>\n      <td>...</td>\n      <td>...</td>\n      <td>...</td>\n    </tr>\n    <tr>\n      <th>414</th>\n      <td>260</td>\n      <td>European Communities - Anti-Dumping Duties on ...</td>\n      <td>article</td>\n      <td>Grossman, Gene M. (Cited 34 times); Sykes, Ala...</td>\n      <td>2006</td>\n      <td>2006</td>\n      <td>0</td>\n      <td>0</td>\n      <td>1</td>\n      <td>World Trade Review</td>\n      <td>5</td>\n      <td>2006</td>\n      <td>11-30</td>\n      <td>\"5 World Trade Rev. 11\"</td>\n      <td></td>\n    </tr>\n    <tr>\n      <th>415</th>\n      <td>260</td>\n      <td>The Zeroing Issue: A Critical Analysis of Soft...</td>\n      <td>article</td>\n      <td>Bown, Chad P. (Cited 89 times); Sykes, Alan O....</td>\n      <td>2008</td>\n      <td>2008</td>\n      <td>1</td>\n      <td>0</td>\n      <td>4</td>\n      <td>World Trade Review</td>\n      <td>7</td>\n      <td>2008</td>\n      <td>121-142</td>\n      <td>\"7 World Trade Rev. 121\"</td>\n      <td></td>\n    </tr>\n    <tr>\n      <th>416</th>\n      <td>242</td>\n      <td>The Role of the Director-General and Secretari...</td>\n      <td>article</td>\n      <td>Shaffer, Gregory (Cited 964 times)</td>\n      <td>2005</td>\n      <td>2005</td>\n      <td>3</td>\n      <td>0</td>\n      <td>9</td>\n      <td>World Trade Review</td>\n      <td>4</td>\n      <td>2005</td>\n      <td>429-438</td>\n      <td>\"4 World Trade Rev. 429\"</td>\n      <td></td>\n    </tr>\n    <tr>\n      <th>417</th>\n      <td>260</td>\n      <td>Chile - Price Band System and Safeguard Measur...</td>\n      <td>notes</td>\n      <td>Bagwell, Kyle (Cited 41 times); Sykes, Alan O....</td>\n      <td>2004</td>\n      <td>2004</td>\n      <td>1</td>\n      <td>0</td>\n      <td>6</td>\n      <td>World Trade Review</td>\n      <td>3</td>\n      <td>2004</td>\n      <td>507-528</td>\n      <td>\"3 World Trade Rev. 507\"</td>\n      <td></td>\n    </tr>\n    <tr>\n      <th>418</th>\n      <td>260</td>\n      <td>A Preference for Development: The Law and Econ...</td>\n      <td>article</td>\n      <td>Grossman, Gene M. (Cited 34 times); Sykes, Ala...</td>\n      <td>2005</td>\n      <td>2005</td>\n      <td>5</td>\n      <td>0</td>\n      <td>32</td>\n      <td>World Trade Review</td>\n      <td>4</td>\n      <td>2005</td>\n      <td>41-68</td>\n      <td>\"4 World Trade Rev. 41\"</td>\n      <td></td>\n    </tr>\n  </tbody>\n</table>\n<p>419 rows × 15 columns</p>\n</div>"
     },
     "metadata": {},
     "execution_count": 11
    }
   ],
   "source": []
  },
  {
   "cell_type": "code",
   "execution_count": null,
   "metadata": {},
   "outputs": [],
   "source": []
  }
 ]
}
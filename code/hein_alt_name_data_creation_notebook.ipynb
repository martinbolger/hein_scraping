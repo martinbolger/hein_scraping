{
 "cells": [
  {
   "cell_type": "code",
   "execution_count": 3,
   "metadata": {},
   "outputs": [],
   "source": [
    "from selenium import webdriver\n",
    "from selenium.webdriver.chrome.options import Options\n",
    "import pandas as pd\n",
    "import bs4 as bs\n",
    "import os\n",
    "import numpy as np\n",
    "import re\n",
    "import time\n",
    "from selenium.webdriver.common.keys import Keys\n",
    "import nltk\n",
    "import requests\n",
    "import random\n",
    "import math\n",
    "import pathlib \n",
    "\n",
    "from modules.create_path import create_path\n",
    "from modules.hein_scraping_functions import create_browser, webpage_wait, get_paper_data, mod_names, check_google, similar_names, search_names\n",
    "from modules.data_manipulation_functions import remove_commas, check_files, concat_function\n"
   ]
  },
  {
   "cell_type": "code",
   "execution_count": 4,
   "metadata": {},
   "outputs": [],
   "source": [
    "# Create the paths for the data directories\n",
    "input_path, work_path, intr_path, out_path, selenium_driver_path = create_path()\n",
    "\n",
    "# Create the paths for the Chrome binary and selenium driver\n",
    "chrome_binary_path = pathlib.Path(\"C:\\\\Program Files (x86)\\\\BraveSoftware\\\\Brave-Browser\\\\Application\\\\brave.exe\")\n",
    "selenium_driver_full_path = selenium_driver_path / \"chromedriver.exe\"\n",
    "\n",
    "# Initalize the browsers that we are going to use\n",
    "driver = create_browser(chrome_binary_path, selenium_driver_full_path)\n",
    "g_driver = create_browser(chrome_binary_path, selenium_driver_full_path)\n",
    "\n",
    "driver.get(\"http://proxy.its.virginia.edu/login?url=http://heinonline.org/HOL/Welcome\")"
   ]
  },
  {
   "cell_type": "code",
   "execution_count": 5,
   "metadata": {},
   "outputs": [
    {
     "output_type": "execute_result",
     "data": {
      "text/plain": [
       "     Short URL Origin FirstName      LastName    ID  Lateral  LateralYear  \\\n",
       "0         udmercy.edu    Andrew         Moore  1001        0          NaN   \n",
       "1        seattleu.edu     Bryan       Adamson  1002        0          NaN   \n",
       "2        seattleu.edu     David        Skover  1239        0          NaN   \n",
       "3        brooklaw.edu  Nicholas        Allard  1003        0          NaN   \n",
       "4        brooklaw.edu    Steven          Dean  1067        0          NaN   \n",
       "..                ...       ...           ...   ...      ...          ...   \n",
       "286  northwestern.edu      Ezra      Freidman  1093        0          NaN   \n",
       "287           gwu.edu     Dalia          Tsuk  1179        0          NaN   \n",
       "288          wisc.edu     Asifa      Quraishi  1203        0          NaN   \n",
       "289      virginia.edu  Kimberly       Jenkins  1213        0          NaN   \n",
       "290      sandiego.edu    Maimon  Schwarzchild  1226        0          NaN   \n",
       "\n",
       "                                      Origin School  Destination School  \\\n",
       "0         University of Detroit Mercy School of Law                 NaN   \n",
       "1                  Seattle University School of Law                 NaN   \n",
       "2                  Seattle University School of Law                 NaN   \n",
       "3                               Brooklyn Law School                 NaN   \n",
       "4                               Brooklyn Law School                 NaN   \n",
       "..                                              ...                 ...   \n",
       "286  Northwestern University Pritzker School of Law                 NaN   \n",
       "287         George Washington University Law School                 NaN   \n",
       "288              University of Wisconsin Law School                 NaN   \n",
       "289            University of Virginia School of Law                 NaN   \n",
       "290           University of San Diego School of Law                 NaN   \n",
       "\n",
       "     multi_obs  \n",
       "0        False  \n",
       "1        False  \n",
       "2        False  \n",
       "3        False  \n",
       "4        False  \n",
       "..         ...  \n",
       "286       True  \n",
       "287       True  \n",
       "288       True  \n",
       "289       True  \n",
       "290       True  \n",
       "\n",
       "[291 rows x 9 columns]"
      ],
      "text/html": "<div>\n<style scoped>\n    .dataframe tbody tr th:only-of-type {\n        vertical-align: middle;\n    }\n\n    .dataframe tbody tr th {\n        vertical-align: top;\n    }\n\n    .dataframe thead th {\n        text-align: right;\n    }\n</style>\n<table border=\"1\" class=\"dataframe\">\n  <thead>\n    <tr style=\"text-align: right;\">\n      <th></th>\n      <th>Short URL Origin</th>\n      <th>FirstName</th>\n      <th>LastName</th>\n      <th>ID</th>\n      <th>Lateral</th>\n      <th>LateralYear</th>\n      <th>Origin School</th>\n      <th>Destination School</th>\n      <th>multi_obs</th>\n    </tr>\n  </thead>\n  <tbody>\n    <tr>\n      <th>0</th>\n      <td>udmercy.edu</td>\n      <td>Andrew</td>\n      <td>Moore</td>\n      <td>1001</td>\n      <td>0</td>\n      <td>NaN</td>\n      <td>University of Detroit Mercy School of Law</td>\n      <td>NaN</td>\n      <td>False</td>\n    </tr>\n    <tr>\n      <th>1</th>\n      <td>seattleu.edu</td>\n      <td>Bryan</td>\n      <td>Adamson</td>\n      <td>1002</td>\n      <td>0</td>\n      <td>NaN</td>\n      <td>Seattle University School of Law</td>\n      <td>NaN</td>\n      <td>False</td>\n    </tr>\n    <tr>\n      <th>2</th>\n      <td>seattleu.edu</td>\n      <td>David</td>\n      <td>Skover</td>\n      <td>1239</td>\n      <td>0</td>\n      <td>NaN</td>\n      <td>Seattle University School of Law</td>\n      <td>NaN</td>\n      <td>False</td>\n    </tr>\n    <tr>\n      <th>3</th>\n      <td>brooklaw.edu</td>\n      <td>Nicholas</td>\n      <td>Allard</td>\n      <td>1003</td>\n      <td>0</td>\n      <td>NaN</td>\n      <td>Brooklyn Law School</td>\n      <td>NaN</td>\n      <td>False</td>\n    </tr>\n    <tr>\n      <th>4</th>\n      <td>brooklaw.edu</td>\n      <td>Steven</td>\n      <td>Dean</td>\n      <td>1067</td>\n      <td>0</td>\n      <td>NaN</td>\n      <td>Brooklyn Law School</td>\n      <td>NaN</td>\n      <td>False</td>\n    </tr>\n    <tr>\n      <th>...</th>\n      <td>...</td>\n      <td>...</td>\n      <td>...</td>\n      <td>...</td>\n      <td>...</td>\n      <td>...</td>\n      <td>...</td>\n      <td>...</td>\n      <td>...</td>\n    </tr>\n    <tr>\n      <th>286</th>\n      <td>northwestern.edu</td>\n      <td>Ezra</td>\n      <td>Freidman</td>\n      <td>1093</td>\n      <td>0</td>\n      <td>NaN</td>\n      <td>Northwestern University Pritzker School of Law</td>\n      <td>NaN</td>\n      <td>True</td>\n    </tr>\n    <tr>\n      <th>287</th>\n      <td>gwu.edu</td>\n      <td>Dalia</td>\n      <td>Tsuk</td>\n      <td>1179</td>\n      <td>0</td>\n      <td>NaN</td>\n      <td>George Washington University Law School</td>\n      <td>NaN</td>\n      <td>True</td>\n    </tr>\n    <tr>\n      <th>288</th>\n      <td>wisc.edu</td>\n      <td>Asifa</td>\n      <td>Quraishi</td>\n      <td>1203</td>\n      <td>0</td>\n      <td>NaN</td>\n      <td>University of Wisconsin Law School</td>\n      <td>NaN</td>\n      <td>True</td>\n    </tr>\n    <tr>\n      <th>289</th>\n      <td>virginia.edu</td>\n      <td>Kimberly</td>\n      <td>Jenkins</td>\n      <td>1213</td>\n      <td>0</td>\n      <td>NaN</td>\n      <td>University of Virginia School of Law</td>\n      <td>NaN</td>\n      <td>True</td>\n    </tr>\n    <tr>\n      <th>290</th>\n      <td>sandiego.edu</td>\n      <td>Maimon</td>\n      <td>Schwarzchild</td>\n      <td>1226</td>\n      <td>0</td>\n      <td>NaN</td>\n      <td>University of San Diego School of Law</td>\n      <td>NaN</td>\n      <td>True</td>\n    </tr>\n  </tbody>\n</table>\n<p>291 rows × 9 columns</p>\n</div>"
     },
     "metadata": {},
     "execution_count": 5
    }
   ],
   "source": [
    "# Load the datasets from the working directory\n",
    "# The datasets in the working directory have already \n",
    "# been cleaned.\n",
    "control = pd.read_excel(work_path / \"control.xlsx\")\n",
    "lateral = pd.read_excel(work_path / \"lateral.xlsx\")\n",
    "\n",
    "# Load the name modification dataset\n",
    "name_mod = pd.read_excel(input_path / \"name_mod_control.xlsx\")\n",
    "\n",
    "# Data type: This is the type of data that we are using.\n",
    "# The control group members only have one university url because they\n",
    "# did not move. The lateral group members have two urls.\n",
    "data_type = \"control\"\n",
    "\n",
    "#This step sets the data \n",
    "data = control\n",
    "name_mod = name_mod\n",
    "\n",
    "# MERGE: Right join the name mod data to get the observations with a different last name\n",
    "alt_name_diff_last_name = pd.merge(data, name_mod[[\"ID\", \"diff_last_name\"]], how = \"right\", left_on = [\"ID\"], right_on = [\"ID\"])\n",
    "\n",
    "# Subset to the non-missing different last names\n",
    "alt_name_diff_last_name = alt_name_diff_last_name[alt_name_diff_last_name[\"diff_last_name\"].notnull()]\n",
    "# Create a copy of the alternate last name observations with a different last name\n",
    "alt_name_diff_last_name[\"LastName\"] = alt_name_diff_last_name[\"diff_last_name\"]\n",
    "# Drop the diff_last_name column\n",
    "alt_name_diff_last_name = alt_name_diff_last_name.drop([\"diff_last_name\"], axis = 1)\n",
    "\n",
    "# Add the observations onto the main dataset\n",
    "data = pd.concat([data, alt_name_diff_last_name], ignore_index = True)\n",
    "\n",
    "# Flag any observations that now show up multiple times\n",
    "data[\"multi_obs\"] = data[\"ID\"].duplicated(keep=False)\n",
    "\n",
    "data"
   ]
  },
  {
   "cell_type": "code",
   "execution_count": 6,
   "metadata": {},
   "outputs": [
    {
     "output_type": "stream",
     "name": "stdout",
     "text": [
      "Data already exists. Names that have already been scraped will be skipped\n"
     ]
    }
   ],
   "source": [
    "# Create a list to store the alternate name data\n",
    "alt_names_data = []\n",
    "# Create the alt-names dataset column list\n",
    "alt_names_columns = [\"ID\", \"FirstName\", \"LastName\", \"fm_names\", \"err_fm_names\", \"multi_obs\"]\n",
    "\n",
    "# Check to see if the file for the alternate names data already exists.\n",
    "# If it does, we only want to looks for the missing observations\n",
    "alt_names_file = intr_path / \"alt_names.xlsx\"\n",
    "if alt_names_file.exists():\n",
    "    print(\"Data already exists. Names that have already been scraped will be skipped\")\n",
    "    # Set the append flag to 1\n",
    "    append = 1\n",
    "    # Create the dataset of existing alt names.\n",
    "    df_existing_alt_names = pd.read_excel(alt_names_file)\n",
    "    # Complete a left outer join of the existing alt names and the lateral/control data to get \n",
    "    # a list of the names that we still need to scrape alt names for.\n",
    "    data = pd.merge(data, df_existing_alt_names[\"ID\"], how = \"outer\", left_on = \"ID\", right_on = \"ID\", indicator=True)\n",
    "    data = data[data['_merge'] == 'left_only']\n",
    "    data = data.drop([\"_merge\"], axis = 1)\n",
    "else:\n",
    "    # Set the append flag to zero because we won't have any data to append\n",
    "    append = 0\n",
    "# Data contains the observations that were not available in the existing alt_names file.\n",
    "# If there is no existing file, it just contains the lateral/control data.\n",
    "data.reset_index(inplace = True, drop = True)\n"
   ]
  },
  {
   "cell_type": "code",
   "execution_count": 7,
   "metadata": {},
   "outputs": [
    {
     "output_type": "execute_result",
     "data": {
      "text/plain": [
       "  Short URL Origin FirstName LastName    ID  Lateral  LateralYear  \\\n",
       "0     illinois.edu   Colleen   Murphy  1186        0          NaN   \n",
       "1         pitt.edu   William   Carter  1049        0          NaN   \n",
       "\n",
       "                            Origin School  Destination School  multi_obs  \n",
       "0   University of Illinois College of Law                 NaN      False  \n",
       "1  University of Pittsburgh School of Law                 NaN      False  "
      ],
      "text/html": "<div>\n<style scoped>\n    .dataframe tbody tr th:only-of-type {\n        vertical-align: middle;\n    }\n\n    .dataframe tbody tr th {\n        vertical-align: top;\n    }\n\n    .dataframe thead th {\n        text-align: right;\n    }\n</style>\n<table border=\"1\" class=\"dataframe\">\n  <thead>\n    <tr style=\"text-align: right;\">\n      <th></th>\n      <th>Short URL Origin</th>\n      <th>FirstName</th>\n      <th>LastName</th>\n      <th>ID</th>\n      <th>Lateral</th>\n      <th>LateralYear</th>\n      <th>Origin School</th>\n      <th>Destination School</th>\n      <th>multi_obs</th>\n    </tr>\n  </thead>\n  <tbody>\n    <tr>\n      <th>0</th>\n      <td>illinois.edu</td>\n      <td>Colleen</td>\n      <td>Murphy</td>\n      <td>1186</td>\n      <td>0</td>\n      <td>NaN</td>\n      <td>University of Illinois College of Law</td>\n      <td>NaN</td>\n      <td>False</td>\n    </tr>\n    <tr>\n      <th>1</th>\n      <td>pitt.edu</td>\n      <td>William</td>\n      <td>Carter</td>\n      <td>1049</td>\n      <td>0</td>\n      <td>NaN</td>\n      <td>University of Pittsburgh School of Law</td>\n      <td>NaN</td>\n      <td>False</td>\n    </tr>\n  </tbody>\n</table>\n</div>"
     },
     "metadata": {},
     "execution_count": 7
    }
   ],
   "source": [
    "data"
   ]
  },
  {
   "cell_type": "code",
   "execution_count": 8,
   "metadata": {
    "tags": []
   },
   "outputs": [
    {
     "output_type": "stream",
     "name": "stdout",
     "text": [
      "Colleen Murphy\n",
      "['illinois.edu']\n",
      "URL: illinois.edu\n",
      "illinois.edu in: https://philosophy.illinois.edu/directory/profile/colleenm\n",
      "URL: illinois.edu\n",
      "illinois.edu in: https://law.illinois.edu/faculty-research/faculty-profiles/colleen-murphy/\n",
      "URL: illinois.edu\n",
      "William Carter\n",
      "['pitt.edu']\n",
      "URL: pitt.edu\n",
      "pitt.edu in: https://www.law.pitt.edu/people/william-carter-jr\n",
      "URL: pitt.edu\n",
      "URL: pitt.edu\n",
      "URL: pitt.edu\n",
      "URL: pitt.edu\n",
      "URL: pitt.edu\n",
      "URL: pitt.edu\n",
      "pitt.edu in: https://www.law.pitt.edu/people/william-carter-jr\n",
      "URL: pitt.edu\n"
     ]
    }
   ],
   "source": [
    "\n",
    "#This loop goes through each name\n",
    "for i in range(len(data)):\n",
    "    #This section gets the professor's information from the dataframe \n",
    "    # Get variable values from the dataframe\n",
    "    prof_id = data['ID'][i]\n",
    "    mid_first_name = data['FirstName'][i]\n",
    "    last_name = data['LastName'][i]\n",
    "    full_name = mid_first_name + ' ' +  last_name\n",
    "    #This line gets the school URLs from the dataframe\n",
    "    if data_type == \"lateral\":\n",
    "        school_url = [data['Short URL Origin'][i], data['Short URL Destination'][i]]\n",
    "        school = data['Origin School'][i]\n",
    "        new_school = data['Destination School'][i]\n",
    "    elif data_type == \"control\":\n",
    "        school_url = [data['Short URL Origin'][i]]\n",
    "        school = data['Origin School'][i]\n",
    "    multi_obs = data[\"multi_obs\"][i]\n",
    "\n",
    "    # Print the name that we are considering\n",
    "    print(full_name)\n",
    "    \n",
    "    # Search by author to find potential alternative first and middle names:\n",
    "    print(school_url)\n",
    "    fm_names, err_fm_names = search_names(mid_first_name, last_name, school_url, driver, g_driver)\n",
    "\n",
    "\n",
    "    # Create a list of values to append to the dataframe\n",
    "    # We convert fm_names and err_fm_names to lists of strings during this step\n",
    "    values_alt_names = [prof_id, mid_first_name, last_name, fm_names, err_fm_names, multi_obs]\n",
    "    dict_values_alt_names = dict(zip(alt_names_columns, values_alt_names))\n",
    "    alt_names_data.append(dict_values_alt_names)"
   ]
  },
  {
   "cell_type": "code",
   "execution_count": 9,
   "metadata": {},
   "outputs": [],
   "source": [
    "# Add the names back into the dataframe of alternate names\n",
    "df_alt_names = pd.DataFrame(columns = alt_names_columns)\n",
    "\n",
    "# Only complete these steps if we have data to add\n",
    "if alt_names_data:\n",
    "    # Append all of the data to the ouput dataset and output to Excel\n",
    "    df_alt_names = df_alt_names.append(alt_names_data)\n",
    "\n",
    "    # MERGE: Merge on the other variables from the lateral data\n",
    "    alt_name_full = pd.merge(df_alt_names, lateral.drop([\"FirstName\", \"LastName\"], axis = 1), how = \"left\", left_on = \"ID\", right_on = \"ID\")\n",
    "\n",
    "else:\n",
    "    alt_name_full = df_alt_names_final\n",
    "\n",
    "# # If there was already output data, we append the data to the existing data\n",
    "if append == 1:\n",
    "    alt_names = pd.concat([df_existing_alt_names, alt_name_full], ignore_index = True)\n",
    "else:\n",
    "    alt_names = alt_name_full\n",
    "\n",
    "# DROP: Drop extra columns\n",
    "# alt_names.drop([\"diff_last_name\", \"mid_first_name\", \"last_name\"], axis = 1, inplace = True)\n",
    "\n",
    "# Export to Excel\n",
    "alt_names.to_excel(intr_path / \"alt_names.xlsx\", index = False)"
   ]
  },
  {
   "cell_type": "code",
   "execution_count": 10,
   "metadata": {},
   "outputs": [
    {
     "output_type": "execute_result",
     "data": {
      "text/plain": [
       "       ID     FirstName  LastName                 fm_names  \\\n",
       "0    1002         Bryan   Adamson          Bryan, Bryan L.   \n",
       "1    1239         David    Skover          David, David M.   \n",
       "2    1003      Nicholas    Allard              Nicholas W.   \n",
       "3    1067        Steven      Dean                   Steven   \n",
       "4    1211  Dana Brakman    Reiser             Dana Brakman   \n",
       "..    ...           ...       ...                      ...   \n",
       "286  1197        Stefan  Padfield                Stefan J.   \n",
       "287  1177          John    Miller                     John   \n",
       "288  1230     Benjamin   Priester              Benjamin J.   \n",
       "289  1186       Colleen    Murphy     Colleen, Colleen (I)   \n",
       "290  1049       William    Carter  William, William M. Jr.   \n",
       "\n",
       "                                          err_fm_names multi_obs  \\\n",
       "0                                                  NaN     False   \n",
       "1                                                  NaN     False   \n",
       "2                                                  NaN     False   \n",
       "3                                 Steven O., Steven A.     False   \n",
       "4                                                  NaN     False   \n",
       "..                                                 ...       ...   \n",
       "286                                                NaN     False   \n",
       "287                                                NaN     False   \n",
       "288                                                NaN     False   \n",
       "289                                         Colleen P.     False   \n",
       "290  William O., William Bennett, William A., Willi...     False   \n",
       "\n",
       "    Short URL Destination Short URL Origin  Lateral  LateralYear  \\\n",
       "0                     NaN              NaN      NaN          NaN   \n",
       "1                     NaN              NaN      NaN          NaN   \n",
       "2                     NaN              NaN      NaN          NaN   \n",
       "3                     NaN              NaN      NaN          NaN   \n",
       "4                     NaN              NaN      NaN          NaN   \n",
       "..                    ...              ...      ...          ...   \n",
       "286                   NaN              NaN      NaN          NaN   \n",
       "287                   NaN              NaN      NaN          NaN   \n",
       "288                   NaN              NaN      NaN          NaN   \n",
       "289                   NaN              NaN      NaN          NaN   \n",
       "290                   NaN              NaN      NaN          NaN   \n",
       "\n",
       "    Origin School Destination School  \n",
       "0             NaN                NaN  \n",
       "1             NaN                NaN  \n",
       "2             NaN                NaN  \n",
       "3             NaN                NaN  \n",
       "4             NaN                NaN  \n",
       "..            ...                ...  \n",
       "286           NaN                NaN  \n",
       "287           NaN                NaN  \n",
       "288           NaN                NaN  \n",
       "289           NaN                NaN  \n",
       "290           NaN                NaN  \n",
       "\n",
       "[291 rows x 12 columns]"
      ],
      "text/html": "<div>\n<style scoped>\n    .dataframe tbody tr th:only-of-type {\n        vertical-align: middle;\n    }\n\n    .dataframe tbody tr th {\n        vertical-align: top;\n    }\n\n    .dataframe thead th {\n        text-align: right;\n    }\n</style>\n<table border=\"1\" class=\"dataframe\">\n  <thead>\n    <tr style=\"text-align: right;\">\n      <th></th>\n      <th>ID</th>\n      <th>FirstName</th>\n      <th>LastName</th>\n      <th>fm_names</th>\n      <th>err_fm_names</th>\n      <th>multi_obs</th>\n      <th>Short URL Destination</th>\n      <th>Short URL Origin</th>\n      <th>Lateral</th>\n      <th>LateralYear</th>\n      <th>Origin School</th>\n      <th>Destination School</th>\n    </tr>\n  </thead>\n  <tbody>\n    <tr>\n      <th>0</th>\n      <td>1002</td>\n      <td>Bryan</td>\n      <td>Adamson</td>\n      <td>Bryan, Bryan L.</td>\n      <td>NaN</td>\n      <td>False</td>\n      <td>NaN</td>\n      <td>NaN</td>\n      <td>NaN</td>\n      <td>NaN</td>\n      <td>NaN</td>\n      <td>NaN</td>\n    </tr>\n    <tr>\n      <th>1</th>\n      <td>1239</td>\n      <td>David</td>\n      <td>Skover</td>\n      <td>David, David M.</td>\n      <td>NaN</td>\n      <td>False</td>\n      <td>NaN</td>\n      <td>NaN</td>\n      <td>NaN</td>\n      <td>NaN</td>\n      <td>NaN</td>\n      <td>NaN</td>\n    </tr>\n    <tr>\n      <th>2</th>\n      <td>1003</td>\n      <td>Nicholas</td>\n      <td>Allard</td>\n      <td>Nicholas W.</td>\n      <td>NaN</td>\n      <td>False</td>\n      <td>NaN</td>\n      <td>NaN</td>\n      <td>NaN</td>\n      <td>NaN</td>\n      <td>NaN</td>\n      <td>NaN</td>\n    </tr>\n    <tr>\n      <th>3</th>\n      <td>1067</td>\n      <td>Steven</td>\n      <td>Dean</td>\n      <td>Steven</td>\n      <td>Steven O., Steven A.</td>\n      <td>False</td>\n      <td>NaN</td>\n      <td>NaN</td>\n      <td>NaN</td>\n      <td>NaN</td>\n      <td>NaN</td>\n      <td>NaN</td>\n    </tr>\n    <tr>\n      <th>4</th>\n      <td>1211</td>\n      <td>Dana Brakman</td>\n      <td>Reiser</td>\n      <td>Dana Brakman</td>\n      <td>NaN</td>\n      <td>False</td>\n      <td>NaN</td>\n      <td>NaN</td>\n      <td>NaN</td>\n      <td>NaN</td>\n      <td>NaN</td>\n      <td>NaN</td>\n    </tr>\n    <tr>\n      <th>...</th>\n      <td>...</td>\n      <td>...</td>\n      <td>...</td>\n      <td>...</td>\n      <td>...</td>\n      <td>...</td>\n      <td>...</td>\n      <td>...</td>\n      <td>...</td>\n      <td>...</td>\n      <td>...</td>\n      <td>...</td>\n    </tr>\n    <tr>\n      <th>286</th>\n      <td>1197</td>\n      <td>Stefan</td>\n      <td>Padfield</td>\n      <td>Stefan J.</td>\n      <td>NaN</td>\n      <td>False</td>\n      <td>NaN</td>\n      <td>NaN</td>\n      <td>NaN</td>\n      <td>NaN</td>\n      <td>NaN</td>\n      <td>NaN</td>\n    </tr>\n    <tr>\n      <th>287</th>\n      <td>1177</td>\n      <td>John</td>\n      <td>Miller</td>\n      <td>John</td>\n      <td>NaN</td>\n      <td>False</td>\n      <td>NaN</td>\n      <td>NaN</td>\n      <td>NaN</td>\n      <td>NaN</td>\n      <td>NaN</td>\n      <td>NaN</td>\n    </tr>\n    <tr>\n      <th>288</th>\n      <td>1230</td>\n      <td>Benjamin</td>\n      <td>Priester</td>\n      <td>Benjamin J.</td>\n      <td>NaN</td>\n      <td>False</td>\n      <td>NaN</td>\n      <td>NaN</td>\n      <td>NaN</td>\n      <td>NaN</td>\n      <td>NaN</td>\n      <td>NaN</td>\n    </tr>\n    <tr>\n      <th>289</th>\n      <td>1186</td>\n      <td>Colleen</td>\n      <td>Murphy</td>\n      <td>Colleen, Colleen (I)</td>\n      <td>Colleen P.</td>\n      <td>False</td>\n      <td>NaN</td>\n      <td>NaN</td>\n      <td>NaN</td>\n      <td>NaN</td>\n      <td>NaN</td>\n      <td>NaN</td>\n    </tr>\n    <tr>\n      <th>290</th>\n      <td>1049</td>\n      <td>William</td>\n      <td>Carter</td>\n      <td>William, William M. Jr.</td>\n      <td>William O., William Bennett, William A., Willi...</td>\n      <td>False</td>\n      <td>NaN</td>\n      <td>NaN</td>\n      <td>NaN</td>\n      <td>NaN</td>\n      <td>NaN</td>\n      <td>NaN</td>\n    </tr>\n  </tbody>\n</table>\n<p>291 rows × 12 columns</p>\n</div>"
     },
     "metadata": {},
     "execution_count": 10
    }
   ],
   "source": [
    "alt_names"
   ]
  },
  {
   "cell_type": "code",
   "execution_count": null,
   "metadata": {},
   "outputs": [],
   "source": []
  }
 ],
 "metadata": {
  "kernelspec": {
   "display_name": "web_scraping",
   "language": "python",
   "name": "web_scraping"
  },
  "language_info": {
   "codemirror_mode": {
    "name": "ipython",
    "version": 3
   },
   "file_extension": ".py",
   "mimetype": "text/x-python",
   "name": "python",
   "nbconvert_exporter": "python",
   "pygments_lexer": "ipython3",
   "version": "3.8.5-final"
  }
 },
 "nbformat": 4,
 "nbformat_minor": 2
}
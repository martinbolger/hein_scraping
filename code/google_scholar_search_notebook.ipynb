{
 "metadata": {
  "language_info": {
   "codemirror_mode": {
    "name": "ipython",
    "version": 3
   },
   "file_extension": ".py",
   "mimetype": "text/x-python",
   "name": "python",
   "nbconvert_exporter": "python",
   "pygments_lexer": "ipython3",
   "version": "3.8.5"
  },
  "orig_nbformat": 2,
  "kernelspec": {
   "name": "python3",
   "display_name": "Python 3.8.5 64-bit ('selenium_env': conda)"
  },
  "interpreter": {
   "hash": "a6b47012f14d21a47a116f37ec44e00a94b21aded5509aefe8b70d4e685c6dab"
  }
 },
 "nbformat": 4,
 "nbformat_minor": 2,
 "cells": [
  {
   "cell_type": "code",
   "execution_count": 1,
   "metadata": {},
   "outputs": [],
   "source": [
    "from selenium import webdriver\n",
    "from selenium.webdriver.chrome.options import Options\n",
    "import pandas as pd\n",
    "import bs4 as bs\n",
    "import os\n",
    "import numpy as np\n",
    "import re\n",
    "import time\n",
    "from selenium.webdriver.common.keys import Keys\n",
    "from selenium.common.exceptions import NoSuchElementException, StaleElementReferenceException\n",
    "import nltk\n",
    "import requests\n",
    "import random\n",
    "import math\n",
    "import pathlib \n",
    "import modules.hein_scraping_functions\n",
    "\n",
    "from modules.create_path import create_path\n",
    "from modules.hein_scraping_functions import create_browser, webpage_wait"
   ]
  },
  {
   "cell_type": "code",
   "execution_count": 2,
   "metadata": {},
   "outputs": [],
   "source": [
    "# Create the paths for the data directories\n",
    "input_path, work_path, intr_path, out_path, selenium_driver_path = create_path()\n",
    "\n",
    "# Create the paths for the Chrome binary and selenium driver\n",
    "chrome_binary_path = pathlib.Path(\"C:\\\\Program Files (x86)\\\\BraveSoftware\\\\Brave-Browser\\\\Application\\\\brave.exe\")\n",
    "selenium_driver_full_path = selenium_driver_path / \"chromedriver.exe\"\n",
    "\n",
    "# Initalize the browsers that we are going to use\n",
    "driver = create_browser(chrome_binary_path, selenium_driver_full_path)\n",
    "\n",
    "driver.get(\"https://scholar.google.com/scholar?hl=en&as_sdt=5%2C36&sciodt=0%2C36&cites=17432944610365151854&scipsc=&q=%22Australian+Coastal+and+Marine+Law%22&oq=\")\n"
   ]
  },
  {
   "cell_type": "code",
   "execution_count": 11,
   "metadata": {},
   "outputs": [],
   "source": [
    "# Load the dataset from the input directory\n",
    "paper_df = pd.read_excel(input_path / \"google_scholar_paper_list.xlsx\", sheet_name='Sheet1')\n",
    "data = paper_df"
   ]
  },
  {
   "cell_type": "code",
   "execution_count": 22,
   "metadata": {},
   "outputs": [],
   "source": [
    "def search_google_scholar(search_text, driver):\n",
    "\n",
    "    driver.get(\"https://scholar.google.com/scholar?hl=en&as_sdt=5%2C36&sciodt=0%2C36&cites=17432944610365151854&scipsc=&q=%22Australian+Coastal+and+Marine+Law%22&oq=\")\n",
    "    \n",
    "    # Make sure the webpage has loaded\n",
    "    webpage_wait('//*[@id=\"gs_bdy_ccl\"]', driver)\n",
    "\n",
    "    # Enter the search text\n",
    "    full_text = driver.find_element_by_xpath('//*[@id=\"gs_hdr_tsi\"]')\n",
    "    full_text.clear()\n",
    "    full_text.send_keys(search_text)\n",
    "\n",
    "    # Click the search button\n",
    "    search = driver.find_element_by_xpath('//*[@id=\"gs_hdr_tsb\"]/span/span[1]').click()\n",
    "    # Look for the number of results pannel\n",
    "    results_count_elm = driver.find_element_by_xpath('//*[@id=\"gs_res_ccl_mid\"]/div/div/div[3]/a[3]')\n",
    "    results_count_text = results_count_elm.text\n",
    "    # This only matches integers up to 999,999, but I doubt that will be a problem.\n",
    "    match = re.search(r\"^Cited by (0|[1-9]\\d{0,2},?\\d*)\", results_count_text)\n",
    "    if match == None:\n",
    "        result_count = 0\n",
    "    else:\n",
    "        result_count = match.group(1)\n",
    "    \n",
    "    driver.get(\"http://amazon.com\")\n",
    "    time.sleep(3)\n",
    "    driver.get(\"http://facebook.com\")\n",
    "    return result_count\n"
   ]
  },
  {
   "cell_type": "code",
   "execution_count": 23,
   "metadata": {},
   "outputs": [
    {
     "output_type": "stream",
     "name": "stderr",
     "text": [
      "<ipython-input-23-ad3400c9dbaf>:3: SettingWithCopyWarning: \nA value is trying to be set on a copy of a slice from a DataFrame.\nTry using .loc[row_indexer,col_indexer] = value instead\n\nSee the caveats in the documentation: https://pandas.pydata.org/pandas-docs/stable/user_guide/indexing.html#returning-a-view-versus-a-copy\n  data_subset[\"google scholar cite count\"] = data_subset.apply(lambda x: search_google_scholar(x[\"google scholar search\"], driver), axis = 1)\n"
     ]
    }
   ],
   "source": [
    "# Search for each string and save the results to the dataset\n",
    "data_subset = data.iloc[0:100, :]\n",
    "data_subset[\"google scholar cite count\"] = data_subset.apply(lambda x: search_google_scholar(x[\"google scholar search\"], driver), axis = 1)"
   ]
  },
  {
   "cell_type": "code",
   "execution_count": 24,
   "metadata": {},
   "outputs": [],
   "source": [
    "# Export to Excel\n",
    "data_subset.to_excel(intr_path / \"_google_scholar_cites_df.xlsx\", index = False)"
   ]
  },
  {
   "cell_type": "code",
   "execution_count": null,
   "metadata": {},
   "outputs": [],
   "source": []
  }
 ]
}
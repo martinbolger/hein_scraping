{
 "metadata": {
  "language_info": {
   "codemirror_mode": {
    "name": "ipython",
    "version": 3
   },
   "file_extension": ".py",
   "mimetype": "text/x-python",
   "name": "python",
   "nbconvert_exporter": "python",
   "pygments_lexer": "ipython3",
   "version": "3.8.5"
  },
  "orig_nbformat": 2,
  "kernelspec": {
   "name": "python3",
   "display_name": "Python 3.8.5 64-bit ('selenium_env': conda)"
  },
  "interpreter": {
   "hash": "a6b47012f14d21a47a116f37ec44e00a94b21aded5509aefe8b70d4e685c6dab"
  }
 },
 "nbformat": 4,
 "nbformat_minor": 2,
 "cells": [
  {
   "cell_type": "code",
   "execution_count": 1,
   "metadata": {},
   "outputs": [],
   "source": [
    "from selenium import webdriver\n",
    "from selenium.webdriver.chrome.options import Options\n",
    "import pandas as pd\n",
    "import bs4 as bs\n",
    "import os\n",
    "import numpy as np\n",
    "import re\n",
    "import time\n",
    "from selenium.webdriver.common.keys import Keys\n",
    "import nltk\n",
    "import requests\n",
    "import random\n",
    "import math\n",
    "import pathlib \n",
    "import modules.hein_scraping_functions\n",
    "\n",
    "from modules.create_path import create_path\n",
    "from modules.hein_scraping_functions import create_browser, webpage_wait, search_hein_for_cites"
   ]
  },
  {
   "cell_type": "code",
   "execution_count": 2,
   "metadata": {},
   "outputs": [],
   "source": [
    "# Create the paths for the data directories\n",
    "input_path, work_path, intr_path, out_path, selenium_driver_path = create_path()\n",
    "\n",
    "# Create the paths for the Chrome binary and selenium driver\n",
    "chrome_binary_path = pathlib.Path(\"C:\\\\Program Files (x86)\\\\BraveSoftware\\\\Brave-Browser\\\\Application\\\\brave.exe\")\n",
    "selenium_driver_full_path = selenium_driver_path / \"chromedriver.exe\"\n",
    "\n",
    "# Initalize the browsers that we are going to use\n",
    "driver = create_browser(chrome_binary_path, selenium_driver_full_path)\n",
    "\n",
    "driver.get(\"http://proxy.its.virginia.edu/login?url=http://heinonline.org/HOL/Welcome\")\n"
   ]
  },
  {
   "cell_type": "code",
   "execution_count": 5,
   "metadata": {},
   "outputs": [
    {
     "output_type": "execute_result",
     "data": {
      "text/plain": [
       "               Professor   ID  ID_val  num Coauthors  \\\n",
       "0         Adler, Matthew    1       1              2   \n",
       "1         Adler, Matthew    1       1              1   \n",
       "2          Boyd, William   21      21              1   \n",
       "3        Brooks, Richard   25      25              2   \n",
       "4    Brown-Nagin, Tomiko   29      29              1   \n",
       "..                   ...  ...     ...            ...   \n",
       "151        Woods, Andrew  279     279              3   \n",
       "152        Yaffe, Gideon  282     282              1   \n",
       "153        Yaffe, Gideon  282     282              1   \n",
       "154        Yaffe, Gideon  282     282              1   \n",
       "155      Zellmer, Sandra  287     287              2   \n",
       "\n",
       "                                                 Title  \\\n",
       "0             New Foundations Of Cost-Benefit Analysis   \n",
       "1    Well-Being And Fair Distribution: Beyond Cost-...   \n",
       "2    The Slain Wood: Papermaking And Its Environmen...   \n",
       "3    Saving The Neighborhood: Racially Restrictive ...   \n",
       "4    Courage To Dissent: Atlanta And The Long Histo...   \n",
       "..                                                 ...   \n",
       "151  Understanding Social Action, Promoting Human R...   \n",
       "152       Liberty Worth The Name: Locke On Free Agency   \n",
       "153  Manifest Activity: Thomas Reid’S Theory Of Action   \n",
       "154  Attempts: In The Philosophy Of Action And The ...   \n",
       "155  Mississippi River Tragedies: A Century Of Unna...   \n",
       "\n",
       "                                        search string2  Year  LateralYear  \\\n",
       "0    \"(NEW FOUNDATIONS OF COST-BENEFIT ANALYSIS) (A...  2006         2012   \n",
       "1    \"(WELL-BEING AND FAIR DISTRIBUTION) (BEYOND) (...  2012         2012   \n",
       "2          \"(THE SLAIN WOOD) (PAPERMAKING) (BOYD)\" ~15  2015         2017   \n",
       "3    \"(SAVING THE NEIGHBORHOOD) (RACIALLY RESTRICTI...  2013         2017   \n",
       "4    \"(COURAGE TO DISSENT) (ATLANTA) (BROWN-NAGIN)\"...  2011         2012   \n",
       "..                                                 ...   ...          ...   \n",
       "151  \"(UNDERSTANDING SOCIAL ACTION, PROMOTING HUMAN...  2012         2018   \n",
       "152  \"(LIBERTY WORTH THE NAME) (FREE AGENCY) (YAFFE...  2000         2012   \n",
       "153  \"(MANIFEST ACTIVITY) (THEORY OF ACTION) (YAFFE...  2004         2012   \n",
       "154    \"(ATTEMPTS) (PHILOSOPHY OF ACTION) (YAFFE)\" ~15  2010         2012   \n",
       "155  \"(MISSISSIPPI RIVER TRAGEDIES) (UNNATURAL DISA...  2014         2018   \n",
       "\n",
       "     orig cites  \n",
       "0           227  \n",
       "1            72  \n",
       "2             2  \n",
       "3            61  \n",
       "4           141  \n",
       "..          ...  \n",
       "151          25  \n",
       "152           4  \n",
       "153           0  \n",
       "154          25  \n",
       "155           1  \n",
       "\n",
       "[156 rows x 9 columns]"
      ],
      "text/html": "<div>\n<style scoped>\n    .dataframe tbody tr th:only-of-type {\n        vertical-align: middle;\n    }\n\n    .dataframe tbody tr th {\n        vertical-align: top;\n    }\n\n    .dataframe thead th {\n        text-align: right;\n    }\n</style>\n<table border=\"1\" class=\"dataframe\">\n  <thead>\n    <tr style=\"text-align: right;\">\n      <th></th>\n      <th>Professor</th>\n      <th>ID</th>\n      <th>ID_val</th>\n      <th>num Coauthors</th>\n      <th>Title</th>\n      <th>search string2</th>\n      <th>Year</th>\n      <th>LateralYear</th>\n      <th>orig cites</th>\n    </tr>\n  </thead>\n  <tbody>\n    <tr>\n      <th>0</th>\n      <td>Adler, Matthew</td>\n      <td>1</td>\n      <td>1</td>\n      <td>2</td>\n      <td>New Foundations Of Cost-Benefit Analysis</td>\n      <td>\"(NEW FOUNDATIONS OF COST-BENEFIT ANALYSIS) (A...</td>\n      <td>2006</td>\n      <td>2012</td>\n      <td>227</td>\n    </tr>\n    <tr>\n      <th>1</th>\n      <td>Adler, Matthew</td>\n      <td>1</td>\n      <td>1</td>\n      <td>1</td>\n      <td>Well-Being And Fair Distribution: Beyond Cost-...</td>\n      <td>\"(WELL-BEING AND FAIR DISTRIBUTION) (BEYOND) (...</td>\n      <td>2012</td>\n      <td>2012</td>\n      <td>72</td>\n    </tr>\n    <tr>\n      <th>2</th>\n      <td>Boyd, William</td>\n      <td>21</td>\n      <td>21</td>\n      <td>1</td>\n      <td>The Slain Wood: Papermaking And Its Environmen...</td>\n      <td>\"(THE SLAIN WOOD) (PAPERMAKING) (BOYD)\" ~15</td>\n      <td>2015</td>\n      <td>2017</td>\n      <td>2</td>\n    </tr>\n    <tr>\n      <th>3</th>\n      <td>Brooks, Richard</td>\n      <td>25</td>\n      <td>25</td>\n      <td>2</td>\n      <td>Saving The Neighborhood: Racially Restrictive ...</td>\n      <td>\"(SAVING THE NEIGHBORHOOD) (RACIALLY RESTRICTI...</td>\n      <td>2013</td>\n      <td>2017</td>\n      <td>61</td>\n    </tr>\n    <tr>\n      <th>4</th>\n      <td>Brown-Nagin, Tomiko</td>\n      <td>29</td>\n      <td>29</td>\n      <td>1</td>\n      <td>Courage To Dissent: Atlanta And The Long Histo...</td>\n      <td>\"(COURAGE TO DISSENT) (ATLANTA) (BROWN-NAGIN)\"...</td>\n      <td>2011</td>\n      <td>2012</td>\n      <td>141</td>\n    </tr>\n    <tr>\n      <th>...</th>\n      <td>...</td>\n      <td>...</td>\n      <td>...</td>\n      <td>...</td>\n      <td>...</td>\n      <td>...</td>\n      <td>...</td>\n      <td>...</td>\n      <td>...</td>\n    </tr>\n    <tr>\n      <th>151</th>\n      <td>Woods, Andrew</td>\n      <td>279</td>\n      <td>279</td>\n      <td>3</td>\n      <td>Understanding Social Action, Promoting Human R...</td>\n      <td>\"(UNDERSTANDING SOCIAL ACTION, PROMOTING HUMAN...</td>\n      <td>2012</td>\n      <td>2018</td>\n      <td>25</td>\n    </tr>\n    <tr>\n      <th>152</th>\n      <td>Yaffe, Gideon</td>\n      <td>282</td>\n      <td>282</td>\n      <td>1</td>\n      <td>Liberty Worth The Name: Locke On Free Agency</td>\n      <td>\"(LIBERTY WORTH THE NAME) (FREE AGENCY) (YAFFE...</td>\n      <td>2000</td>\n      <td>2012</td>\n      <td>4</td>\n    </tr>\n    <tr>\n      <th>153</th>\n      <td>Yaffe, Gideon</td>\n      <td>282</td>\n      <td>282</td>\n      <td>1</td>\n      <td>Manifest Activity: Thomas Reid’S Theory Of Action</td>\n      <td>\"(MANIFEST ACTIVITY) (THEORY OF ACTION) (YAFFE...</td>\n      <td>2004</td>\n      <td>2012</td>\n      <td>0</td>\n    </tr>\n    <tr>\n      <th>154</th>\n      <td>Yaffe, Gideon</td>\n      <td>282</td>\n      <td>282</td>\n      <td>1</td>\n      <td>Attempts: In The Philosophy Of Action And The ...</td>\n      <td>\"(ATTEMPTS) (PHILOSOPHY OF ACTION) (YAFFE)\" ~15</td>\n      <td>2010</td>\n      <td>2012</td>\n      <td>25</td>\n    </tr>\n    <tr>\n      <th>155</th>\n      <td>Zellmer, Sandra</td>\n      <td>287</td>\n      <td>287</td>\n      <td>2</td>\n      <td>Mississippi River Tragedies: A Century Of Unna...</td>\n      <td>\"(MISSISSIPPI RIVER TRAGEDIES) (UNNATURAL DISA...</td>\n      <td>2014</td>\n      <td>2018</td>\n      <td>1</td>\n    </tr>\n  </tbody>\n</table>\n<p>156 rows × 9 columns</p>\n</div>"
     },
     "metadata": {},
     "execution_count": 5
    }
   ],
   "source": [
    "book_df = pd.read_excel(input_path / \"_book_df_20210728 before lateral.xlsx\", sheet_name='Sheet1')\n",
    "book_df"
   ]
  },
  {
   "cell_type": "code",
   "execution_count": 6,
   "metadata": {},
   "outputs": [
    {
     "output_type": "execute_result",
     "data": {
      "text/plain": [
       "               Professor    ID  ID_val  num Coauthors  \\\n",
       "0         Adler, Matthew  0001       1              2   \n",
       "1         Adler, Matthew  0001       1              1   \n",
       "2          Boyd, William  0021      21              1   \n",
       "3        Brooks, Richard  0025      25              2   \n",
       "4    Brown-Nagin, Tomiko  0029      29              1   \n",
       "..                   ...   ...     ...            ...   \n",
       "151        Woods, Andrew  0279     279              3   \n",
       "152        Yaffe, Gideon  0282     282              1   \n",
       "153        Yaffe, Gideon  0282     282              1   \n",
       "154        Yaffe, Gideon  0282     282              1   \n",
       "155      Zellmer, Sandra  0287     287              2   \n",
       "\n",
       "                                                 Title  \\\n",
       "0             New Foundations Of Cost-Benefit Analysis   \n",
       "1    Well-Being And Fair Distribution: Beyond Cost-...   \n",
       "2    The Slain Wood: Papermaking And Its Environmen...   \n",
       "3    Saving The Neighborhood: Racially Restrictive ...   \n",
       "4    Courage To Dissent: Atlanta And The Long Histo...   \n",
       "..                                                 ...   \n",
       "151  Understanding Social Action, Promoting Human R...   \n",
       "152       Liberty Worth The Name: Locke On Free Agency   \n",
       "153  Manifest Activity: Thomas Reid’S Theory Of Action   \n",
       "154  Attempts: In The Philosophy Of Action And The ...   \n",
       "155  Mississippi River Tragedies: A Century Of Unna...   \n",
       "\n",
       "                                        search string2  Year  LateralYear  \\\n",
       "0    \"(NEW FOUNDATIONS OF COST-BENEFIT ANALYSIS) (A...  2006         2012   \n",
       "1    \"(WELL-BEING AND FAIR DISTRIBUTION) (BEYOND) (...  2012         2012   \n",
       "2          \"(THE SLAIN WOOD) (PAPERMAKING) (BOYD)\" ~15  2015         2017   \n",
       "3    \"(SAVING THE NEIGHBORHOOD) (RACIALLY RESTRICTI...  2013         2017   \n",
       "4    \"(COURAGE TO DISSENT) (ATLANTA) (BROWN-NAGIN)\"...  2011         2012   \n",
       "..                                                 ...   ...          ...   \n",
       "151  \"(UNDERSTANDING SOCIAL ACTION, PROMOTING HUMAN...  2012         2018   \n",
       "152  \"(LIBERTY WORTH THE NAME) (FREE AGENCY) (YAFFE...  2000         2012   \n",
       "153  \"(MANIFEST ACTIVITY) (THEORY OF ACTION) (YAFFE...  2004         2012   \n",
       "154    \"(ATTEMPTS) (PHILOSOPHY OF ACTION) (YAFFE)\" ~15  2010         2012   \n",
       "155  \"(MISSISSIPPI RIVER TRAGEDIES) (UNNATURAL DISA...  2014         2018   \n",
       "\n",
       "     orig cites  \n",
       "0           227  \n",
       "1            72  \n",
       "2             2  \n",
       "3            61  \n",
       "4           141  \n",
       "..          ...  \n",
       "151          25  \n",
       "152           4  \n",
       "153           0  \n",
       "154          25  \n",
       "155           1  \n",
       "\n",
       "[156 rows x 9 columns]"
      ],
      "text/html": "<div>\n<style scoped>\n    .dataframe tbody tr th:only-of-type {\n        vertical-align: middle;\n    }\n\n    .dataframe tbody tr th {\n        vertical-align: top;\n    }\n\n    .dataframe thead th {\n        text-align: right;\n    }\n</style>\n<table border=\"1\" class=\"dataframe\">\n  <thead>\n    <tr style=\"text-align: right;\">\n      <th></th>\n      <th>Professor</th>\n      <th>ID</th>\n      <th>ID_val</th>\n      <th>num Coauthors</th>\n      <th>Title</th>\n      <th>search string2</th>\n      <th>Year</th>\n      <th>LateralYear</th>\n      <th>orig cites</th>\n    </tr>\n  </thead>\n  <tbody>\n    <tr>\n      <th>0</th>\n      <td>Adler, Matthew</td>\n      <td>0001</td>\n      <td>1</td>\n      <td>2</td>\n      <td>New Foundations Of Cost-Benefit Analysis</td>\n      <td>\"(NEW FOUNDATIONS OF COST-BENEFIT ANALYSIS) (A...</td>\n      <td>2006</td>\n      <td>2012</td>\n      <td>227</td>\n    </tr>\n    <tr>\n      <th>1</th>\n      <td>Adler, Matthew</td>\n      <td>0001</td>\n      <td>1</td>\n      <td>1</td>\n      <td>Well-Being And Fair Distribution: Beyond Cost-...</td>\n      <td>\"(WELL-BEING AND FAIR DISTRIBUTION) (BEYOND) (...</td>\n      <td>2012</td>\n      <td>2012</td>\n      <td>72</td>\n    </tr>\n    <tr>\n      <th>2</th>\n      <td>Boyd, William</td>\n      <td>0021</td>\n      <td>21</td>\n      <td>1</td>\n      <td>The Slain Wood: Papermaking And Its Environmen...</td>\n      <td>\"(THE SLAIN WOOD) (PAPERMAKING) (BOYD)\" ~15</td>\n      <td>2015</td>\n      <td>2017</td>\n      <td>2</td>\n    </tr>\n    <tr>\n      <th>3</th>\n      <td>Brooks, Richard</td>\n      <td>0025</td>\n      <td>25</td>\n      <td>2</td>\n      <td>Saving The Neighborhood: Racially Restrictive ...</td>\n      <td>\"(SAVING THE NEIGHBORHOOD) (RACIALLY RESTRICTI...</td>\n      <td>2013</td>\n      <td>2017</td>\n      <td>61</td>\n    </tr>\n    <tr>\n      <th>4</th>\n      <td>Brown-Nagin, Tomiko</td>\n      <td>0029</td>\n      <td>29</td>\n      <td>1</td>\n      <td>Courage To Dissent: Atlanta And The Long Histo...</td>\n      <td>\"(COURAGE TO DISSENT) (ATLANTA) (BROWN-NAGIN)\"...</td>\n      <td>2011</td>\n      <td>2012</td>\n      <td>141</td>\n    </tr>\n    <tr>\n      <th>...</th>\n      <td>...</td>\n      <td>...</td>\n      <td>...</td>\n      <td>...</td>\n      <td>...</td>\n      <td>...</td>\n      <td>...</td>\n      <td>...</td>\n      <td>...</td>\n    </tr>\n    <tr>\n      <th>151</th>\n      <td>Woods, Andrew</td>\n      <td>0279</td>\n      <td>279</td>\n      <td>3</td>\n      <td>Understanding Social Action, Promoting Human R...</td>\n      <td>\"(UNDERSTANDING SOCIAL ACTION, PROMOTING HUMAN...</td>\n      <td>2012</td>\n      <td>2018</td>\n      <td>25</td>\n    </tr>\n    <tr>\n      <th>152</th>\n      <td>Yaffe, Gideon</td>\n      <td>0282</td>\n      <td>282</td>\n      <td>1</td>\n      <td>Liberty Worth The Name: Locke On Free Agency</td>\n      <td>\"(LIBERTY WORTH THE NAME) (FREE AGENCY) (YAFFE...</td>\n      <td>2000</td>\n      <td>2012</td>\n      <td>4</td>\n    </tr>\n    <tr>\n      <th>153</th>\n      <td>Yaffe, Gideon</td>\n      <td>0282</td>\n      <td>282</td>\n      <td>1</td>\n      <td>Manifest Activity: Thomas Reid’S Theory Of Action</td>\n      <td>\"(MANIFEST ACTIVITY) (THEORY OF ACTION) (YAFFE...</td>\n      <td>2004</td>\n      <td>2012</td>\n      <td>0</td>\n    </tr>\n    <tr>\n      <th>154</th>\n      <td>Yaffe, Gideon</td>\n      <td>0282</td>\n      <td>282</td>\n      <td>1</td>\n      <td>Attempts: In The Philosophy Of Action And The ...</td>\n      <td>\"(ATTEMPTS) (PHILOSOPHY OF ACTION) (YAFFE)\" ~15</td>\n      <td>2010</td>\n      <td>2012</td>\n      <td>25</td>\n    </tr>\n    <tr>\n      <th>155</th>\n      <td>Zellmer, Sandra</td>\n      <td>0287</td>\n      <td>287</td>\n      <td>2</td>\n      <td>Mississippi River Tragedies: A Century Of Unna...</td>\n      <td>\"(MISSISSIPPI RIVER TRAGEDIES) (UNNATURAL DISA...</td>\n      <td>2014</td>\n      <td>2018</td>\n      <td>1</td>\n    </tr>\n  </tbody>\n</table>\n<p>156 rows × 9 columns</p>\n</div>"
     },
     "metadata": {},
     "execution_count": 6
    }
   ],
   "source": [
    "# Load the dataset from the input directory\n",
    "book_df['ID'] = book_df['ID'].apply(lambda x: '{0:0>4}'.format(x))\n",
    "\n",
    "# Check to see if the file for the alternate names data already exists.\n",
    "# If it does, we only want to look for the missing observations\n",
    "book_df_cur = intr_path / \"_book_df.xlsx\"\n",
    "if book_df_cur.exists():\n",
    "    print(\"Data already exists. Names that have already been scraped will be skipped\")\n",
    "    # Set the append flag to 1\n",
    "    append = 1\n",
    "    # Create the dataset of existing alt names.\n",
    "    book_df_existing_data = pd.read_excel(book_df_cur)\n",
    "    book_df_existing_data['ID'] = book_df_existing_data['ID'].apply(lambda x: '{0:0>4}'.format(x))\n",
    "    # Complete a left outer join of the existing alt names and the lateral/control data to get \n",
    "    # a list of the names that we still need to scrape alt names for.\n",
    "    data = pd.merge(book_df, book_df_existing_data[[\"ID\", \"Title\"]], how = \"outer\", left_on = [\"ID\", \"Title\"], right_on = [\"ID\", \"Title\"], indicator=True)\n",
    "    data = data[data['_merge'] == 'left_only']\n",
    "    data = data.drop([\"_merge\"], axis = 1)\n",
    "else:\n",
    "    # Set the append flag to zero because we won't have any data to append\n",
    "    append = 0\n",
    "    data = book_df\n",
    "\n",
    "data"
   ]
  },
  {
   "cell_type": "code",
   "execution_count": 7,
   "metadata": {},
   "outputs": [],
   "source": [
    "# Search for each string and save the results to the dataset\n",
    "# data[\"Results String1\"] = data.apply(lambda x: search_hein_for_books(x[\"search string1\"], x[\"LateralYear\"], driver), axis = 1)\n",
    "data[\"Results Pre-Lateral String2\"] = data.apply(lambda x: search_hein_for_cites(x[\"search string2\"], x[\"Year\"], x[\"LateralYear\"], driver), axis = 1)"
   ]
  },
  {
   "cell_type": "code",
   "execution_count": 8,
   "metadata": {},
   "outputs": [],
   "source": [
    "# Export to Excel\n",
    "data.to_excel(intr_path / \"_book_df_before_lateral.xlsx\", index = False)"
   ]
  },
  {
   "cell_type": "code",
   "execution_count": null,
   "metadata": {},
   "outputs": [],
   "source": []
  }
 ]
}
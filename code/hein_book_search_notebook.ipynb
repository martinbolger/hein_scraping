{
 "metadata": {
  "language_info": {
   "codemirror_mode": {
    "name": "ipython",
    "version": 3
   },
   "file_extension": ".py",
   "mimetype": "text/x-python",
   "name": "python",
   "nbconvert_exporter": "python",
   "pygments_lexer": "ipython3",
   "version": "3.8.5-final"
  },
  "orig_nbformat": 2,
  "kernelspec": {
   "name": "python3",
   "display_name": "Python 3.8.5 64-bit ('selenium_env': conda)",
   "metadata": {
    "interpreter": {
     "hash": "a6b47012f14d21a47a116f37ec44e00a94b21aded5509aefe8b70d4e685c6dab"
    }
   }
  }
 },
 "nbformat": 4,
 "nbformat_minor": 2,
 "cells": [
  {
   "cell_type": "code",
   "execution_count": 1,
   "metadata": {},
   "outputs": [],
   "source": [
    "from selenium import webdriver\n",
    "from selenium.webdriver.chrome.options import Options\n",
    "import pandas as pd\n",
    "import bs4 as bs\n",
    "import os\n",
    "import numpy as np\n",
    "import re\n",
    "import time\n",
    "from selenium.webdriver.common.keys import Keys\n",
    "import nltk\n",
    "import requests\n",
    "import random\n",
    "import math\n",
    "import pathlib \n",
    "import modules.hein_scraping_functions\n",
    "\n",
    "from modules.create_path import create_path\n",
    "from modules.hein_scraping_functions import create_browser, webpage_wait, search_hein"
   ]
  },
  {
   "cell_type": "code",
   "execution_count": 2,
   "metadata": {},
   "outputs": [],
   "source": [
    "# Create the paths for the data directories\n",
    "input_path, work_path, intr_path, out_path, selenium_driver_path = create_path()\n",
    "\n",
    "# Create the paths for the Chrome binary and selenium driver\n",
    "chrome_binary_path = pathlib.Path(\"C:\\\\Program Files (x86)\\\\BraveSoftware\\\\Brave-Browser\\\\Application\\\\brave.exe\")\n",
    "selenium_driver_full_path = selenium_driver_path / \"chromedriver.exe\"\n",
    "\n",
    "# Initalize the browsers that we are going to use\n",
    "driver = create_browser(chrome_binary_path, selenium_driver_full_path)\n",
    "\n",
    "driver.get(\"http://proxy.its.virginia.edu/login?url=http://heinonline.org/HOL/Welcome\")\n"
   ]
  },
  {
   "cell_type": "code",
   "execution_count": 3,
   "metadata": {},
   "outputs": [
    {
     "output_type": "execute_result",
     "data": {
      "text/plain": [
       "                Professor     Last     ID  num Coauthors  \\\n",
       "0          Adler, Matthew    Adler    1.0              1   \n",
       "1          Adler, Matthew    Adler    1.0              1   \n",
       "2          Adler, Matthew    Adler    1.0              1   \n",
       "3         Albert, Richard   Albert    3.0              1   \n",
       "4           Boyd, William     Boyd   21.0              1   \n",
       "..                    ...      ...    ...            ...   \n",
       "208  Tomlins, Christopher  Tomlins  264.0              1   \n",
       "209  Tomlins, Christopher  Tomlins  264.0              1   \n",
       "210  Tomlins, Christopher  Tomlins  264.0              1   \n",
       "211       Zellmer, Sandra  Zellmer  287.0              2   \n",
       "212       Zellmer, Sandra  Zellmer  287.0              1   \n",
       "\n",
       "                                                 Title  \\\n",
       "0            Measuring Social Welfare: An Introduction   \n",
       "1    Well-Being And Fair Distribution: Beyond Cost-...   \n",
       "2             New Foundations Of Cost-Benefit Analysis   \n",
       "3    Constitutional Amendments: Making, Breaking, A...   \n",
       "4    The Slain Wood: Papermaking And Its Environmen...   \n",
       "..                                                 ...   \n",
       "208  Freedom, Bound: Law, Labor, And Civic Identity...   \n",
       "209  Law, Labor, And Ideology In The Early American...   \n",
       "210  The State And The Unions: Labor Relations, Law...   \n",
       "211  Mississippi River Tragedies: A Century Of Unna...   \n",
       "212  Comparative Environmental & Natural Resources Law   \n",
       "\n",
       "                                        search string1  \\\n",
       "0             \"(MEASURING SOCIAL WELFARE) (ADLER)\" ~15   \n",
       "1     \"(WELL-BEING AND FAIR DISTRIBUTION) (ADLER)\" ~15   \n",
       "2    \"(NEW FOUNDATIONS OF COST-BENEFIT ANALYSIS) (A...   \n",
       "3           \"(CONSTITUTIONAL AMENDMENTS) (ALBERT)\" ~15   \n",
       "4                        \"(THE SLAIN WOOD) (BOYD)\" ~15   \n",
       "..                                                 ...   \n",
       "208                   \"(FREEDOM, BOUND) (TOMLINS)\" ~15   \n",
       "209  \"(LAW, LABOR, AND IDEOLOGY IN THE EARLY AMERIC...   \n",
       "210         \"(THE STATE AND THE UNIONS) (TOMLINS)\" ~15   \n",
       "211      \"(MISSISSIPPI RIVER TRAGEDIES) (ZELLMER)\" ~15   \n",
       "212  \"(COMPARATIVE ENVIRONMENTAL & NATURAL RESOURCE...   \n",
       "\n",
       "                                        search string2  \n",
       "0    \"(MEASURING SOCIAL WELFARE: AN INTRODUCTION) (...  \n",
       "1    \"(WELL-BEING AND FAIR DISTRIBUTION: BEYOND COS...  \n",
       "2    \"(NEW FOUNDATIONS OF COST-BENEFIT ANALYSIS) (A...  \n",
       "3    \"(CONSTITUTIONAL AMENDMENTS: MAKING, BREAKING,...  \n",
       "4    \"(THE SLAIN WOOD: PAPERMAKING AND ITS ENVIRONM...  \n",
       "..                                                 ...  \n",
       "208  \"(FREEDOM, BOUND: LAW, LABOR, AND CIVIC IDENTI...  \n",
       "209  \"(LAW, LABOR, AND IDEOLOGY IN THE EARLY AMERIC...  \n",
       "210  \"(THE STATE AND THE UNIONS: LABOR RELATIONS, L...  \n",
       "211  \"(MISSISSIPPI RIVER TRAGEDIES: A CENTURY OF UN...  \n",
       "212  \"(COMPARATIVE ENVIRONMENTAL & NATURAL RESOURCE...  \n",
       "\n",
       "[213 rows x 7 columns]"
      ],
      "text/html": "<div>\n<style scoped>\n    .dataframe tbody tr th:only-of-type {\n        vertical-align: middle;\n    }\n\n    .dataframe tbody tr th {\n        vertical-align: top;\n    }\n\n    .dataframe thead th {\n        text-align: right;\n    }\n</style>\n<table border=\"1\" class=\"dataframe\">\n  <thead>\n    <tr style=\"text-align: right;\">\n      <th></th>\n      <th>Professor</th>\n      <th>Last</th>\n      <th>ID</th>\n      <th>num Coauthors</th>\n      <th>Title</th>\n      <th>search string1</th>\n      <th>search string2</th>\n    </tr>\n  </thead>\n  <tbody>\n    <tr>\n      <th>0</th>\n      <td>Adler, Matthew</td>\n      <td>Adler</td>\n      <td>1.0</td>\n      <td>1</td>\n      <td>Measuring Social Welfare: An Introduction</td>\n      <td>\"(MEASURING SOCIAL WELFARE) (ADLER)\" ~15</td>\n      <td>\"(MEASURING SOCIAL WELFARE: AN INTRODUCTION) (...</td>\n    </tr>\n    <tr>\n      <th>1</th>\n      <td>Adler, Matthew</td>\n      <td>Adler</td>\n      <td>1.0</td>\n      <td>1</td>\n      <td>Well-Being And Fair Distribution: Beyond Cost-...</td>\n      <td>\"(WELL-BEING AND FAIR DISTRIBUTION) (ADLER)\" ~15</td>\n      <td>\"(WELL-BEING AND FAIR DISTRIBUTION: BEYOND COS...</td>\n    </tr>\n    <tr>\n      <th>2</th>\n      <td>Adler, Matthew</td>\n      <td>Adler</td>\n      <td>1.0</td>\n      <td>1</td>\n      <td>New Foundations Of Cost-Benefit Analysis</td>\n      <td>\"(NEW FOUNDATIONS OF COST-BENEFIT ANALYSIS) (A...</td>\n      <td>\"(NEW FOUNDATIONS OF COST-BENEFIT ANALYSIS) (A...</td>\n    </tr>\n    <tr>\n      <th>3</th>\n      <td>Albert, Richard</td>\n      <td>Albert</td>\n      <td>3.0</td>\n      <td>1</td>\n      <td>Constitutional Amendments: Making, Breaking, A...</td>\n      <td>\"(CONSTITUTIONAL AMENDMENTS) (ALBERT)\" ~15</td>\n      <td>\"(CONSTITUTIONAL AMENDMENTS: MAKING, BREAKING,...</td>\n    </tr>\n    <tr>\n      <th>4</th>\n      <td>Boyd, William</td>\n      <td>Boyd</td>\n      <td>21.0</td>\n      <td>1</td>\n      <td>The Slain Wood: Papermaking And Its Environmen...</td>\n      <td>\"(THE SLAIN WOOD) (BOYD)\" ~15</td>\n      <td>\"(THE SLAIN WOOD: PAPERMAKING AND ITS ENVIRONM...</td>\n    </tr>\n    <tr>\n      <th>...</th>\n      <td>...</td>\n      <td>...</td>\n      <td>...</td>\n      <td>...</td>\n      <td>...</td>\n      <td>...</td>\n      <td>...</td>\n    </tr>\n    <tr>\n      <th>208</th>\n      <td>Tomlins, Christopher</td>\n      <td>Tomlins</td>\n      <td>264.0</td>\n      <td>1</td>\n      <td>Freedom, Bound: Law, Labor, And Civic Identity...</td>\n      <td>\"(FREEDOM, BOUND) (TOMLINS)\" ~15</td>\n      <td>\"(FREEDOM, BOUND: LAW, LABOR, AND CIVIC IDENTI...</td>\n    </tr>\n    <tr>\n      <th>209</th>\n      <td>Tomlins, Christopher</td>\n      <td>Tomlins</td>\n      <td>264.0</td>\n      <td>1</td>\n      <td>Law, Labor, And Ideology In The Early American...</td>\n      <td>\"(LAW, LABOR, AND IDEOLOGY IN THE EARLY AMERIC...</td>\n      <td>\"(LAW, LABOR, AND IDEOLOGY IN THE EARLY AMERIC...</td>\n    </tr>\n    <tr>\n      <th>210</th>\n      <td>Tomlins, Christopher</td>\n      <td>Tomlins</td>\n      <td>264.0</td>\n      <td>1</td>\n      <td>The State And The Unions: Labor Relations, Law...</td>\n      <td>\"(THE STATE AND THE UNIONS) (TOMLINS)\" ~15</td>\n      <td>\"(THE STATE AND THE UNIONS: LABOR RELATIONS, L...</td>\n    </tr>\n    <tr>\n      <th>211</th>\n      <td>Zellmer, Sandra</td>\n      <td>Zellmer</td>\n      <td>287.0</td>\n      <td>2</td>\n      <td>Mississippi River Tragedies: A Century Of Unna...</td>\n      <td>\"(MISSISSIPPI RIVER TRAGEDIES) (ZELLMER)\" ~15</td>\n      <td>\"(MISSISSIPPI RIVER TRAGEDIES: A CENTURY OF UN...</td>\n    </tr>\n    <tr>\n      <th>212</th>\n      <td>Zellmer, Sandra</td>\n      <td>Zellmer</td>\n      <td>287.0</td>\n      <td>1</td>\n      <td>Comparative Environmental &amp; Natural Resources Law</td>\n      <td>\"(COMPARATIVE ENVIRONMENTAL &amp; NATURAL RESOURCE...</td>\n      <td>\"(COMPARATIVE ENVIRONMENTAL &amp; NATURAL RESOURCE...</td>\n    </tr>\n  </tbody>\n</table>\n<p>213 rows × 7 columns</p>\n</div>"
     },
     "metadata": {},
     "execution_count": 3
    }
   ],
   "source": [
    "# Load the dataset from the input directory\n",
    "book_df = pd.read_excel(input_path / \"book_search.xlsx\", sheet_name='for martin')\n",
    "\n",
    "book_df"
   ]
  },
  {
   "cell_type": "code",
   "execution_count": 9,
   "metadata": {},
   "outputs": [
    {
     "output_type": "error",
     "ename": "NameError",
     "evalue": "name 'NoSuchElementException' is not defined",
     "traceback": [
      "\u001b[1;31m---------------------------------------------------------------------------\u001b[0m",
      "\u001b[1;31mNoSuchElementException\u001b[0m                    Traceback (most recent call last)",
      "\u001b[1;32m<ipython-input-9-3e532f2b2330>\u001b[0m in \u001b[0;36msearch_hein\u001b[1;34m(search_text, driver)\u001b[0m\n\u001b[0;32m     15\u001b[0m     \u001b[1;32mtry\u001b[0m\u001b[1;33m:\u001b[0m\u001b[1;33m\u001b[0m\u001b[1;33m\u001b[0m\u001b[0m\n\u001b[1;32m---> 16\u001b[1;33m         \u001b[0mresults_count_elm\u001b[0m \u001b[1;33m=\u001b[0m \u001b[0mdriver\u001b[0m\u001b[1;33m.\u001b[0m\u001b[0mfind_element_by_xpath\u001b[0m\u001b[1;33m(\u001b[0m\u001b[1;34m'//*[@id=\"results_total\"]'\u001b[0m\u001b[1;33m)\u001b[0m\u001b[1;33m\u001b[0m\u001b[1;33m\u001b[0m\u001b[0m\n\u001b[0m\u001b[0;32m     17\u001b[0m         \u001b[0mresults_count_text\u001b[0m \u001b[1;33m=\u001b[0m \u001b[0mresults_count_elm\u001b[0m\u001b[1;33m.\u001b[0m\u001b[0mtext\u001b[0m\u001b[1;33m\u001b[0m\u001b[1;33m\u001b[0m\u001b[0m\n",
      "\u001b[1;32m~\\anaconda3\\envs\\selenium_env\\lib\\site-packages\\selenium\\webdriver\\remote\\webdriver.py\u001b[0m in \u001b[0;36mfind_element_by_xpath\u001b[1;34m(self, xpath)\u001b[0m\n\u001b[0;32m    393\u001b[0m         \"\"\"\n\u001b[1;32m--> 394\u001b[1;33m         \u001b[1;32mreturn\u001b[0m \u001b[0mself\u001b[0m\u001b[1;33m.\u001b[0m\u001b[0mfind_element\u001b[0m\u001b[1;33m(\u001b[0m\u001b[0mby\u001b[0m\u001b[1;33m=\u001b[0m\u001b[0mBy\u001b[0m\u001b[1;33m.\u001b[0m\u001b[0mXPATH\u001b[0m\u001b[1;33m,\u001b[0m \u001b[0mvalue\u001b[0m\u001b[1;33m=\u001b[0m\u001b[0mxpath\u001b[0m\u001b[1;33m)\u001b[0m\u001b[1;33m\u001b[0m\u001b[1;33m\u001b[0m\u001b[0m\n\u001b[0m\u001b[0;32m    395\u001b[0m \u001b[1;33m\u001b[0m\u001b[0m\n",
      "\u001b[1;32m~\\anaconda3\\envs\\selenium_env\\lib\\site-packages\\selenium\\webdriver\\remote\\webdriver.py\u001b[0m in \u001b[0;36mfind_element\u001b[1;34m(self, by, value)\u001b[0m\n\u001b[0;32m    975\u001b[0m                 \u001b[0mvalue\u001b[0m \u001b[1;33m=\u001b[0m \u001b[1;34m'[name=\"%s\"]'\u001b[0m \u001b[1;33m%\u001b[0m \u001b[0mvalue\u001b[0m\u001b[1;33m\u001b[0m\u001b[1;33m\u001b[0m\u001b[0m\n\u001b[1;32m--> 976\u001b[1;33m         return self.execute(Command.FIND_ELEMENT, {\n\u001b[0m\u001b[0;32m    977\u001b[0m             \u001b[1;34m'using'\u001b[0m\u001b[1;33m:\u001b[0m \u001b[0mby\u001b[0m\u001b[1;33m,\u001b[0m\u001b[1;33m\u001b[0m\u001b[1;33m\u001b[0m\u001b[0m\n",
      "\u001b[1;32m~\\anaconda3\\envs\\selenium_env\\lib\\site-packages\\selenium\\webdriver\\remote\\webdriver.py\u001b[0m in \u001b[0;36mexecute\u001b[1;34m(self, driver_command, params)\u001b[0m\n\u001b[0;32m    320\u001b[0m         \u001b[1;32mif\u001b[0m \u001b[0mresponse\u001b[0m\u001b[1;33m:\u001b[0m\u001b[1;33m\u001b[0m\u001b[1;33m\u001b[0m\u001b[0m\n\u001b[1;32m--> 321\u001b[1;33m             \u001b[0mself\u001b[0m\u001b[1;33m.\u001b[0m\u001b[0merror_handler\u001b[0m\u001b[1;33m.\u001b[0m\u001b[0mcheck_response\u001b[0m\u001b[1;33m(\u001b[0m\u001b[0mresponse\u001b[0m\u001b[1;33m)\u001b[0m\u001b[1;33m\u001b[0m\u001b[1;33m\u001b[0m\u001b[0m\n\u001b[0m\u001b[0;32m    322\u001b[0m             response['value'] = self._unwrap_value(\n",
      "\u001b[1;32m~\\anaconda3\\envs\\selenium_env\\lib\\site-packages\\selenium\\webdriver\\remote\\errorhandler.py\u001b[0m in \u001b[0;36mcheck_response\u001b[1;34m(self, response)\u001b[0m\n\u001b[0;32m    241\u001b[0m             \u001b[1;32mraise\u001b[0m \u001b[0mexception_class\u001b[0m\u001b[1;33m(\u001b[0m\u001b[0mmessage\u001b[0m\u001b[1;33m,\u001b[0m \u001b[0mscreen\u001b[0m\u001b[1;33m,\u001b[0m \u001b[0mstacktrace\u001b[0m\u001b[1;33m,\u001b[0m \u001b[0malert_text\u001b[0m\u001b[1;33m)\u001b[0m\u001b[1;33m\u001b[0m\u001b[1;33m\u001b[0m\u001b[0m\n\u001b[1;32m--> 242\u001b[1;33m         \u001b[1;32mraise\u001b[0m \u001b[0mexception_class\u001b[0m\u001b[1;33m(\u001b[0m\u001b[0mmessage\u001b[0m\u001b[1;33m,\u001b[0m \u001b[0mscreen\u001b[0m\u001b[1;33m,\u001b[0m \u001b[0mstacktrace\u001b[0m\u001b[1;33m)\u001b[0m\u001b[1;33m\u001b[0m\u001b[1;33m\u001b[0m\u001b[0m\n\u001b[0m\u001b[0;32m    243\u001b[0m \u001b[1;33m\u001b[0m\u001b[0m\n",
      "\u001b[1;31mNoSuchElementException\u001b[0m: Message: no such element: Unable to locate element: {\"method\":\"xpath\",\"selector\":\"//*[@id=\"results_total\"]\"}\n  (Session info: chrome=89.0.4389.72)\n",
      "\nDuring handling of the above exception, another exception occurred:\n",
      "\u001b[1;31mNameError\u001b[0m                                 Traceback (most recent call last)",
      "\u001b[1;32m<ipython-input-9-3e532f2b2330>\u001b[0m in \u001b[0;36m<module>\u001b[1;34m\u001b[0m\n\u001b[0;32m     24\u001b[0m \u001b[1;33m\u001b[0m\u001b[0m\n\u001b[0;32m     25\u001b[0m \u001b[0mbook_df_subset\u001b[0m \u001b[1;33m=\u001b[0m \u001b[0mbook_df\u001b[0m\u001b[1;33m[\u001b[0m\u001b[1;33m:\u001b[0m\u001b[1;36m50\u001b[0m\u001b[1;33m]\u001b[0m\u001b[1;33m\u001b[0m\u001b[1;33m\u001b[0m\u001b[0m\n\u001b[1;32m---> 26\u001b[1;33m \u001b[0mbook_df_subset\u001b[0m\u001b[1;33m[\u001b[0m\u001b[1;34m\"Results String1\"\u001b[0m\u001b[1;33m]\u001b[0m \u001b[1;33m=\u001b[0m \u001b[0mbook_df_subset\u001b[0m\u001b[1;33m[\u001b[0m\u001b[1;34m\"search string1\"\u001b[0m\u001b[1;33m]\u001b[0m\u001b[1;33m.\u001b[0m\u001b[0mapply\u001b[0m\u001b[1;33m(\u001b[0m\u001b[1;32mlambda\u001b[0m \u001b[0mx\u001b[0m\u001b[1;33m:\u001b[0m \u001b[0msearch_hein\u001b[0m\u001b[1;33m(\u001b[0m\u001b[0mx\u001b[0m\u001b[1;33m,\u001b[0m \u001b[0mdriver\u001b[0m\u001b[1;33m)\u001b[0m\u001b[1;33m)\u001b[0m\u001b[1;33m.\u001b[0m\u001b[0mcopy\u001b[0m\u001b[1;33m(\u001b[0m\u001b[1;33m)\u001b[0m\u001b[1;33m\u001b[0m\u001b[1;33m\u001b[0m\u001b[0m\n\u001b[0m\u001b[0;32m     27\u001b[0m \u001b[0mbook_df_subset\u001b[0m\u001b[1;33m[\u001b[0m\u001b[1;34m\"Results String2\"\u001b[0m\u001b[1;33m]\u001b[0m \u001b[1;33m=\u001b[0m \u001b[0mbook_df_subset\u001b[0m\u001b[1;33m[\u001b[0m\u001b[1;34m\"search string2\"\u001b[0m\u001b[1;33m]\u001b[0m\u001b[1;33m.\u001b[0m\u001b[0mapply\u001b[0m\u001b[1;33m(\u001b[0m\u001b[1;32mlambda\u001b[0m \u001b[0mx\u001b[0m\u001b[1;33m:\u001b[0m \u001b[0msearch_hein\u001b[0m\u001b[1;33m(\u001b[0m\u001b[0mx\u001b[0m\u001b[1;33m,\u001b[0m \u001b[0mdriver\u001b[0m\u001b[1;33m)\u001b[0m\u001b[1;33m)\u001b[0m\u001b[1;33m.\u001b[0m\u001b[0mcopy\u001b[0m\u001b[1;33m(\u001b[0m\u001b[1;33m)\u001b[0m\u001b[1;33m\u001b[0m\u001b[1;33m\u001b[0m\u001b[0m\n",
      "\u001b[1;32m~\\anaconda3\\envs\\selenium_env\\lib\\site-packages\\pandas\\core\\series.py\u001b[0m in \u001b[0;36mapply\u001b[1;34m(self, func, convert_dtype, args, **kwds)\u001b[0m\n\u001b[0;32m   4198\u001b[0m             \u001b[1;32melse\u001b[0m\u001b[1;33m:\u001b[0m\u001b[1;33m\u001b[0m\u001b[1;33m\u001b[0m\u001b[0m\n\u001b[0;32m   4199\u001b[0m                 \u001b[0mvalues\u001b[0m \u001b[1;33m=\u001b[0m \u001b[0mself\u001b[0m\u001b[1;33m.\u001b[0m\u001b[0mastype\u001b[0m\u001b[1;33m(\u001b[0m\u001b[0mobject\u001b[0m\u001b[1;33m)\u001b[0m\u001b[1;33m.\u001b[0m\u001b[0m_values\u001b[0m\u001b[1;33m\u001b[0m\u001b[1;33m\u001b[0m\u001b[0m\n\u001b[1;32m-> 4200\u001b[1;33m                 \u001b[0mmapped\u001b[0m \u001b[1;33m=\u001b[0m \u001b[0mlib\u001b[0m\u001b[1;33m.\u001b[0m\u001b[0mmap_infer\u001b[0m\u001b[1;33m(\u001b[0m\u001b[0mvalues\u001b[0m\u001b[1;33m,\u001b[0m \u001b[0mf\u001b[0m\u001b[1;33m,\u001b[0m \u001b[0mconvert\u001b[0m\u001b[1;33m=\u001b[0m\u001b[0mconvert_dtype\u001b[0m\u001b[1;33m)\u001b[0m\u001b[1;33m\u001b[0m\u001b[1;33m\u001b[0m\u001b[0m\n\u001b[0m\u001b[0;32m   4201\u001b[0m \u001b[1;33m\u001b[0m\u001b[0m\n\u001b[0;32m   4202\u001b[0m         \u001b[1;32mif\u001b[0m \u001b[0mlen\u001b[0m\u001b[1;33m(\u001b[0m\u001b[0mmapped\u001b[0m\u001b[1;33m)\u001b[0m \u001b[1;32mand\u001b[0m \u001b[0misinstance\u001b[0m\u001b[1;33m(\u001b[0m\u001b[0mmapped\u001b[0m\u001b[1;33m[\u001b[0m\u001b[1;36m0\u001b[0m\u001b[1;33m]\u001b[0m\u001b[1;33m,\u001b[0m \u001b[0mSeries\u001b[0m\u001b[1;33m)\u001b[0m\u001b[1;33m:\u001b[0m\u001b[1;33m\u001b[0m\u001b[1;33m\u001b[0m\u001b[0m\n",
      "\u001b[1;32mpandas\\_libs\\lib.pyx\u001b[0m in \u001b[0;36mpandas._libs.lib.map_infer\u001b[1;34m()\u001b[0m\n",
      "\u001b[1;32m<ipython-input-9-3e532f2b2330>\u001b[0m in \u001b[0;36m<lambda>\u001b[1;34m(x)\u001b[0m\n\u001b[0;32m     24\u001b[0m \u001b[1;33m\u001b[0m\u001b[0m\n\u001b[0;32m     25\u001b[0m \u001b[0mbook_df_subset\u001b[0m \u001b[1;33m=\u001b[0m \u001b[0mbook_df\u001b[0m\u001b[1;33m[\u001b[0m\u001b[1;33m:\u001b[0m\u001b[1;36m50\u001b[0m\u001b[1;33m]\u001b[0m\u001b[1;33m\u001b[0m\u001b[1;33m\u001b[0m\u001b[0m\n\u001b[1;32m---> 26\u001b[1;33m \u001b[0mbook_df_subset\u001b[0m\u001b[1;33m[\u001b[0m\u001b[1;34m\"Results String1\"\u001b[0m\u001b[1;33m]\u001b[0m \u001b[1;33m=\u001b[0m \u001b[0mbook_df_subset\u001b[0m\u001b[1;33m[\u001b[0m\u001b[1;34m\"search string1\"\u001b[0m\u001b[1;33m]\u001b[0m\u001b[1;33m.\u001b[0m\u001b[0mapply\u001b[0m\u001b[1;33m(\u001b[0m\u001b[1;32mlambda\u001b[0m \u001b[0mx\u001b[0m\u001b[1;33m:\u001b[0m \u001b[0msearch_hein\u001b[0m\u001b[1;33m(\u001b[0m\u001b[0mx\u001b[0m\u001b[1;33m,\u001b[0m \u001b[0mdriver\u001b[0m\u001b[1;33m)\u001b[0m\u001b[1;33m)\u001b[0m\u001b[1;33m.\u001b[0m\u001b[0mcopy\u001b[0m\u001b[1;33m(\u001b[0m\u001b[1;33m)\u001b[0m\u001b[1;33m\u001b[0m\u001b[1;33m\u001b[0m\u001b[0m\n\u001b[0m\u001b[0;32m     27\u001b[0m \u001b[0mbook_df_subset\u001b[0m\u001b[1;33m[\u001b[0m\u001b[1;34m\"Results String2\"\u001b[0m\u001b[1;33m]\u001b[0m \u001b[1;33m=\u001b[0m \u001b[0mbook_df_subset\u001b[0m\u001b[1;33m[\u001b[0m\u001b[1;34m\"search string2\"\u001b[0m\u001b[1;33m]\u001b[0m\u001b[1;33m.\u001b[0m\u001b[0mapply\u001b[0m\u001b[1;33m(\u001b[0m\u001b[1;32mlambda\u001b[0m \u001b[0mx\u001b[0m\u001b[1;33m:\u001b[0m \u001b[0msearch_hein\u001b[0m\u001b[1;33m(\u001b[0m\u001b[0mx\u001b[0m\u001b[1;33m,\u001b[0m \u001b[0mdriver\u001b[0m\u001b[1;33m)\u001b[0m\u001b[1;33m)\u001b[0m\u001b[1;33m.\u001b[0m\u001b[0mcopy\u001b[0m\u001b[1;33m(\u001b[0m\u001b[1;33m)\u001b[0m\u001b[1;33m\u001b[0m\u001b[1;33m\u001b[0m\u001b[0m\n",
      "\u001b[1;32m<ipython-input-9-3e532f2b2330>\u001b[0m in \u001b[0;36msearch_hein\u001b[1;34m(search_text, driver)\u001b[0m\n\u001b[0;32m     18\u001b[0m         \u001b[0mmatch\u001b[0m \u001b[1;33m=\u001b[0m \u001b[0mre\u001b[0m\u001b[1;33m.\u001b[0m\u001b[0msearch\u001b[0m\u001b[1;33m(\u001b[0m\u001b[1;34mr\"^(0|[1-9]\\d*) results\"\u001b[0m\u001b[1;33m,\u001b[0m \u001b[0mresults_count_text\u001b[0m\u001b[1;33m)\u001b[0m\u001b[1;33m\u001b[0m\u001b[1;33m\u001b[0m\u001b[0m\n\u001b[0;32m     19\u001b[0m         \u001b[0mresult_count\u001b[0m \u001b[1;33m=\u001b[0m \u001b[0mmatch\u001b[0m\u001b[1;33m.\u001b[0m\u001b[0mgroup\u001b[0m\u001b[1;33m(\u001b[0m\u001b[1;36m1\u001b[0m\u001b[1;33m)\u001b[0m\u001b[1;33m\u001b[0m\u001b[1;33m\u001b[0m\u001b[0m\n\u001b[1;32m---> 20\u001b[1;33m     \u001b[1;32mexcept\u001b[0m \u001b[0mNoSuchElementException\u001b[0m\u001b[1;33m:\u001b[0m\u001b[1;33m\u001b[0m\u001b[1;33m\u001b[0m\u001b[0m\n\u001b[0m\u001b[0;32m     21\u001b[0m         \u001b[0mresult_count\u001b[0m \u001b[1;33m=\u001b[0m \u001b[1;36m0\u001b[0m\u001b[1;33m\u001b[0m\u001b[1;33m\u001b[0m\u001b[0m\n\u001b[0;32m     22\u001b[0m \u001b[1;33m\u001b[0m\u001b[0m\n",
      "\u001b[1;31mNameError\u001b[0m: name 'NoSuchElementException' is not defined"
     ]
    }
   ],
   "source": [
    "# Search for each string and save the results to the dataset\n",
    "book_df_subset = book_df[:50]\n",
    "book_df_subset[\"Results String1\"] = book_df_subset[\"search string1\"].apply(lambda x: search_hein(x, driver)).copy()\n",
    "book_df_subset[\"Results String2\"] = book_df_subset[\"search string2\"].apply(lambda x: search_hein(x, driver)).copy()"
   ]
  },
  {
   "cell_type": "code",
   "execution_count": 7,
   "metadata": {},
   "outputs": [],
   "source": [
    "# Export to Excel\n",
    "book_df_subset.to_excel(out_path / \"_book_df.xlsx\", index = False)"
   ]
  },
  {
   "cell_type": "code",
   "execution_count": null,
   "metadata": {},
   "outputs": [],
   "source": []
  }
 ]
}
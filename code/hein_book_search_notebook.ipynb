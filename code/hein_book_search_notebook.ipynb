{
 "metadata": {
  "language_info": {
   "codemirror_mode": {
    "name": "ipython",
    "version": 3
   },
   "file_extension": ".py",
   "mimetype": "text/x-python",
   "name": "python",
   "nbconvert_exporter": "python",
   "pygments_lexer": "ipython3",
   "version": "3.8.5"
  },
  "orig_nbformat": 2,
  "kernelspec": {
   "name": "python3",
   "display_name": "Python 3.8.5 64-bit ('selenium_env': conda)"
  },
  "interpreter": {
   "hash": "a6b47012f14d21a47a116f37ec44e00a94b21aded5509aefe8b70d4e685c6dab"
  }
 },
 "nbformat": 4,
 "nbformat_minor": 2,
 "cells": [
  {
   "cell_type": "code",
   "execution_count": 1,
   "metadata": {},
   "outputs": [],
   "source": [
    "from selenium import webdriver\n",
    "from selenium.webdriver.chrome.options import Options\n",
    "import pandas as pd\n",
    "import bs4 as bs\n",
    "import os\n",
    "import numpy as np\n",
    "import re\n",
    "import time\n",
    "from selenium.webdriver.common.keys import Keys\n",
    "import nltk\n",
    "import requests\n",
    "import random\n",
    "import math\n",
    "import pathlib \n",
    "import modules.hein_scraping_functions\n",
    "\n",
    "from modules.create_path import create_path\n",
    "from modules.hein_scraping_functions import create_browser, webpage_wait, search_hein_for_books"
   ]
  },
  {
   "cell_type": "code",
   "execution_count": 2,
   "metadata": {},
   "outputs": [],
   "source": [
    "# Create the paths for the data directories\n",
    "input_path, work_path, intr_path, out_path, selenium_driver_path = create_path()\n",
    "\n",
    "# Create the paths for the Chrome binary and selenium driver\n",
    "chrome_binary_path = pathlib.Path(\"C:\\\\Program Files (x86)\\\\BraveSoftware\\\\Brave-Browser\\\\Application\\\\brave.exe\")\n",
    "selenium_driver_full_path = selenium_driver_path / \"chromedriver.exe\"\n",
    "\n",
    "# Initalize the browsers that we are going to use\n",
    "driver = create_browser(chrome_binary_path, selenium_driver_full_path)\n",
    "\n",
    "driver.get(\"http://proxy.its.virginia.edu/login?url=http://heinonline.org/HOL/Welcome\")\n"
   ]
  },
  {
   "cell_type": "code",
   "execution_count": 3,
   "metadata": {},
   "outputs": [
    {
     "output_type": "execute_result",
     "data": {
      "text/plain": [
       "                Professor   ID  num Coauthors  \\\n",
       "0          Adler, Matthew    1              1   \n",
       "1          Adler, Matthew    1              1   \n",
       "2          Adler, Matthew    1              2   \n",
       "3         Albert, Richard    3              1   \n",
       "4           Boyd, William   21              1   \n",
       "..                    ...  ...            ...   \n",
       "192            Talus, Kim  262              1   \n",
       "193  Tomlins, Christopher  264              1   \n",
       "194  Tomlins, Christopher  264              1   \n",
       "195  Tomlins, Christopher  264              1   \n",
       "196       Zellmer, Sandra  287              2   \n",
       "\n",
       "                                                 Title  \\\n",
       "0            Measuring Social Welfare: An Introduction   \n",
       "1    Well-Being And Fair Distribution: Beyond Cost-...   \n",
       "2             New Foundations Of Cost-Benefit Analysis   \n",
       "3    Constitutional Amendments: Making, Breaking, A...   \n",
       "4    The Slain Wood: Papermaking And Its Environmen...   \n",
       "..                                                 ...   \n",
       "192      Eu Energy Law And Policy: A Critical Account    \n",
       "193  Freedom, Bound: Law, Labor, And Civic Identity...   \n",
       "194  Law, Labor, And Ideology In The Early American...   \n",
       "195  The State And The Unions: Labor Relations, Law...   \n",
       "196  Mississippi River Tragedies: A Century Of Unna...   \n",
       "\n",
       "                                        search string1  \\\n",
       "0             \"(MEASURING SOCIAL WELFARE) (ADLER)\" ~15   \n",
       "1     \"(WELL-BEING AND FAIR DISTRIBUTION) (ADLER)\" ~15   \n",
       "2    \"(NEW FOUNDATIONS OF COST-BENEFIT ANALYSIS) (A...   \n",
       "3           \"(CONSTITUTIONAL AMENDMENTS) (ALBERT)\" ~15   \n",
       "4                        \"(THE SLAIN WOOD) (BOYD)\" ~15   \n",
       "..                                                 ...   \n",
       "192           \"(EU ENERGY LAW AND POLICY) (TALUS)\" ~15   \n",
       "193                   \"(FREEDOM, BOUND) (TOMLINS)\" ~15   \n",
       "194  \"(LAW, LABOR, AND IDEOLOGY IN THE EARLY AMERIC...   \n",
       "195         \"(THE STATE AND THE UNIONS) (TOMLINS)\" ~15   \n",
       "196      \"(MISSISSIPPI RIVER TRAGEDIES) (ZELLMER)\" ~15   \n",
       "\n",
       "                                        search string2  Year  \n",
       "0    \"(MEASURING SOCIAL WELFARE) (AN INTRODUCTION) ...  2019  \n",
       "1    \"(WELL-BEING AND FAIR DISTRIBUTION) (BEYOND) (...  2012  \n",
       "2    \"(NEW FOUNDATIONS OF COST-BENEFIT ANALYSIS) (A...  2006  \n",
       "3    \"(CONSTITUTIONAL AMENDMENTS) (CHANGING CONSTIT...  2019  \n",
       "4          \"(THE SLAIN WOOD) (PAPERMAKING) (BOYD)\" ~15  2015  \n",
       "..                                                 ...   ...  \n",
       "192  \"(EU ENERGY LAW AND POLICY) (CRITICAL ACCOUNT)...  2013  \n",
       "193  \"(FREEDOM, BOUND) (CIVIC IDENTITY) (TOMLINS)\" ~15  2010  \n",
       "194  \"(LAW, LABOR, AND IDEOLOGY IN THE EARLY AMERIC...  1993  \n",
       "195  \"(THE STATE AND THE UNIONS) (LABOR RELATIONS) ...  1985  \n",
       "196  \"(MISSISSIPPI RIVER TRAGEDIES) (UNNATURAL DISA...  2014  \n",
       "\n",
       "[197 rows x 7 columns]"
      ],
      "text/html": "<div>\n<style scoped>\n    .dataframe tbody tr th:only-of-type {\n        vertical-align: middle;\n    }\n\n    .dataframe tbody tr th {\n        vertical-align: top;\n    }\n\n    .dataframe thead th {\n        text-align: right;\n    }\n</style>\n<table border=\"1\" class=\"dataframe\">\n  <thead>\n    <tr style=\"text-align: right;\">\n      <th></th>\n      <th>Professor</th>\n      <th>ID</th>\n      <th>num Coauthors</th>\n      <th>Title</th>\n      <th>search string1</th>\n      <th>search string2</th>\n      <th>Year</th>\n    </tr>\n  </thead>\n  <tbody>\n    <tr>\n      <th>0</th>\n      <td>Adler, Matthew</td>\n      <td>1</td>\n      <td>1</td>\n      <td>Measuring Social Welfare: An Introduction</td>\n      <td>\"(MEASURING SOCIAL WELFARE) (ADLER)\" ~15</td>\n      <td>\"(MEASURING SOCIAL WELFARE) (AN INTRODUCTION) ...</td>\n      <td>2019</td>\n    </tr>\n    <tr>\n      <th>1</th>\n      <td>Adler, Matthew</td>\n      <td>1</td>\n      <td>1</td>\n      <td>Well-Being And Fair Distribution: Beyond Cost-...</td>\n      <td>\"(WELL-BEING AND FAIR DISTRIBUTION) (ADLER)\" ~15</td>\n      <td>\"(WELL-BEING AND FAIR DISTRIBUTION) (BEYOND) (...</td>\n      <td>2012</td>\n    </tr>\n    <tr>\n      <th>2</th>\n      <td>Adler, Matthew</td>\n      <td>1</td>\n      <td>2</td>\n      <td>New Foundations Of Cost-Benefit Analysis</td>\n      <td>\"(NEW FOUNDATIONS OF COST-BENEFIT ANALYSIS) (A...</td>\n      <td>\"(NEW FOUNDATIONS OF COST-BENEFIT ANALYSIS) (A...</td>\n      <td>2006</td>\n    </tr>\n    <tr>\n      <th>3</th>\n      <td>Albert, Richard</td>\n      <td>3</td>\n      <td>1</td>\n      <td>Constitutional Amendments: Making, Breaking, A...</td>\n      <td>\"(CONSTITUTIONAL AMENDMENTS) (ALBERT)\" ~15</td>\n      <td>\"(CONSTITUTIONAL AMENDMENTS) (CHANGING CONSTIT...</td>\n      <td>2019</td>\n    </tr>\n    <tr>\n      <th>4</th>\n      <td>Boyd, William</td>\n      <td>21</td>\n      <td>1</td>\n      <td>The Slain Wood: Papermaking And Its Environmen...</td>\n      <td>\"(THE SLAIN WOOD) (BOYD)\" ~15</td>\n      <td>\"(THE SLAIN WOOD) (PAPERMAKING) (BOYD)\" ~15</td>\n      <td>2015</td>\n    </tr>\n    <tr>\n      <th>...</th>\n      <td>...</td>\n      <td>...</td>\n      <td>...</td>\n      <td>...</td>\n      <td>...</td>\n      <td>...</td>\n      <td>...</td>\n    </tr>\n    <tr>\n      <th>192</th>\n      <td>Talus, Kim</td>\n      <td>262</td>\n      <td>1</td>\n      <td>Eu Energy Law And Policy: A Critical Account</td>\n      <td>\"(EU ENERGY LAW AND POLICY) (TALUS)\" ~15</td>\n      <td>\"(EU ENERGY LAW AND POLICY) (CRITICAL ACCOUNT)...</td>\n      <td>2013</td>\n    </tr>\n    <tr>\n      <th>193</th>\n      <td>Tomlins, Christopher</td>\n      <td>264</td>\n      <td>1</td>\n      <td>Freedom, Bound: Law, Labor, And Civic Identity...</td>\n      <td>\"(FREEDOM, BOUND) (TOMLINS)\" ~15</td>\n      <td>\"(FREEDOM, BOUND) (CIVIC IDENTITY) (TOMLINS)\" ~15</td>\n      <td>2010</td>\n    </tr>\n    <tr>\n      <th>194</th>\n      <td>Tomlins, Christopher</td>\n      <td>264</td>\n      <td>1</td>\n      <td>Law, Labor, And Ideology In The Early American...</td>\n      <td>\"(LAW, LABOR, AND IDEOLOGY IN THE EARLY AMERIC...</td>\n      <td>\"(LAW, LABOR, AND IDEOLOGY IN THE EARLY AMERIC...</td>\n      <td>1993</td>\n    </tr>\n    <tr>\n      <th>195</th>\n      <td>Tomlins, Christopher</td>\n      <td>264</td>\n      <td>1</td>\n      <td>The State And The Unions: Labor Relations, Law...</td>\n      <td>\"(THE STATE AND THE UNIONS) (TOMLINS)\" ~15</td>\n      <td>\"(THE STATE AND THE UNIONS) (LABOR RELATIONS) ...</td>\n      <td>1985</td>\n    </tr>\n    <tr>\n      <th>196</th>\n      <td>Zellmer, Sandra</td>\n      <td>287</td>\n      <td>2</td>\n      <td>Mississippi River Tragedies: A Century Of Unna...</td>\n      <td>\"(MISSISSIPPI RIVER TRAGEDIES) (ZELLMER)\" ~15</td>\n      <td>\"(MISSISSIPPI RIVER TRAGEDIES) (UNNATURAL DISA...</td>\n      <td>2014</td>\n    </tr>\n  </tbody>\n</table>\n<p>197 rows × 7 columns</p>\n</div>"
     },
     "metadata": {},
     "execution_count": 3
    }
   ],
   "source": [
    "book_df = pd.read_excel(input_path / \"book_search.xlsx\", sheet_name='Sheet1')\n",
    "book_df"
   ]
  },
  {
   "cell_type": "code",
   "execution_count": 4,
   "metadata": {},
   "outputs": [
    {
     "output_type": "execute_result",
     "data": {
      "text/plain": [
       "                Professor    ID  num Coauthors  \\\n",
       "0          Adler, Matthew  0001              1   \n",
       "1          Adler, Matthew  0001              1   \n",
       "2          Adler, Matthew  0001              2   \n",
       "3         Albert, Richard  0003              1   \n",
       "4           Boyd, William  0021              1   \n",
       "..                    ...   ...            ...   \n",
       "192            Talus, Kim  0262              1   \n",
       "193  Tomlins, Christopher  0264              1   \n",
       "194  Tomlins, Christopher  0264              1   \n",
       "195  Tomlins, Christopher  0264              1   \n",
       "196       Zellmer, Sandra  0287              2   \n",
       "\n",
       "                                                 Title  \\\n",
       "0            Measuring Social Welfare: An Introduction   \n",
       "1    Well-Being And Fair Distribution: Beyond Cost-...   \n",
       "2             New Foundations Of Cost-Benefit Analysis   \n",
       "3    Constitutional Amendments: Making, Breaking, A...   \n",
       "4    The Slain Wood: Papermaking And Its Environmen...   \n",
       "..                                                 ...   \n",
       "192      Eu Energy Law And Policy: A Critical Account    \n",
       "193  Freedom, Bound: Law, Labor, And Civic Identity...   \n",
       "194  Law, Labor, And Ideology In The Early American...   \n",
       "195  The State And The Unions: Labor Relations, Law...   \n",
       "196  Mississippi River Tragedies: A Century Of Unna...   \n",
       "\n",
       "                                        search string1  \\\n",
       "0             \"(MEASURING SOCIAL WELFARE) (ADLER)\" ~15   \n",
       "1     \"(WELL-BEING AND FAIR DISTRIBUTION) (ADLER)\" ~15   \n",
       "2    \"(NEW FOUNDATIONS OF COST-BENEFIT ANALYSIS) (A...   \n",
       "3           \"(CONSTITUTIONAL AMENDMENTS) (ALBERT)\" ~15   \n",
       "4                        \"(THE SLAIN WOOD) (BOYD)\" ~15   \n",
       "..                                                 ...   \n",
       "192           \"(EU ENERGY LAW AND POLICY) (TALUS)\" ~15   \n",
       "193                   \"(FREEDOM, BOUND) (TOMLINS)\" ~15   \n",
       "194  \"(LAW, LABOR, AND IDEOLOGY IN THE EARLY AMERIC...   \n",
       "195         \"(THE STATE AND THE UNIONS) (TOMLINS)\" ~15   \n",
       "196      \"(MISSISSIPPI RIVER TRAGEDIES) (ZELLMER)\" ~15   \n",
       "\n",
       "                                        search string2  Year  \n",
       "0    \"(MEASURING SOCIAL WELFARE) (AN INTRODUCTION) ...  2019  \n",
       "1    \"(WELL-BEING AND FAIR DISTRIBUTION) (BEYOND) (...  2012  \n",
       "2    \"(NEW FOUNDATIONS OF COST-BENEFIT ANALYSIS) (A...  2006  \n",
       "3    \"(CONSTITUTIONAL AMENDMENTS) (CHANGING CONSTIT...  2019  \n",
       "4          \"(THE SLAIN WOOD) (PAPERMAKING) (BOYD)\" ~15  2015  \n",
       "..                                                 ...   ...  \n",
       "192  \"(EU ENERGY LAW AND POLICY) (CRITICAL ACCOUNT)...  2013  \n",
       "193  \"(FREEDOM, BOUND) (CIVIC IDENTITY) (TOMLINS)\" ~15  2010  \n",
       "194  \"(LAW, LABOR, AND IDEOLOGY IN THE EARLY AMERIC...  1993  \n",
       "195  \"(THE STATE AND THE UNIONS) (LABOR RELATIONS) ...  1985  \n",
       "196  \"(MISSISSIPPI RIVER TRAGEDIES) (UNNATURAL DISA...  2014  \n",
       "\n",
       "[197 rows x 7 columns]"
      ],
      "text/html": "<div>\n<style scoped>\n    .dataframe tbody tr th:only-of-type {\n        vertical-align: middle;\n    }\n\n    .dataframe tbody tr th {\n        vertical-align: top;\n    }\n\n    .dataframe thead th {\n        text-align: right;\n    }\n</style>\n<table border=\"1\" class=\"dataframe\">\n  <thead>\n    <tr style=\"text-align: right;\">\n      <th></th>\n      <th>Professor</th>\n      <th>ID</th>\n      <th>num Coauthors</th>\n      <th>Title</th>\n      <th>search string1</th>\n      <th>search string2</th>\n      <th>Year</th>\n    </tr>\n  </thead>\n  <tbody>\n    <tr>\n      <th>0</th>\n      <td>Adler, Matthew</td>\n      <td>0001</td>\n      <td>1</td>\n      <td>Measuring Social Welfare: An Introduction</td>\n      <td>\"(MEASURING SOCIAL WELFARE) (ADLER)\" ~15</td>\n      <td>\"(MEASURING SOCIAL WELFARE) (AN INTRODUCTION) ...</td>\n      <td>2019</td>\n    </tr>\n    <tr>\n      <th>1</th>\n      <td>Adler, Matthew</td>\n      <td>0001</td>\n      <td>1</td>\n      <td>Well-Being And Fair Distribution: Beyond Cost-...</td>\n      <td>\"(WELL-BEING AND FAIR DISTRIBUTION) (ADLER)\" ~15</td>\n      <td>\"(WELL-BEING AND FAIR DISTRIBUTION) (BEYOND) (...</td>\n      <td>2012</td>\n    </tr>\n    <tr>\n      <th>2</th>\n      <td>Adler, Matthew</td>\n      <td>0001</td>\n      <td>2</td>\n      <td>New Foundations Of Cost-Benefit Analysis</td>\n      <td>\"(NEW FOUNDATIONS OF COST-BENEFIT ANALYSIS) (A...</td>\n      <td>\"(NEW FOUNDATIONS OF COST-BENEFIT ANALYSIS) (A...</td>\n      <td>2006</td>\n    </tr>\n    <tr>\n      <th>3</th>\n      <td>Albert, Richard</td>\n      <td>0003</td>\n      <td>1</td>\n      <td>Constitutional Amendments: Making, Breaking, A...</td>\n      <td>\"(CONSTITUTIONAL AMENDMENTS) (ALBERT)\" ~15</td>\n      <td>\"(CONSTITUTIONAL AMENDMENTS) (CHANGING CONSTIT...</td>\n      <td>2019</td>\n    </tr>\n    <tr>\n      <th>4</th>\n      <td>Boyd, William</td>\n      <td>0021</td>\n      <td>1</td>\n      <td>The Slain Wood: Papermaking And Its Environmen...</td>\n      <td>\"(THE SLAIN WOOD) (BOYD)\" ~15</td>\n      <td>\"(THE SLAIN WOOD) (PAPERMAKING) (BOYD)\" ~15</td>\n      <td>2015</td>\n    </tr>\n    <tr>\n      <th>...</th>\n      <td>...</td>\n      <td>...</td>\n      <td>...</td>\n      <td>...</td>\n      <td>...</td>\n      <td>...</td>\n      <td>...</td>\n    </tr>\n    <tr>\n      <th>192</th>\n      <td>Talus, Kim</td>\n      <td>0262</td>\n      <td>1</td>\n      <td>Eu Energy Law And Policy: A Critical Account</td>\n      <td>\"(EU ENERGY LAW AND POLICY) (TALUS)\" ~15</td>\n      <td>\"(EU ENERGY LAW AND POLICY) (CRITICAL ACCOUNT)...</td>\n      <td>2013</td>\n    </tr>\n    <tr>\n      <th>193</th>\n      <td>Tomlins, Christopher</td>\n      <td>0264</td>\n      <td>1</td>\n      <td>Freedom, Bound: Law, Labor, And Civic Identity...</td>\n      <td>\"(FREEDOM, BOUND) (TOMLINS)\" ~15</td>\n      <td>\"(FREEDOM, BOUND) (CIVIC IDENTITY) (TOMLINS)\" ~15</td>\n      <td>2010</td>\n    </tr>\n    <tr>\n      <th>194</th>\n      <td>Tomlins, Christopher</td>\n      <td>0264</td>\n      <td>1</td>\n      <td>Law, Labor, And Ideology In The Early American...</td>\n      <td>\"(LAW, LABOR, AND IDEOLOGY IN THE EARLY AMERIC...</td>\n      <td>\"(LAW, LABOR, AND IDEOLOGY IN THE EARLY AMERIC...</td>\n      <td>1993</td>\n    </tr>\n    <tr>\n      <th>195</th>\n      <td>Tomlins, Christopher</td>\n      <td>0264</td>\n      <td>1</td>\n      <td>The State And The Unions: Labor Relations, Law...</td>\n      <td>\"(THE STATE AND THE UNIONS) (TOMLINS)\" ~15</td>\n      <td>\"(THE STATE AND THE UNIONS) (LABOR RELATIONS) ...</td>\n      <td>1985</td>\n    </tr>\n    <tr>\n      <th>196</th>\n      <td>Zellmer, Sandra</td>\n      <td>0287</td>\n      <td>2</td>\n      <td>Mississippi River Tragedies: A Century Of Unna...</td>\n      <td>\"(MISSISSIPPI RIVER TRAGEDIES) (ZELLMER)\" ~15</td>\n      <td>\"(MISSISSIPPI RIVER TRAGEDIES) (UNNATURAL DISA...</td>\n      <td>2014</td>\n    </tr>\n  </tbody>\n</table>\n<p>197 rows × 7 columns</p>\n</div>"
     },
     "metadata": {},
     "execution_count": 4
    }
   ],
   "source": [
    "# Load the dataset from the input directory\n",
    "book_df = pd.read_excel(input_path / \"book_search.xlsx\")\n",
    "book_df['ID'] = book_df['ID'].apply(lambda x: '{0:0>4}'.format(x))\n",
    "\n",
    "# Check to see if the file for the alternate names data already exists.\n",
    "# If it does, we only want to look for the missing observations\n",
    "book_df_cur = intr_path / \"_book_df.xlsx\"\n",
    "if book_df_cur.exists():\n",
    "    print(\"Data already exists. Names that have already been scraped will be skipped\")\n",
    "    # Set the append flag to 1\n",
    "    append = 1\n",
    "    # Create the dataset of existing alt names.\n",
    "    book_df_existing_data = pd.read_excel(book_df_cur)\n",
    "    book_df_existing_data['ID'] = book_df_existing_data['ID'].apply(lambda x: '{0:0>4}'.format(x))\n",
    "    # Complete a left outer join of the existing alt names and the lateral/control data to get \n",
    "    # a list of the names that we still need to scrape alt names for.\n",
    "    data = pd.merge(book_df, book_df_existing_data[[\"ID\", \"Title\"]], how = \"outer\", left_on = [\"ID\", \"Title\"], right_on = [\"ID\", \"Title\"], indicator=True)\n",
    "    data = data[data['_merge'] == 'left_only']\n",
    "    data = data.drop([\"_merge\"], axis = 1)\n",
    "else:\n",
    "    # Set the append flag to zero because we won't have any data to append\n",
    "    append = 0\n",
    "    data = book_df\n",
    "\n",
    "data"
   ]
  },
  {
   "cell_type": "code",
   "execution_count": 7,
   "metadata": {},
   "outputs": [
    {
     "output_type": "error",
     "ename": "NoSuchElementException",
     "evalue": "Message: no such element: Unable to locate element: {\"method\":\"xpath\",\"selector\":\"//*[@id=\"full_text_advanced_search_box\"]/div[3]/div/button[1]\"}\n  (Session info: chrome=91.0.4472.77)\n",
     "traceback": [
      "\u001b[1;31m---------------------------------------------------------------------------\u001b[0m",
      "\u001b[1;31mNoSuchElementException\u001b[0m                    Traceback (most recent call last)",
      "\u001b[1;32m<ipython-input-7-127adb8049e1>\u001b[0m in \u001b[0;36m<module>\u001b[1;34m\u001b[0m\n\u001b[0;32m      1\u001b[0m \u001b[1;31m# Search for each string and save the results to the dataset\u001b[0m\u001b[1;33m\u001b[0m\u001b[1;33m\u001b[0m\u001b[1;33m\u001b[0m\u001b[0m\n\u001b[1;32m----> 2\u001b[1;33m \u001b[0mdata\u001b[0m\u001b[1;33m[\u001b[0m\u001b[1;34m\"Results String1\"\u001b[0m\u001b[1;33m]\u001b[0m \u001b[1;33m=\u001b[0m \u001b[0mdata\u001b[0m\u001b[1;33m.\u001b[0m\u001b[0mapply\u001b[0m\u001b[1;33m(\u001b[0m\u001b[1;32mlambda\u001b[0m \u001b[0mx\u001b[0m\u001b[1;33m:\u001b[0m \u001b[0msearch_hein_for_books\u001b[0m\u001b[1;33m(\u001b[0m\u001b[0mx\u001b[0m\u001b[1;33m[\u001b[0m\u001b[1;34m\"search string1\"\u001b[0m\u001b[1;33m]\u001b[0m\u001b[1;33m,\u001b[0m \u001b[0mx\u001b[0m\u001b[1;33m[\u001b[0m\u001b[1;34m\"Year\"\u001b[0m\u001b[1;33m]\u001b[0m\u001b[1;33m,\u001b[0m \u001b[0mdriver\u001b[0m\u001b[1;33m)\u001b[0m\u001b[1;33m,\u001b[0m \u001b[0maxis\u001b[0m \u001b[1;33m=\u001b[0m \u001b[1;36m1\u001b[0m\u001b[1;33m)\u001b[0m\u001b[1;33m\u001b[0m\u001b[1;33m\u001b[0m\u001b[0m\n\u001b[0m\u001b[0;32m      3\u001b[0m \u001b[0mdata\u001b[0m\u001b[1;33m[\u001b[0m\u001b[1;34m\"Results String2\"\u001b[0m\u001b[1;33m]\u001b[0m \u001b[1;33m=\u001b[0m \u001b[0mdata\u001b[0m\u001b[1;33m.\u001b[0m\u001b[0mapply\u001b[0m\u001b[1;33m(\u001b[0m\u001b[1;32mlambda\u001b[0m \u001b[0mx\u001b[0m\u001b[1;33m:\u001b[0m \u001b[0msearch_hein_for_books\u001b[0m\u001b[1;33m(\u001b[0m\u001b[0mx\u001b[0m\u001b[1;33m[\u001b[0m\u001b[1;34m\"search string2\"\u001b[0m\u001b[1;33m]\u001b[0m\u001b[1;33m,\u001b[0m \u001b[0mx\u001b[0m\u001b[1;33m[\u001b[0m\u001b[1;34m\"Year\"\u001b[0m\u001b[1;33m]\u001b[0m\u001b[1;33m,\u001b[0m \u001b[0mdriver\u001b[0m\u001b[1;33m)\u001b[0m\u001b[1;33m,\u001b[0m \u001b[0maxis\u001b[0m \u001b[1;33m=\u001b[0m \u001b[1;36m1\u001b[0m\u001b[1;33m)\u001b[0m\u001b[1;33m\u001b[0m\u001b[1;33m\u001b[0m\u001b[0m\n",
      "\u001b[1;32m~\\anaconda3\\envs\\selenium_env\\lib\\site-packages\\pandas\\core\\frame.py\u001b[0m in \u001b[0;36mapply\u001b[1;34m(self, func, axis, raw, result_type, args, **kwds)\u001b[0m\n\u001b[0;32m   7546\u001b[0m             \u001b[0mkwds\u001b[0m\u001b[1;33m=\u001b[0m\u001b[0mkwds\u001b[0m\u001b[1;33m,\u001b[0m\u001b[1;33m\u001b[0m\u001b[1;33m\u001b[0m\u001b[0m\n\u001b[0;32m   7547\u001b[0m         )\n\u001b[1;32m-> 7548\u001b[1;33m         \u001b[1;32mreturn\u001b[0m \u001b[0mop\u001b[0m\u001b[1;33m.\u001b[0m\u001b[0mget_result\u001b[0m\u001b[1;33m(\u001b[0m\u001b[1;33m)\u001b[0m\u001b[1;33m\u001b[0m\u001b[1;33m\u001b[0m\u001b[0m\n\u001b[0m\u001b[0;32m   7549\u001b[0m \u001b[1;33m\u001b[0m\u001b[0m\n\u001b[0;32m   7550\u001b[0m     \u001b[1;32mdef\u001b[0m \u001b[0mapplymap\u001b[0m\u001b[1;33m(\u001b[0m\u001b[0mself\u001b[0m\u001b[1;33m,\u001b[0m \u001b[0mfunc\u001b[0m\u001b[1;33m)\u001b[0m \u001b[1;33m->\u001b[0m \u001b[1;34m\"DataFrame\"\u001b[0m\u001b[1;33m:\u001b[0m\u001b[1;33m\u001b[0m\u001b[1;33m\u001b[0m\u001b[0m\n",
      "\u001b[1;32m~\\anaconda3\\envs\\selenium_env\\lib\\site-packages\\pandas\\core\\apply.py\u001b[0m in \u001b[0;36mget_result\u001b[1;34m(self)\u001b[0m\n\u001b[0;32m    178\u001b[0m             \u001b[1;32mreturn\u001b[0m \u001b[0mself\u001b[0m\u001b[1;33m.\u001b[0m\u001b[0mapply_raw\u001b[0m\u001b[1;33m(\u001b[0m\u001b[1;33m)\u001b[0m\u001b[1;33m\u001b[0m\u001b[1;33m\u001b[0m\u001b[0m\n\u001b[0;32m    179\u001b[0m \u001b[1;33m\u001b[0m\u001b[0m\n\u001b[1;32m--> 180\u001b[1;33m         \u001b[1;32mreturn\u001b[0m \u001b[0mself\u001b[0m\u001b[1;33m.\u001b[0m\u001b[0mapply_standard\u001b[0m\u001b[1;33m(\u001b[0m\u001b[1;33m)\u001b[0m\u001b[1;33m\u001b[0m\u001b[1;33m\u001b[0m\u001b[0m\n\u001b[0m\u001b[0;32m    181\u001b[0m \u001b[1;33m\u001b[0m\u001b[0m\n\u001b[0;32m    182\u001b[0m     \u001b[1;32mdef\u001b[0m \u001b[0mapply_empty_result\u001b[0m\u001b[1;33m(\u001b[0m\u001b[0mself\u001b[0m\u001b[1;33m)\u001b[0m\u001b[1;33m:\u001b[0m\u001b[1;33m\u001b[0m\u001b[1;33m\u001b[0m\u001b[0m\n",
      "\u001b[1;32m~\\anaconda3\\envs\\selenium_env\\lib\\site-packages\\pandas\\core\\apply.py\u001b[0m in \u001b[0;36mapply_standard\u001b[1;34m(self)\u001b[0m\n\u001b[0;32m    269\u001b[0m \u001b[1;33m\u001b[0m\u001b[0m\n\u001b[0;32m    270\u001b[0m     \u001b[1;32mdef\u001b[0m \u001b[0mapply_standard\u001b[0m\u001b[1;33m(\u001b[0m\u001b[0mself\u001b[0m\u001b[1;33m)\u001b[0m\u001b[1;33m:\u001b[0m\u001b[1;33m\u001b[0m\u001b[1;33m\u001b[0m\u001b[0m\n\u001b[1;32m--> 271\u001b[1;33m         \u001b[0mresults\u001b[0m\u001b[1;33m,\u001b[0m \u001b[0mres_index\u001b[0m \u001b[1;33m=\u001b[0m \u001b[0mself\u001b[0m\u001b[1;33m.\u001b[0m\u001b[0mapply_series_generator\u001b[0m\u001b[1;33m(\u001b[0m\u001b[1;33m)\u001b[0m\u001b[1;33m\u001b[0m\u001b[1;33m\u001b[0m\u001b[0m\n\u001b[0m\u001b[0;32m    272\u001b[0m \u001b[1;33m\u001b[0m\u001b[0m\n\u001b[0;32m    273\u001b[0m         \u001b[1;31m# wrap results\u001b[0m\u001b[1;33m\u001b[0m\u001b[1;33m\u001b[0m\u001b[1;33m\u001b[0m\u001b[0m\n",
      "\u001b[1;32m~\\anaconda3\\envs\\selenium_env\\lib\\site-packages\\pandas\\core\\apply.py\u001b[0m in \u001b[0;36mapply_series_generator\u001b[1;34m(self)\u001b[0m\n\u001b[0;32m    298\u001b[0m                 \u001b[1;32mfor\u001b[0m \u001b[0mi\u001b[0m\u001b[1;33m,\u001b[0m \u001b[0mv\u001b[0m \u001b[1;32min\u001b[0m \u001b[0menumerate\u001b[0m\u001b[1;33m(\u001b[0m\u001b[0mseries_gen\u001b[0m\u001b[1;33m)\u001b[0m\u001b[1;33m:\u001b[0m\u001b[1;33m\u001b[0m\u001b[1;33m\u001b[0m\u001b[0m\n\u001b[0;32m    299\u001b[0m                     \u001b[1;31m# ignore SettingWithCopy here in case the user mutates\u001b[0m\u001b[1;33m\u001b[0m\u001b[1;33m\u001b[0m\u001b[1;33m\u001b[0m\u001b[0m\n\u001b[1;32m--> 300\u001b[1;33m                     \u001b[0mresults\u001b[0m\u001b[1;33m[\u001b[0m\u001b[0mi\u001b[0m\u001b[1;33m]\u001b[0m \u001b[1;33m=\u001b[0m \u001b[0mself\u001b[0m\u001b[1;33m.\u001b[0m\u001b[0mf\u001b[0m\u001b[1;33m(\u001b[0m\u001b[0mv\u001b[0m\u001b[1;33m)\u001b[0m\u001b[1;33m\u001b[0m\u001b[1;33m\u001b[0m\u001b[0m\n\u001b[0m\u001b[0;32m    301\u001b[0m                     \u001b[1;32mif\u001b[0m \u001b[0misinstance\u001b[0m\u001b[1;33m(\u001b[0m\u001b[0mresults\u001b[0m\u001b[1;33m[\u001b[0m\u001b[0mi\u001b[0m\u001b[1;33m]\u001b[0m\u001b[1;33m,\u001b[0m \u001b[0mABCSeries\u001b[0m\u001b[1;33m)\u001b[0m\u001b[1;33m:\u001b[0m\u001b[1;33m\u001b[0m\u001b[1;33m\u001b[0m\u001b[0m\n\u001b[0;32m    302\u001b[0m                         \u001b[1;31m# If we have a view on v, we need to make a copy because\u001b[0m\u001b[1;33m\u001b[0m\u001b[1;33m\u001b[0m\u001b[1;33m\u001b[0m\u001b[0m\n",
      "\u001b[1;32m<ipython-input-7-127adb8049e1>\u001b[0m in \u001b[0;36m<lambda>\u001b[1;34m(x)\u001b[0m\n\u001b[0;32m      1\u001b[0m \u001b[1;31m# Search for each string and save the results to the dataset\u001b[0m\u001b[1;33m\u001b[0m\u001b[1;33m\u001b[0m\u001b[1;33m\u001b[0m\u001b[0m\n\u001b[1;32m----> 2\u001b[1;33m \u001b[0mdata\u001b[0m\u001b[1;33m[\u001b[0m\u001b[1;34m\"Results String1\"\u001b[0m\u001b[1;33m]\u001b[0m \u001b[1;33m=\u001b[0m \u001b[0mdata\u001b[0m\u001b[1;33m.\u001b[0m\u001b[0mapply\u001b[0m\u001b[1;33m(\u001b[0m\u001b[1;32mlambda\u001b[0m \u001b[0mx\u001b[0m\u001b[1;33m:\u001b[0m \u001b[0msearch_hein_for_books\u001b[0m\u001b[1;33m(\u001b[0m\u001b[0mx\u001b[0m\u001b[1;33m[\u001b[0m\u001b[1;34m\"search string1\"\u001b[0m\u001b[1;33m]\u001b[0m\u001b[1;33m,\u001b[0m \u001b[0mx\u001b[0m\u001b[1;33m[\u001b[0m\u001b[1;34m\"Year\"\u001b[0m\u001b[1;33m]\u001b[0m\u001b[1;33m,\u001b[0m \u001b[0mdriver\u001b[0m\u001b[1;33m)\u001b[0m\u001b[1;33m,\u001b[0m \u001b[0maxis\u001b[0m \u001b[1;33m=\u001b[0m \u001b[1;36m1\u001b[0m\u001b[1;33m)\u001b[0m\u001b[1;33m\u001b[0m\u001b[1;33m\u001b[0m\u001b[0m\n\u001b[0m\u001b[0;32m      3\u001b[0m \u001b[0mdata\u001b[0m\u001b[1;33m[\u001b[0m\u001b[1;34m\"Results String2\"\u001b[0m\u001b[1;33m]\u001b[0m \u001b[1;33m=\u001b[0m \u001b[0mdata\u001b[0m\u001b[1;33m.\u001b[0m\u001b[0mapply\u001b[0m\u001b[1;33m(\u001b[0m\u001b[1;32mlambda\u001b[0m \u001b[0mx\u001b[0m\u001b[1;33m:\u001b[0m \u001b[0msearch_hein_for_books\u001b[0m\u001b[1;33m(\u001b[0m\u001b[0mx\u001b[0m\u001b[1;33m[\u001b[0m\u001b[1;34m\"search string2\"\u001b[0m\u001b[1;33m]\u001b[0m\u001b[1;33m,\u001b[0m \u001b[0mx\u001b[0m\u001b[1;33m[\u001b[0m\u001b[1;34m\"Year\"\u001b[0m\u001b[1;33m]\u001b[0m\u001b[1;33m,\u001b[0m \u001b[0mdriver\u001b[0m\u001b[1;33m)\u001b[0m\u001b[1;33m,\u001b[0m \u001b[0maxis\u001b[0m \u001b[1;33m=\u001b[0m \u001b[1;36m1\u001b[0m\u001b[1;33m)\u001b[0m\u001b[1;33m\u001b[0m\u001b[1;33m\u001b[0m\u001b[0m\n",
      "\u001b[1;32mc:\\Users\\marti\\OneDrive\\Documents\\GitHub\\hein_scraping\\code\\modules\\hein_scraping_functions.py\u001b[0m in \u001b[0;36msearch_hein_for_books\u001b[1;34m(search_text, year, driver)\u001b[0m\n\u001b[0;32m     46\u001b[0m \u001b[1;33m\u001b[0m\u001b[0m\n\u001b[0;32m     47\u001b[0m     \u001b[1;31m# Click the search button\u001b[0m\u001b[1;33m\u001b[0m\u001b[1;33m\u001b[0m\u001b[1;33m\u001b[0m\u001b[0m\n\u001b[1;32m---> 48\u001b[1;33m     \u001b[0msearch\u001b[0m \u001b[1;33m=\u001b[0m \u001b[0mdriver\u001b[0m\u001b[1;33m.\u001b[0m\u001b[0mfind_element_by_xpath\u001b[0m\u001b[1;33m(\u001b[0m\u001b[1;34m'//*[@id=\"full_text_advanced_search_box\"]/div[3]/div/button[1]'\u001b[0m\u001b[1;33m)\u001b[0m\u001b[1;33m.\u001b[0m\u001b[0mclick\u001b[0m\u001b[1;33m(\u001b[0m\u001b[1;33m)\u001b[0m\u001b[1;33m\u001b[0m\u001b[1;33m\u001b[0m\u001b[0m\n\u001b[0m\u001b[0;32m     49\u001b[0m     \u001b[1;32mtry\u001b[0m\u001b[1;33m:\u001b[0m\u001b[1;33m\u001b[0m\u001b[1;33m\u001b[0m\u001b[0m\n\u001b[0;32m     50\u001b[0m         \u001b[1;31m# Look for the number of results pannel\u001b[0m\u001b[1;33m\u001b[0m\u001b[1;33m\u001b[0m\u001b[1;33m\u001b[0m\u001b[0m\n",
      "\u001b[1;32m~\\anaconda3\\envs\\selenium_env\\lib\\site-packages\\selenium\\webdriver\\remote\\webdriver.py\u001b[0m in \u001b[0;36mfind_element_by_xpath\u001b[1;34m(self, xpath)\u001b[0m\n\u001b[0;32m    392\u001b[0m             \u001b[0melement\u001b[0m \u001b[1;33m=\u001b[0m \u001b[0mdriver\u001b[0m\u001b[1;33m.\u001b[0m\u001b[0mfind_element_by_xpath\u001b[0m\u001b[1;33m(\u001b[0m\u001b[1;34m'//div/td[1]'\u001b[0m\u001b[1;33m)\u001b[0m\u001b[1;33m\u001b[0m\u001b[1;33m\u001b[0m\u001b[0m\n\u001b[0;32m    393\u001b[0m         \"\"\"\n\u001b[1;32m--> 394\u001b[1;33m         \u001b[1;32mreturn\u001b[0m \u001b[0mself\u001b[0m\u001b[1;33m.\u001b[0m\u001b[0mfind_element\u001b[0m\u001b[1;33m(\u001b[0m\u001b[0mby\u001b[0m\u001b[1;33m=\u001b[0m\u001b[0mBy\u001b[0m\u001b[1;33m.\u001b[0m\u001b[0mXPATH\u001b[0m\u001b[1;33m,\u001b[0m \u001b[0mvalue\u001b[0m\u001b[1;33m=\u001b[0m\u001b[0mxpath\u001b[0m\u001b[1;33m)\u001b[0m\u001b[1;33m\u001b[0m\u001b[1;33m\u001b[0m\u001b[0m\n\u001b[0m\u001b[0;32m    395\u001b[0m \u001b[1;33m\u001b[0m\u001b[0m\n\u001b[0;32m    396\u001b[0m     \u001b[1;32mdef\u001b[0m \u001b[0mfind_elements_by_xpath\u001b[0m\u001b[1;33m(\u001b[0m\u001b[0mself\u001b[0m\u001b[1;33m,\u001b[0m \u001b[0mxpath\u001b[0m\u001b[1;33m)\u001b[0m\u001b[1;33m:\u001b[0m\u001b[1;33m\u001b[0m\u001b[1;33m\u001b[0m\u001b[0m\n",
      "\u001b[1;32m~\\anaconda3\\envs\\selenium_env\\lib\\site-packages\\selenium\\webdriver\\remote\\webdriver.py\u001b[0m in \u001b[0;36mfind_element\u001b[1;34m(self, by, value)\u001b[0m\n\u001b[0;32m    974\u001b[0m                 \u001b[0mby\u001b[0m \u001b[1;33m=\u001b[0m \u001b[0mBy\u001b[0m\u001b[1;33m.\u001b[0m\u001b[0mCSS_SELECTOR\u001b[0m\u001b[1;33m\u001b[0m\u001b[1;33m\u001b[0m\u001b[0m\n\u001b[0;32m    975\u001b[0m                 \u001b[0mvalue\u001b[0m \u001b[1;33m=\u001b[0m \u001b[1;34m'[name=\"%s\"]'\u001b[0m \u001b[1;33m%\u001b[0m \u001b[0mvalue\u001b[0m\u001b[1;33m\u001b[0m\u001b[1;33m\u001b[0m\u001b[0m\n\u001b[1;32m--> 976\u001b[1;33m         return self.execute(Command.FIND_ELEMENT, {\n\u001b[0m\u001b[0;32m    977\u001b[0m             \u001b[1;34m'using'\u001b[0m\u001b[1;33m:\u001b[0m \u001b[0mby\u001b[0m\u001b[1;33m,\u001b[0m\u001b[1;33m\u001b[0m\u001b[1;33m\u001b[0m\u001b[0m\n\u001b[0;32m    978\u001b[0m             'value': value})['value']\n",
      "\u001b[1;32m~\\anaconda3\\envs\\selenium_env\\lib\\site-packages\\selenium\\webdriver\\remote\\webdriver.py\u001b[0m in \u001b[0;36mexecute\u001b[1;34m(self, driver_command, params)\u001b[0m\n\u001b[0;32m    319\u001b[0m         \u001b[0mresponse\u001b[0m \u001b[1;33m=\u001b[0m \u001b[0mself\u001b[0m\u001b[1;33m.\u001b[0m\u001b[0mcommand_executor\u001b[0m\u001b[1;33m.\u001b[0m\u001b[0mexecute\u001b[0m\u001b[1;33m(\u001b[0m\u001b[0mdriver_command\u001b[0m\u001b[1;33m,\u001b[0m \u001b[0mparams\u001b[0m\u001b[1;33m)\u001b[0m\u001b[1;33m\u001b[0m\u001b[1;33m\u001b[0m\u001b[0m\n\u001b[0;32m    320\u001b[0m         \u001b[1;32mif\u001b[0m \u001b[0mresponse\u001b[0m\u001b[1;33m:\u001b[0m\u001b[1;33m\u001b[0m\u001b[1;33m\u001b[0m\u001b[0m\n\u001b[1;32m--> 321\u001b[1;33m             \u001b[0mself\u001b[0m\u001b[1;33m.\u001b[0m\u001b[0merror_handler\u001b[0m\u001b[1;33m.\u001b[0m\u001b[0mcheck_response\u001b[0m\u001b[1;33m(\u001b[0m\u001b[0mresponse\u001b[0m\u001b[1;33m)\u001b[0m\u001b[1;33m\u001b[0m\u001b[1;33m\u001b[0m\u001b[0m\n\u001b[0m\u001b[0;32m    322\u001b[0m             response['value'] = self._unwrap_value(\n\u001b[0;32m    323\u001b[0m                 response.get('value', None))\n",
      "\u001b[1;32m~\\anaconda3\\envs\\selenium_env\\lib\\site-packages\\selenium\\webdriver\\remote\\errorhandler.py\u001b[0m in \u001b[0;36mcheck_response\u001b[1;34m(self, response)\u001b[0m\n\u001b[0;32m    240\u001b[0m                 \u001b[0malert_text\u001b[0m \u001b[1;33m=\u001b[0m \u001b[0mvalue\u001b[0m\u001b[1;33m[\u001b[0m\u001b[1;34m'alert'\u001b[0m\u001b[1;33m]\u001b[0m\u001b[1;33m.\u001b[0m\u001b[0mget\u001b[0m\u001b[1;33m(\u001b[0m\u001b[1;34m'text'\u001b[0m\u001b[1;33m)\u001b[0m\u001b[1;33m\u001b[0m\u001b[1;33m\u001b[0m\u001b[0m\n\u001b[0;32m    241\u001b[0m             \u001b[1;32mraise\u001b[0m \u001b[0mexception_class\u001b[0m\u001b[1;33m(\u001b[0m\u001b[0mmessage\u001b[0m\u001b[1;33m,\u001b[0m \u001b[0mscreen\u001b[0m\u001b[1;33m,\u001b[0m \u001b[0mstacktrace\u001b[0m\u001b[1;33m,\u001b[0m \u001b[0malert_text\u001b[0m\u001b[1;33m)\u001b[0m\u001b[1;33m\u001b[0m\u001b[1;33m\u001b[0m\u001b[0m\n\u001b[1;32m--> 242\u001b[1;33m         \u001b[1;32mraise\u001b[0m \u001b[0mexception_class\u001b[0m\u001b[1;33m(\u001b[0m\u001b[0mmessage\u001b[0m\u001b[1;33m,\u001b[0m \u001b[0mscreen\u001b[0m\u001b[1;33m,\u001b[0m \u001b[0mstacktrace\u001b[0m\u001b[1;33m)\u001b[0m\u001b[1;33m\u001b[0m\u001b[1;33m\u001b[0m\u001b[0m\n\u001b[0m\u001b[0;32m    243\u001b[0m \u001b[1;33m\u001b[0m\u001b[0m\n\u001b[0;32m    244\u001b[0m     \u001b[1;32mdef\u001b[0m \u001b[0m_value_or_default\u001b[0m\u001b[1;33m(\u001b[0m\u001b[0mself\u001b[0m\u001b[1;33m,\u001b[0m \u001b[0mobj\u001b[0m\u001b[1;33m,\u001b[0m \u001b[0mkey\u001b[0m\u001b[1;33m,\u001b[0m \u001b[0mdefault\u001b[0m\u001b[1;33m)\u001b[0m\u001b[1;33m:\u001b[0m\u001b[1;33m\u001b[0m\u001b[1;33m\u001b[0m\u001b[0m\n",
      "\u001b[1;31mNoSuchElementException\u001b[0m: Message: no such element: Unable to locate element: {\"method\":\"xpath\",\"selector\":\"//*[@id=\"full_text_advanced_search_box\"]/div[3]/div/button[1]\"}\n  (Session info: chrome=91.0.4472.77)\n"
     ]
    }
   ],
   "source": [
    "# Search for each string and save the results to the dataset\n",
    "data[\"Results String1\"] = data.apply(lambda x: search_hein_for_books(x[\"search string1\"], x[\"Year\"], driver), axis = 1)\n",
    "data[\"Results String2\"] = data.apply(lambda x: search_hein_for_books(x[\"search string2\"], x[\"Year\"], driver), axis = 1)"
   ]
  },
  {
   "cell_type": "code",
   "execution_count": null,
   "metadata": {},
   "outputs": [],
   "source": [
    "# Export to Excel\n",
    "data.to_excel(intr_path / \"_book_df.xlsx\", index = False)"
   ]
  },
  {
   "cell_type": "code",
   "execution_count": null,
   "metadata": {},
   "outputs": [],
   "source": []
  }
 ]
}
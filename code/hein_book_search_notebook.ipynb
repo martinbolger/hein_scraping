{
 "metadata": {
  "language_info": {
   "codemirror_mode": {
    "name": "ipython",
    "version": 3
   },
   "file_extension": ".py",
   "mimetype": "text/x-python",
   "name": "python",
   "nbconvert_exporter": "python",
   "pygments_lexer": "ipython3",
   "version": "3.8.5-final"
  },
  "orig_nbformat": 2,
  "kernelspec": {
   "name": "python3",
   "display_name": "Python 3.8.5 64-bit ('selenium_env': conda)",
   "metadata": {
    "interpreter": {
     "hash": "a6b47012f14d21a47a116f37ec44e00a94b21aded5509aefe8b70d4e685c6dab"
    }
   }
  }
 },
 "nbformat": 4,
 "nbformat_minor": 2,
 "cells": [
  {
   "cell_type": "code",
   "execution_count": 1,
   "metadata": {},
   "outputs": [],
   "source": [
    "from selenium import webdriver\n",
    "from selenium.webdriver.chrome.options import Options\n",
    "import pandas as pd\n",
    "import bs4 as bs\n",
    "import os\n",
    "import numpy as np\n",
    "import re\n",
    "import time\n",
    "from selenium.webdriver.common.keys import Keys\n",
    "import nltk\n",
    "import requests\n",
    "import random\n",
    "import math\n",
    "import pathlib \n",
    "import modules.hein_scraping_functions\n",
    "\n",
    "from modules.create_path import create_path\n",
    "from modules.hein_scraping_functions import create_browser, webpage_wait, search_hein"
   ]
  },
  {
   "cell_type": "code",
   "execution_count": 2,
   "metadata": {},
   "outputs": [],
   "source": [
    "# Create the paths for the data directories\n",
    "input_path, work_path, intr_path, out_path, selenium_driver_path = create_path()\n",
    "\n",
    "# Create the paths for the Chrome binary and selenium driver\n",
    "chrome_binary_path = pathlib.Path(\"C:\\\\Program Files (x86)\\\\BraveSoftware\\\\Brave-Browser\\\\Application\\\\brave.exe\")\n",
    "selenium_driver_full_path = selenium_driver_path / \"chromedriver.exe\"\n",
    "\n",
    "# Initalize the browsers that we are going to use\n",
    "driver = create_browser(chrome_binary_path, selenium_driver_full_path)\n",
    "\n",
    "driver.get(\"http://proxy.its.virginia.edu/login?url=http://heinonline.org/HOL/Welcome\")\n"
   ]
  },
  {
   "cell_type": "code",
   "execution_count": 13,
   "metadata": {},
   "outputs": [
    {
     "output_type": "execute_result",
     "data": {
      "text/plain": [
       "                Professor     Last     ID  num Coauthors  \\\n",
       "0          Adler, Matthew    Adler    1.0              1   \n",
       "1          Adler, Matthew    Adler    1.0              1   \n",
       "2          Adler, Matthew    Adler    1.0              1   \n",
       "3         Albert, Richard   Albert    3.0              1   \n",
       "4           Boyd, William     Boyd   21.0              1   \n",
       "..                    ...      ...    ...            ...   \n",
       "208  Tomlins, Christopher  Tomlins  264.0              1   \n",
       "209  Tomlins, Christopher  Tomlins  264.0              1   \n",
       "210  Tomlins, Christopher  Tomlins  264.0              1   \n",
       "211       Zellmer, Sandra  Zellmer  287.0              2   \n",
       "212       Zellmer, Sandra  Zellmer  287.0              1   \n",
       "\n",
       "                                                 Title  \\\n",
       "0            Measuring Social Welfare: An Introduction   \n",
       "1    Well-Being And Fair Distribution: Beyond Cost-...   \n",
       "2             New Foundations Of Cost-Benefit Analysis   \n",
       "3    Constitutional Amendments: Making, Breaking, A...   \n",
       "4    The Slain Wood: Papermaking And Its Environmen...   \n",
       "..                                                 ...   \n",
       "208  Freedom, Bound: Law, Labor, And Civic Identity...   \n",
       "209  Law, Labor, And Ideology In The Early American...   \n",
       "210  The State And The Unions: Labor Relations, Law...   \n",
       "211  Mississippi River Tragedies: A Century Of Unna...   \n",
       "212  Comparative Environmental & Natural Resources Law   \n",
       "\n",
       "                                        search string1  \\\n",
       "0             \"(MEASURING SOCIAL WELFARE) (ADLER)\" ~15   \n",
       "1     \"(WELL-BEING AND FAIR DISTRIBUTION) (ADLER)\" ~15   \n",
       "2    \"(NEW FOUNDATIONS OF COST-BENEFIT ANALYSIS) (A...   \n",
       "3           \"(CONSTITUTIONAL AMENDMENTS) (ALBERT)\" ~15   \n",
       "4                        \"(THE SLAIN WOOD) (BOYD)\" ~15   \n",
       "..                                                 ...   \n",
       "208                   \"(FREEDOM, BOUND) (TOMLINS)\" ~15   \n",
       "209  \"(LAW, LABOR, AND IDEOLOGY IN THE EARLY AMERIC...   \n",
       "210         \"(THE STATE AND THE UNIONS) (TOMLINS)\" ~15   \n",
       "211      \"(MISSISSIPPI RIVER TRAGEDIES) (ZELLMER)\" ~15   \n",
       "212  \"(COMPARATIVE ENVIRONMENTAL & NATURAL RESOURCE...   \n",
       "\n",
       "                                        search string2  \n",
       "0    \"(MEASURING SOCIAL WELFARE: AN INTRODUCTION) (...  \n",
       "1    \"(WELL-BEING AND FAIR DISTRIBUTION: BEYOND COS...  \n",
       "2    \"(NEW FOUNDATIONS OF COST-BENEFIT ANALYSIS) (A...  \n",
       "3    \"(CONSTITUTIONAL AMENDMENTS: MAKING, BREAKING,...  \n",
       "4    \"(THE SLAIN WOOD: PAPERMAKING AND ITS ENVIRONM...  \n",
       "..                                                 ...  \n",
       "208  \"(FREEDOM, BOUND: LAW, LABOR, AND CIVIC IDENTI...  \n",
       "209  \"(LAW, LABOR, AND IDEOLOGY IN THE EARLY AMERIC...  \n",
       "210  \"(THE STATE AND THE UNIONS: LABOR RELATIONS, L...  \n",
       "211  \"(MISSISSIPPI RIVER TRAGEDIES: A CENTURY OF UN...  \n",
       "212  \"(COMPARATIVE ENVIRONMENTAL & NATURAL RESOURCE...  \n",
       "\n",
       "[213 rows x 7 columns]"
      ],
      "text/html": "<div>\n<style scoped>\n    .dataframe tbody tr th:only-of-type {\n        vertical-align: middle;\n    }\n\n    .dataframe tbody tr th {\n        vertical-align: top;\n    }\n\n    .dataframe thead th {\n        text-align: right;\n    }\n</style>\n<table border=\"1\" class=\"dataframe\">\n  <thead>\n    <tr style=\"text-align: right;\">\n      <th></th>\n      <th>Professor</th>\n      <th>Last</th>\n      <th>ID</th>\n      <th>num Coauthors</th>\n      <th>Title</th>\n      <th>search string1</th>\n      <th>search string2</th>\n    </tr>\n  </thead>\n  <tbody>\n    <tr>\n      <th>0</th>\n      <td>Adler, Matthew</td>\n      <td>Adler</td>\n      <td>1.0</td>\n      <td>1</td>\n      <td>Measuring Social Welfare: An Introduction</td>\n      <td>\"(MEASURING SOCIAL WELFARE) (ADLER)\" ~15</td>\n      <td>\"(MEASURING SOCIAL WELFARE: AN INTRODUCTION) (...</td>\n    </tr>\n    <tr>\n      <th>1</th>\n      <td>Adler, Matthew</td>\n      <td>Adler</td>\n      <td>1.0</td>\n      <td>1</td>\n      <td>Well-Being And Fair Distribution: Beyond Cost-...</td>\n      <td>\"(WELL-BEING AND FAIR DISTRIBUTION) (ADLER)\" ~15</td>\n      <td>\"(WELL-BEING AND FAIR DISTRIBUTION: BEYOND COS...</td>\n    </tr>\n    <tr>\n      <th>2</th>\n      <td>Adler, Matthew</td>\n      <td>Adler</td>\n      <td>1.0</td>\n      <td>1</td>\n      <td>New Foundations Of Cost-Benefit Analysis</td>\n      <td>\"(NEW FOUNDATIONS OF COST-BENEFIT ANALYSIS) (A...</td>\n      <td>\"(NEW FOUNDATIONS OF COST-BENEFIT ANALYSIS) (A...</td>\n    </tr>\n    <tr>\n      <th>3</th>\n      <td>Albert, Richard</td>\n      <td>Albert</td>\n      <td>3.0</td>\n      <td>1</td>\n      <td>Constitutional Amendments: Making, Breaking, A...</td>\n      <td>\"(CONSTITUTIONAL AMENDMENTS) (ALBERT)\" ~15</td>\n      <td>\"(CONSTITUTIONAL AMENDMENTS: MAKING, BREAKING,...</td>\n    </tr>\n    <tr>\n      <th>4</th>\n      <td>Boyd, William</td>\n      <td>Boyd</td>\n      <td>21.0</td>\n      <td>1</td>\n      <td>The Slain Wood: Papermaking And Its Environmen...</td>\n      <td>\"(THE SLAIN WOOD) (BOYD)\" ~15</td>\n      <td>\"(THE SLAIN WOOD: PAPERMAKING AND ITS ENVIRONM...</td>\n    </tr>\n    <tr>\n      <th>...</th>\n      <td>...</td>\n      <td>...</td>\n      <td>...</td>\n      <td>...</td>\n      <td>...</td>\n      <td>...</td>\n      <td>...</td>\n    </tr>\n    <tr>\n      <th>208</th>\n      <td>Tomlins, Christopher</td>\n      <td>Tomlins</td>\n      <td>264.0</td>\n      <td>1</td>\n      <td>Freedom, Bound: Law, Labor, And Civic Identity...</td>\n      <td>\"(FREEDOM, BOUND) (TOMLINS)\" ~15</td>\n      <td>\"(FREEDOM, BOUND: LAW, LABOR, AND CIVIC IDENTI...</td>\n    </tr>\n    <tr>\n      <th>209</th>\n      <td>Tomlins, Christopher</td>\n      <td>Tomlins</td>\n      <td>264.0</td>\n      <td>1</td>\n      <td>Law, Labor, And Ideology In The Early American...</td>\n      <td>\"(LAW, LABOR, AND IDEOLOGY IN THE EARLY AMERIC...</td>\n      <td>\"(LAW, LABOR, AND IDEOLOGY IN THE EARLY AMERIC...</td>\n    </tr>\n    <tr>\n      <th>210</th>\n      <td>Tomlins, Christopher</td>\n      <td>Tomlins</td>\n      <td>264.0</td>\n      <td>1</td>\n      <td>The State And The Unions: Labor Relations, Law...</td>\n      <td>\"(THE STATE AND THE UNIONS) (TOMLINS)\" ~15</td>\n      <td>\"(THE STATE AND THE UNIONS: LABOR RELATIONS, L...</td>\n    </tr>\n    <tr>\n      <th>211</th>\n      <td>Zellmer, Sandra</td>\n      <td>Zellmer</td>\n      <td>287.0</td>\n      <td>2</td>\n      <td>Mississippi River Tragedies: A Century Of Unna...</td>\n      <td>\"(MISSISSIPPI RIVER TRAGEDIES) (ZELLMER)\" ~15</td>\n      <td>\"(MISSISSIPPI RIVER TRAGEDIES: A CENTURY OF UN...</td>\n    </tr>\n    <tr>\n      <th>212</th>\n      <td>Zellmer, Sandra</td>\n      <td>Zellmer</td>\n      <td>287.0</td>\n      <td>1</td>\n      <td>Comparative Environmental &amp; Natural Resources Law</td>\n      <td>\"(COMPARATIVE ENVIRONMENTAL &amp; NATURAL RESOURCE...</td>\n      <td>\"(COMPARATIVE ENVIRONMENTAL &amp; NATURAL RESOURCE...</td>\n    </tr>\n  </tbody>\n</table>\n<p>213 rows × 7 columns</p>\n</div>"
     },
     "metadata": {},
     "execution_count": 13
    }
   ],
   "source": [
    "book_df = pd.read_excel(input_path / \"book_search.xlsx\", sheet_name='for martin')\n",
    "book_df"
   ]
  },
  {
   "cell_type": "code",
   "execution_count": 33,
   "metadata": {},
   "outputs": [
    {
     "output_type": "stream",
     "name": "stdout",
     "text": [
      "Data already exists. Names that have already been scraped will be skipped\n"
     ]
    },
    {
     "output_type": "execute_result",
     "data": {
      "text/plain": [
       "                Professor     Last    ID  num Coauthors  \\\n",
       "50       Garrett, Brandon  Garrett  0088              1   \n",
       "51       Garrett, Brandon  Garrett  0088              1   \n",
       "52          Garth, Bryant    Garth  0089              2   \n",
       "53          Garth, Bryant    Garth  0089              2   \n",
       "54          Garth, Bryant    Garth  0089              2   \n",
       "..                    ...      ...   ...            ...   \n",
       "207  Tomlins, Christopher  Tomlins  0264              1   \n",
       "208  Tomlins, Christopher  Tomlins  0264              1   \n",
       "209  Tomlins, Christopher  Tomlins  0264              1   \n",
       "210       Zellmer, Sandra  Zellmer  0287              2   \n",
       "211       Zellmer, Sandra  Zellmer  0287              1   \n",
       "\n",
       "                                                 Title  \\\n",
       "50    Too Big To Jail: How Prosecutors Compromise W...   \n",
       "51    Convicting The Innocent: Where Criminal Prose...   \n",
       "52   Dealing In Virtue: International Commercial Ar...   \n",
       "53   The Internationalization Of Palace Wars: Lawye...   \n",
       "54   Lawyers And The Rule Of Law In An Era Of Globa...   \n",
       "..                                                 ...   \n",
       "207  Freedom, Bound: Law, Labor, And Civic Identity...   \n",
       "208  Law, Labor, And Ideology In The Early American...   \n",
       "209  The State And The Unions: Labor Relations, Law...   \n",
       "210  Mississippi River Tragedies: A Century Of Unna...   \n",
       "211  Comparative Environmental & Natural Resources Law   \n",
       "\n",
       "                                        search string1  \\\n",
       "50                  \"( TOO BIG TO JAIL) (GARRETT)\" ~15   \n",
       "51          \"( CONVICTING THE INNOCENT) (GARRETT)\" ~15   \n",
       "52                   \"(DEALING IN VIRTUE) (GARTH)\" ~15   \n",
       "53   \"(THE INTERNATIONALIZATION OF PALACE WARS) (GA...   \n",
       "54   \"(LAWYERS AND THE RULE OF LAW IN AN ERA OF GLO...   \n",
       "..                                                 ...   \n",
       "207                   \"(FREEDOM, BOUND) (TOMLINS)\" ~15   \n",
       "208  \"(LAW, LABOR, AND IDEOLOGY IN THE EARLY AMERIC...   \n",
       "209         \"(THE STATE AND THE UNIONS) (TOMLINS)\" ~15   \n",
       "210      \"(MISSISSIPPI RIVER TRAGEDIES) (ZELLMER)\" ~15   \n",
       "211  \"(COMPARATIVE ENVIRONMENTAL & NATURAL RESOURCE...   \n",
       "\n",
       "                                        search string2  \n",
       "50   \"( TOO BIG TO JAIL: HOW PROSECUTORS COMPROMISE...  \n",
       "51   \"( CONVICTING THE INNOCENT: WHERE CRIMINAL PRO...  \n",
       "52   \"(DEALING IN VIRTUE: INTERNATIONAL COMMERCIAL ...  \n",
       "53   \"(THE INTERNATIONALIZATION OF PALACE WARS: LAW...  \n",
       "54   \"(LAWYERS AND THE RULE OF LAW IN AN ERA OF GLO...  \n",
       "..                                                 ...  \n",
       "207  \"(FREEDOM, BOUND: LAW, LABOR, AND CIVIC IDENTI...  \n",
       "208  \"(LAW, LABOR, AND IDEOLOGY IN THE EARLY AMERIC...  \n",
       "209  \"(THE STATE AND THE UNIONS: LABOR RELATIONS, L...  \n",
       "210  \"(MISSISSIPPI RIVER TRAGEDIES: A CENTURY OF UN...  \n",
       "211  \"(COMPARATIVE ENVIRONMENTAL & NATURAL RESOURCE...  \n",
       "\n",
       "[162 rows x 7 columns]"
      ],
      "text/html": "<div>\n<style scoped>\n    .dataframe tbody tr th:only-of-type {\n        vertical-align: middle;\n    }\n\n    .dataframe tbody tr th {\n        vertical-align: top;\n    }\n\n    .dataframe thead th {\n        text-align: right;\n    }\n</style>\n<table border=\"1\" class=\"dataframe\">\n  <thead>\n    <tr style=\"text-align: right;\">\n      <th></th>\n      <th>Professor</th>\n      <th>Last</th>\n      <th>ID</th>\n      <th>num Coauthors</th>\n      <th>Title</th>\n      <th>search string1</th>\n      <th>search string2</th>\n    </tr>\n  </thead>\n  <tbody>\n    <tr>\n      <th>50</th>\n      <td>Garrett, Brandon</td>\n      <td>Garrett</td>\n      <td>0088</td>\n      <td>1</td>\n      <td>Too Big To Jail: How Prosecutors Compromise W...</td>\n      <td>\"( TOO BIG TO JAIL) (GARRETT)\" ~15</td>\n      <td>\"( TOO BIG TO JAIL: HOW PROSECUTORS COMPROMISE...</td>\n    </tr>\n    <tr>\n      <th>51</th>\n      <td>Garrett, Brandon</td>\n      <td>Garrett</td>\n      <td>0088</td>\n      <td>1</td>\n      <td>Convicting The Innocent: Where Criminal Prose...</td>\n      <td>\"( CONVICTING THE INNOCENT) (GARRETT)\" ~15</td>\n      <td>\"( CONVICTING THE INNOCENT: WHERE CRIMINAL PRO...</td>\n    </tr>\n    <tr>\n      <th>52</th>\n      <td>Garth, Bryant</td>\n      <td>Garth</td>\n      <td>0089</td>\n      <td>2</td>\n      <td>Dealing In Virtue: International Commercial Ar...</td>\n      <td>\"(DEALING IN VIRTUE) (GARTH)\" ~15</td>\n      <td>\"(DEALING IN VIRTUE: INTERNATIONAL COMMERCIAL ...</td>\n    </tr>\n    <tr>\n      <th>53</th>\n      <td>Garth, Bryant</td>\n      <td>Garth</td>\n      <td>0089</td>\n      <td>2</td>\n      <td>The Internationalization Of Palace Wars: Lawye...</td>\n      <td>\"(THE INTERNATIONALIZATION OF PALACE WARS) (GA...</td>\n      <td>\"(THE INTERNATIONALIZATION OF PALACE WARS: LAW...</td>\n    </tr>\n    <tr>\n      <th>54</th>\n      <td>Garth, Bryant</td>\n      <td>Garth</td>\n      <td>0089</td>\n      <td>2</td>\n      <td>Lawyers And The Rule Of Law In An Era Of Globa...</td>\n      <td>\"(LAWYERS AND THE RULE OF LAW IN AN ERA OF GLO...</td>\n      <td>\"(LAWYERS AND THE RULE OF LAW IN AN ERA OF GLO...</td>\n    </tr>\n    <tr>\n      <th>...</th>\n      <td>...</td>\n      <td>...</td>\n      <td>...</td>\n      <td>...</td>\n      <td>...</td>\n      <td>...</td>\n      <td>...</td>\n    </tr>\n    <tr>\n      <th>207</th>\n      <td>Tomlins, Christopher</td>\n      <td>Tomlins</td>\n      <td>0264</td>\n      <td>1</td>\n      <td>Freedom, Bound: Law, Labor, And Civic Identity...</td>\n      <td>\"(FREEDOM, BOUND) (TOMLINS)\" ~15</td>\n      <td>\"(FREEDOM, BOUND: LAW, LABOR, AND CIVIC IDENTI...</td>\n    </tr>\n    <tr>\n      <th>208</th>\n      <td>Tomlins, Christopher</td>\n      <td>Tomlins</td>\n      <td>0264</td>\n      <td>1</td>\n      <td>Law, Labor, And Ideology In The Early American...</td>\n      <td>\"(LAW, LABOR, AND IDEOLOGY IN THE EARLY AMERIC...</td>\n      <td>\"(LAW, LABOR, AND IDEOLOGY IN THE EARLY AMERIC...</td>\n    </tr>\n    <tr>\n      <th>209</th>\n      <td>Tomlins, Christopher</td>\n      <td>Tomlins</td>\n      <td>0264</td>\n      <td>1</td>\n      <td>The State And The Unions: Labor Relations, Law...</td>\n      <td>\"(THE STATE AND THE UNIONS) (TOMLINS)\" ~15</td>\n      <td>\"(THE STATE AND THE UNIONS: LABOR RELATIONS, L...</td>\n    </tr>\n    <tr>\n      <th>210</th>\n      <td>Zellmer, Sandra</td>\n      <td>Zellmer</td>\n      <td>0287</td>\n      <td>2</td>\n      <td>Mississippi River Tragedies: A Century Of Unna...</td>\n      <td>\"(MISSISSIPPI RIVER TRAGEDIES) (ZELLMER)\" ~15</td>\n      <td>\"(MISSISSIPPI RIVER TRAGEDIES: A CENTURY OF UN...</td>\n    </tr>\n    <tr>\n      <th>211</th>\n      <td>Zellmer, Sandra</td>\n      <td>Zellmer</td>\n      <td>0287</td>\n      <td>1</td>\n      <td>Comparative Environmental &amp; Natural Resources Law</td>\n      <td>\"(COMPARATIVE ENVIRONMENTAL &amp; NATURAL RESOURCE...</td>\n      <td>\"(COMPARATIVE ENVIRONMENTAL &amp; NATURAL RESOURCE...</td>\n    </tr>\n  </tbody>\n</table>\n<p>162 rows × 7 columns</p>\n</div>"
     },
     "metadata": {},
     "execution_count": 33
    }
   ],
   "source": [
    "# Load the dataset from the input directory\n",
    "book_df = pd.read_excel(input_path / \"book_search.xlsx\")\n",
    "book_df['ID'] = book_df['ID'].apply(lambda x: '{0:0>4}'.format(x))\n",
    "\n",
    "# Check to see if the file for the alternate names data already exists.\n",
    "# If it does, we only want to look for the missing observations\n",
    "book_df_cur = intr_path / \"_book_df.xlsx\"\n",
    "if book_df_cur.exists():\n",
    "    print(\"Data already exists. Names that have already been scraped will be skipped\")\n",
    "    # Set the append flag to 1\n",
    "    append = 1\n",
    "    # Create the dataset of existing alt names.\n",
    "    book_df_existing_data = pd.read_excel(book_df_cur)\n",
    "    book_df_existing_data['ID'] = book_df_existing_data['ID'].apply(lambda x: '{0:0>4}'.format(x))\n",
    "    # Complete a left outer join of the existing alt names and the lateral/control data to get \n",
    "    # a list of the names that we still need to scrape alt names for.\n",
    "    data = pd.merge(book_df, book_df_existing_data[[\"ID\", \"Title\"]], how = \"outer\", left_on = [\"ID\", \"Title\"], right_on = [\"ID\", \"Title\"], indicator=True)\n",
    "    data = data[data['_merge'] == 'left_only']\n",
    "    data = data.drop([\"_merge\"], axis = 1)\n",
    "else:\n",
    "    # Set the append flag to zero because we won't have any data to append\n",
    "    append = 0\n",
    "    data = book_df\n",
    "\n",
    "data"
   ]
  },
  {
   "cell_type": "code",
   "execution_count": 4,
   "metadata": {},
   "outputs": [
    {
     "output_type": "stream",
     "name": "stderr",
     "text": [
      "<ipython-input-4-005fe5e6224b>:3: SettingWithCopyWarning: \n",
      "A value is trying to be set on a copy of a slice from a DataFrame.\n",
      "Try using .loc[row_indexer,col_indexer] = value instead\n",
      "\n",
      "See the caveats in the documentation: https://pandas.pydata.org/pandas-docs/stable/user_guide/indexing.html#returning-a-view-versus-a-copy\n",
      "  book_df_subset[\"Results String1\"] = book_df_subset[\"search string1\"].apply(lambda x: search_hein(x, driver)).copy()\n",
      "<ipython-input-4-005fe5e6224b>:4: SettingWithCopyWarning: \n",
      "A value is trying to be set on a copy of a slice from a DataFrame.\n",
      "Try using .loc[row_indexer,col_indexer] = value instead\n",
      "\n",
      "See the caveats in the documentation: https://pandas.pydata.org/pandas-docs/stable/user_guide/indexing.html#returning-a-view-versus-a-copy\n",
      "  book_df_subset[\"Results String2\"] = book_df_subset[\"search string2\"].apply(lambda x: search_hein(x, driver)).copy()\n"
     ]
    }
   ],
   "source": [
    "# Search for each string and save the results to the dataset\n",
    "data = data[:50]\n",
    "data[\"Results String1\"] = data[\"search string1\"].apply(lambda x: search_hein(x, driver)).copy()\n",
    "data[\"Results String2\"] = data[\"search string2\"].apply(lambda x: search_hein(x, driver)).copy()"
   ]
  },
  {
   "cell_type": "code",
   "execution_count": 6,
   "metadata": {},
   "outputs": [],
   "source": [
    "# Export to Excel\n",
    "data.to_excel(intr_path / \"_book_df.xlsx\", index = False)"
   ]
  },
  {
   "cell_type": "code",
   "execution_count": null,
   "metadata": {},
   "outputs": [],
   "source": []
  }
 ]
}
{
 "cells": [
  {
   "cell_type": "code",
   "execution_count": null,
   "metadata": {},
   "outputs": [],
   "source": [
    "# import urllib.request\n",
    "from urllib.request import urlretrieve\n",
    "\n",
    "circuts = [str(x) for x in list(range(1, 12))] + ['dc']\n",
    "for val in circuts: \n",
    "    url = 'https://www.courtlistener.com/api/bulk-data/opinions/ca' + val + '.tar.gz'\n",
    "    file = 'circut_{}.tgz'.format(val)\n",
    "    filename, headers = urlretrieve('https://www.courtlistener.com/api/bulk-data/opinions/ca4.tar.gz', 'test.tgz')"
   ]
  },
  {
   "cell_type": "code",
   "execution_count": null,
   "metadata": {},
   "outputs": [],
   "source": [
    "circuts = [str(x) for x in list(range(1, 12))] + ['dc']\n",
    "circuts"
   ]
  },
  {
   "cell_type": "code",
   "execution_count": null,
   "metadata": {},
   "outputs": [],
   "source": []
  }
 ],
 "metadata": {
  "kernelspec": {
   "display_name": "Python 3",
   "language": "python",
   "name": "python3"
  },
  "language_info": {
   "codemirror_mode": {
    "name": "ipython",
    "version": 3
   },
   "file_extension": ".py",
   "mimetype": "text/x-python",
   "name": "python",
   "nbconvert_exporter": "python",
   "pygments_lexer": "ipython3",
   "version": "3.7.1"
  }
 },
 "nbformat": 4,
 "nbformat_minor": 2
}
